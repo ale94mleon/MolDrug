{
 "cells": [
  {
   "cell_type": "markdown",
   "metadata": {},
   "source": [
    "# Constraint Docking\n",
    "\n",
    "This feature is available since version 2.0.0"
   ]
  },
  {
   "cell_type": "code",
   "execution_count": 1,
   "metadata": {},
   "outputs": [],
   "source": [
    "import tempfile, os, requests, gzip, shutil, yaml\n",
    "from multiprocessing import cpu_count\n",
    "from moldrug.data import ligands, boxes, receptor_pdbqt, receptor_pdb, constraintref\n",
    "from moldrug import utils\n",
    "tmp_path = tempfile.TemporaryDirectory()\n",
    "import numpy as np"
   ]
  },
  {
   "cell_type": "code",
   "execution_count": 2,
   "metadata": {},
   "outputs": [],
   "source": [
    "# Setting the working directory (you could change it but it MUST be an absolute path)\n",
    "wd = tmp_path.name\n",
    "# os.makedirs('wd_tutorial', exist_ok=True)\n",
    "# wd = os.path.abspath('wd_tutorial')\n"
   ]
  },
  {
   "cell_type": "code",
   "execution_count": 3,
   "metadata": {},
   "outputs": [
    {
     "name": "stdout",
     "output_type": "stream",
     "text": [
      "COC(=O)C=1C=CC(=CC1)S(=O)(=O)N\n",
      "{'A': {'boxcenter': [12.11, 1.84, 23.56], 'boxsize': [22.5, 22.5, 22.5]}}\n",
      "/tmp/tmpaxc3g0le ['x0161.pdb', 'ref.sdf', 'crem.db.gz', 'x0161.pdbqt', 'crem.db']\n"
     ]
    }
   ],
   "source": [
    "# Getting the data\n",
    "lig = ligands.r_x0161\n",
    "box = boxes.r_x0161\n",
    "with open(os.path.join(wd, 'x0161.pdbqt'), 'w') as f:\n",
    "    f.write(receptor_pdbqt.r_x0161)\n",
    "with open(os.path.join(wd, 'x0161.pdb'), 'w') as f:\n",
    "    f.write(receptor_pdb.r_x0161)\n",
    "with open(os.path.join(wd, 'ref.sdf'), 'w') as f:\n",
    "    f.write(constraintref.r_x0161)\n",
    "# Getting the CReM data base\n",
    "url = \"http://www.qsar4u.com/files/cremdb/replacements02_sc2.db.gz\"\n",
    "r = requests.get(url, allow_redirects=True)\n",
    "crem_dbgz_path = os.path.join(wd,'crem.db.gz')\n",
    "crem_db_path = os.path.join(wd,'crem.db')\n",
    "open(crem_dbgz_path, 'wb').write(r.content)\n",
    "with gzip.open(crem_dbgz_path, 'rb') as f_in:\n",
    "    with open(crem_db_path, 'wb') as f_out:\n",
    "        shutil.copyfileobj(f_in, f_out)\n",
    "\n",
    "print(lig)\n",
    "print(box)\n",
    "print(wd, os.listdir(wd))"
   ]
  },
  {
   "cell_type": "markdown",
   "metadata": {},
   "source": [
    "## Setting the configuration"
   ]
  },
  {
   "cell_type": "code",
   "execution_count": 4,
   "metadata": {},
   "outputs": [
    {
     "data": {
      "text/plain": [
       "['x0161.pdb', 'ref.sdf', 'crem.db.gz', 'x0161.pdbqt', 'config.yml', 'crem.db']"
      ]
     },
     "execution_count": 4,
     "metadata": {},
     "output_type": "execute_result"
    }
   ],
   "source": [
    "config ={\n",
    "    \"01_grow\": {\n",
    "        \"type\": \"GA\",\n",
    "        \"njobs\": 6,\n",
    "        \"seed_mol\": lig,\n",
    "        \"AddHs\": True,\n",
    "        \"costfunc\": \"Cost\",\n",
    "        \"costfunc_kwargs\": {\n",
    "            \"vina_executable\": \"vina\",\n",
    "            \"receptor_pdbqt_path\": os.path.join(wd, 'x0161.pdbqt'),\n",
    "            \"boxcenter\": box['A']['boxcenter'],\n",
    "            \"boxsize\": box['A']['boxsize'],\n",
    "            \"exhaustiveness\": 4,\n",
    "            \"ncores\": int(cpu_count() / 6),\n",
    "            \"num_modes\": 1,\n",
    "            \"constraint\": True,\n",
    "            \"constraint_type\": \"score_only\", # local_only\n",
    "            \"constraint_ref\": os.path.join(wd, 'ref.sdf'),\n",
    "            \"constraint_receptor_pdb_path\": os.path.join(wd, 'x0161.pdb'),\n",
    "            \"constraint_num_conf\": 100,\n",
    "            \"constraint_minimum_conf_rms\": 0.01\n",
    "        },\n",
    "        \"crem_db_path\": crem_db_path,\n",
    "        \"maxiter\": 5,\n",
    "        \"popsize\": 25,\n",
    "        \"beta\": 0.001,\n",
    "        \"pc\": 1,\n",
    "        \"get_similar\": False,\n",
    "        \"mutate_crem_kwargs\": {\n",
    "            \"radius\": 3,\n",
    "            \"min_size\": 0,\n",
    "            \"max_size\": 0,\n",
    "            \"min_inc\": -5,\n",
    "            \"max_inc\": 6,\n",
    "            \"ncores\": 12\n",
    "        },\n",
    "        \"save_pop_every_gen\": 10,\n",
    "        \"deffnm\": \"01_grow\"\n",
    "    },\n",
    "    \"02_allow_grow\": {\n",
    "        \"mutate_crem_kwargs\": {\n",
    "            \"radius\": 3,\n",
    "            \"min_size\": 0,\n",
    "            \"max_size\": 2,\n",
    "            \"min_inc\": -5,\n",
    "            \"max_inc\": 3,\n",
    "            \"ncores\": 12\n",
    "        },\n",
    "        \"maxiter\": 5,\n",
    "        \"deffnm\": \"02_allow_grow\"\n",
    "    },\n",
    "    \"03_pure_mutate\": {\n",
    "        \"mutate_crem_kwargs\": {\n",
    "            \"radius\": 3,\n",
    "            \"min_size\": 1,\n",
    "            \"max_size\": 8,\n",
    "            \"min_inc\": -5,\n",
    "            \"max_inc\": 3,\n",
    "            \"ncores\": 12\n",
    "        },\n",
    "        \"maxiter\": 2,\n",
    "        \"deffnm\": \"03_pure_mutate\"\n",
    "    },\n",
    "    \"04_local\": {\n",
    "        \"mutate_crem_kwargs\": {\n",
    "            \"radius\": 3,\n",
    "            \"min_size\": 0,\n",
    "            \"max_size\": 1,\n",
    "            \"min_inc\": -1,\n",
    "            \"max_inc\": 1,\n",
    "            \"ncores\": 12\n",
    "        },\n",
    "        \"maxiter\": 2,\n",
    "        \"deffnm\": \"04_local\"\n",
    "    }\n",
    "}\n",
    "# Save the config as a yaml file\n",
    "with open(os.path.join(wd, 'config.yml'), 'w') as f:\n",
    "    yaml.dump(config, f)\n",
    "os.listdir(wd)"
   ]
  },
  {
   "cell_type": "markdown",
   "metadata": {},
   "source": [
    "## Move to the directory and run moldrug"
   ]
  },
  {
   "cell_type": "code",
   "execution_count": 5,
   "metadata": {},
   "outputs": [
    {
     "name": "stdout",
     "output_type": "stream",
     "text": [
      "You are using moldrug: 2.0.0.\n",
      "\n",
      "The main job is being executed.\n",
      "\n",
      "\n",
      "Creating the first population with 25 members:\n",
      "100%|███████████████████████████████████████████| 25/25 [00:19<00:00,  1.30it/s]\n",
      "Initial Population: Best individual: Individual(idx = 0, smiles = COC(=O)c1ccc(S(N)(=O)=O)cc1, cost = 1.0)\n",
      "File 01_grow_pop.sdf was createad!\n",
      "Evaluating generation 1 / 5:\n",
      "100%|███████████████████████████████████████████| 25/25 [00:31<00:00,  1.27s/it]\n",
      "Generation 1: Best Individual: Individual(idx = 0, smiles = COC(=O)c1ccc(S(N)(=O)=O)cc1, cost = 1.0).\n",
      "\n",
      "Evaluating generation 2 / 5:\n",
      "100%|███████████████████████████████████████████| 25/25 [00:30<00:00,  1.23s/it]\n",
      "Generation 2: Best Individual: Individual(idx = 0, smiles = COC(=O)c1ccc(S(N)(=O)=O)cc1, cost = 1.0).\n",
      "\n",
      "Evaluating generation 3 / 5:\n",
      "100%|███████████████████████████████████████████| 25/25 [00:30<00:00,  1.20s/it]\n",
      "Generation 3: Best Individual: Individual(idx = 0, smiles = COC(=O)c1ccc(S(N)(=O)=O)cc1, cost = 1.0).\n",
      "\n",
      "Evaluating generation 4 / 5:\n",
      "100%|███████████████████████████████████████████| 24/24 [00:28<00:00,  1.17s/it]\n",
      "Generation 4: Best Individual: Individual(idx = 0, smiles = COC(=O)c1ccc(S(N)(=O)=O)cc1, cost = 1.0).\n",
      "\n",
      "Evaluating generation 5 / 5:\n",
      "100%|███████████████████████████████████████████| 25/25 [00:28<00:00,  1.14s/it]\n",
      "File 01_grow_pop.sdf was createad!\n",
      "Generation 5: Best Individual: Individual(idx = 0, smiles = COC(=O)c1ccc(S(N)(=O)=O)cc1, cost = 1.0).\n",
      "\n",
      "\n",
      "=+=+=+=+=+=+=+=+=+=+=+=+=+=+=+=+=+=+=+=+=+=+=+=+=+=+=+=+=+=+=+=+=+=+=+=+=+=+=+=+=+=+=+=+=+=+=+=+=+=+\n",
      "\n",
      "The simulation finished successfully after 5 generations with a population of 25 individuals. A total number of 149 Individuals were seen during the simulation.\n",
      "Initial Individual: Individual(idx = 0, smiles = COC(=O)c1ccc(S(N)(=O)=O)cc1, cost = 1.0)\n",
      "Final Individual: Individual(idx = 0, smiles = COC(=O)c1ccc(S(N)(=O)=O)cc1, cost = 1.0)\n",
      "The cost function droped in 0.0 units.\n",
      "\n",
      "=+=+=+=+=+=+=+=+=+=+=+=+=+=+=+=+=+=+=+=+=+=+=+=+=+=+=+=+=+=+=+=+=+=+=+=+=+=+=+=+=+=+=+=+=+=+=+=+=+=+\n",
      "\n",
      "Total time (5 generations): 203.88 (s).\n",
      "Finished at Thu Aug 25 17:25:01 2022.\n",
      "\n",
      "File 01_grow_pop.sdf was createad!\n",
      "The main job finished!.\n",
      "The follow job 02_allow_grow started.\n",
      "File 02_allow_grow_pop.sdf was createad!\n",
      "Evaluating generation 6 / 10:\n",
      "100%|███████████████████████████████████████████| 25/25 [00:24<00:00,  1.00it/s]\n",
      "Generation 6: Best Individual: Individual(idx = 0, smiles = COC(=O)c1ccc(S(N)(=O)=O)cc1, cost = 1.0).\n",
      "\n",
      "Evaluating generation 7 / 10:\n",
      "100%|███████████████████████████████████████████| 25/25 [00:19<00:00,  1.25it/s]\n",
      "Generation 7: Best Individual: Individual(idx = 0, smiles = COC(=O)c1ccc(S(N)(=O)=O)cc1, cost = 1.0).\n",
      "\n",
      "Evaluating generation 8 / 10:\n",
      "100%|███████████████████████████████████████████| 25/25 [00:24<00:00,  1.03it/s]\n",
      "Generation 8: Best Individual: Individual(idx = 0, smiles = COC(=O)c1ccc(S(N)(=O)=O)cc1, cost = 1.0).\n",
      "\n",
      "Evaluating generation 9 / 10:\n",
      "100%|███████████████████████████████████████████| 24/24 [00:25<00:00,  1.06s/it]\n",
      "Generation 9: Best Individual: Individual(idx = 0, smiles = COC(=O)c1ccc(S(N)(=O)=O)cc1, cost = 1.0).\n",
      "\n",
      "Evaluating generation 10 / 10:\n",
      "100%|███████████████████████████████████████████| 24/24 [00:21<00:00,  1.12it/s]\n",
      "File 02_allow_grow_pop.sdf was createad!\n",
      "Generation 10: Best Individual: Individual(idx = 0, smiles = COC(=O)c1ccc(S(N)(=O)=O)cc1, cost = 1.0).\n",
      "\n",
      "\n",
      "=+=+=+=+=+=+=+=+=+=+=+=+=+=+=+=+=+=+=+=+=+=+=+=+=+=+=+=+=+=+=+=+=+=+=+=+=+=+=+=+=+=+=+=+=+=+=+=+=+=+\n",
      "\n",
      "The simulation finished successfully after 10 generations with a population of 25 individuals. A total number of 271 Individuals were seen during the simulation.\n",
      "Initial Individual: Individual(idx = 0, smiles = COC(=O)c1ccc(S(N)(=O)=O)cc1, cost = 1.0)\n",
      "Final Individual: Individual(idx = 0, smiles = COC(=O)c1ccc(S(N)(=O)=O)cc1, cost = 1.0)\n",
      "The cost function droped in 0.0 units.\n",
      "\n",
      "=+=+=+=+=+=+=+=+=+=+=+=+=+=+=+=+=+=+=+=+=+=+=+=+=+=+=+=+=+=+=+=+=+=+=+=+=+=+=+=+=+=+=+=+=+=+=+=+=+=+\n",
      "\n",
      "Total time (10 generations): 148.49 (s).\n",
      "Finished at Thu Aug 25 17:27:29 2022.\n",
      "\n",
      "File 02_allow_grow_pop.sdf was createad!\n",
      "The job 02_allow_grow finished!.\n",
      "The follow job 03_pure_mutate started.\n",
      "File 03_pure_mutate_pop.sdf was createad!\n",
      "Evaluating generation 11 / 12:\n",
      "100%|███████████████████████████████████████████| 25/25 [00:23<00:00,  1.07it/s]\n",
      "Generation 11: Best Individual: Individual(idx = 0, smiles = COC(=O)c1ccc(S(N)(=O)=O)cc1, cost = 1.0).\n",
      "\n",
      "Evaluating generation 12 / 12:\n",
      "100%|███████████████████████████████████████████| 25/25 [00:17<00:00,  1.45it/s]\n",
      "File 03_pure_mutate_pop.sdf was createad!\n",
      "Generation 12: Best Individual: Individual(idx = 0, smiles = COC(=O)c1ccc(S(N)(=O)=O)cc1, cost = 1.0).\n",
      "\n",
      "\n",
      "=+=+=+=+=+=+=+=+=+=+=+=+=+=+=+=+=+=+=+=+=+=+=+=+=+=+=+=+=+=+=+=+=+=+=+=+=+=+=+=+=+=+=+=+=+=+=+=+=+=+\n",
      "\n",
      "The simulation finished successfully after 12 generations with a population of 25 individuals. A total number of 321 Individuals were seen during the simulation.\n",
      "Initial Individual: Individual(idx = 0, smiles = COC(=O)c1ccc(S(N)(=O)=O)cc1, cost = 1.0)\n",
      "Final Individual: Individual(idx = 0, smiles = COC(=O)c1ccc(S(N)(=O)=O)cc1, cost = 1.0)\n",
      "The cost function droped in 0.0 units.\n",
      "\n",
      "=+=+=+=+=+=+=+=+=+=+=+=+=+=+=+=+=+=+=+=+=+=+=+=+=+=+=+=+=+=+=+=+=+=+=+=+=+=+=+=+=+=+=+=+=+=+=+=+=+=+\n",
      "\n",
      "Total time (12 generations): 99.48 (s).\n",
      "Finished at Thu Aug 25 17:29:09 2022.\n",
      "\n",
      "File 03_pure_mutate_pop.sdf was createad!\n",
      "The job 03_pure_mutate finished!.\n",
      "The follow job 04_local started.\n",
      "File 04_local_pop.sdf was createad!\n",
      "Evaluating generation 13 / 14:\n",
      "100%|███████████████████████████████████████████| 22/22 [00:20<00:00,  1.08it/s]\n",
      "Generation 13: Best Individual: Individual(idx = 0, smiles = COC(=O)c1ccc(S(N)(=O)=O)cc1, cost = 1.0).\n",
      "\n",
      "Evaluating generation 14 / 14:\n",
      "100%|███████████████████████████████████████████| 19/19 [00:18<00:00,  1.01it/s]\n",
      "File 04_local_pop.sdf was createad!\n",
      "Generation 14: Best Individual: Individual(idx = 0, smiles = COC(=O)c1ccc(S(N)(=O)=O)cc1, cost = 1.0).\n",
      "\n",
      "\n",
      "=+=+=+=+=+=+=+=+=+=+=+=+=+=+=+=+=+=+=+=+=+=+=+=+=+=+=+=+=+=+=+=+=+=+=+=+=+=+=+=+=+=+=+=+=+=+=+=+=+=+\n",
      "\n",
      "The simulation finished successfully after 14 generations with a population of 25 individuals. A total number of 362 Individuals were seen during the simulation.\n",
      "Initial Individual: Individual(idx = 0, smiles = COC(=O)c1ccc(S(N)(=O)=O)cc1, cost = 1.0)\n",
      "Final Individual: Individual(idx = 0, smiles = COC(=O)c1ccc(S(N)(=O)=O)cc1, cost = 1.0)\n",
      "The cost function droped in 0.0 units.\n",
      "\n",
      "=+=+=+=+=+=+=+=+=+=+=+=+=+=+=+=+=+=+=+=+=+=+=+=+=+=+=+=+=+=+=+=+=+=+=+=+=+=+=+=+=+=+=+=+=+=+=+=+=+=+\n",
      "\n",
      "Total time (14 generations): 49.37 (s).\n",
      "Finished at Thu Aug 25 17:29:59 2022.\n",
      "\n",
      "File 04_local_pop.sdf was createad!\n",
      "The job 04_local finished!.\n"
     ]
    }
   ],
   "source": [
    "cwd = os.getcwd()\n",
    "os.chdir(wd)\n",
    "! moldrug config.yml\n",
    "os.chdir(cwd)\n",
    "os.listdir(wd)\n",
    "os.chdir(cwd)"
   ]
  },
  {
   "cell_type": "code",
   "execution_count": 6,
   "metadata": {},
   "outputs": [
    {
     "data": {
      "text/plain": [
       "['x0161.pdb',\n",
       " '01_grow_pop.sdf',\n",
       " '04_local_result.pbz2',\n",
       " 'ref.sdf',\n",
       " '02_allow_grow_pop.pbz2',\n",
       " '03_pure_mutate_result.pbz2',\n",
       " 'crem.db.gz',\n",
       " '03_pure_mutate_pop.sdf',\n",
       " '04_local_pop.pbz2',\n",
       " '01_grow_result.pbz2',\n",
       " '02_allow_grow_pop.sdf',\n",
       " '03_pure_mutate_pop.pbz2',\n",
       " '02_allow_grow_result.pbz2',\n",
       " '04_local_pop.sdf',\n",
       " 'x0161.pdbqt',\n",
       " 'config.yml',\n",
       " 'crem.db',\n",
       " '01_grow_pop.pbz2']"
      ]
     },
     "execution_count": 6,
     "metadata": {},
     "output_type": "execute_result"
    }
   ],
   "source": [
    "os.listdir(wd)"
   ]
  },
  {
   "cell_type": "markdown",
   "metadata": {},
   "source": [
    "## Visualization\n",
    "\n",
    "If needed install the packages through pip:\n",
    "\n",
    "`! pip install nglview, parmed`\n"
   ]
  },
  {
   "cell_type": "code",
   "execution_count": 7,
   "metadata": {},
   "outputs": [
    {
     "data": {
      "application/vnd.jupyter.widget-view+json": {
       "model_id": "8f49292089f14dc4b25507909272be58",
       "version_major": 2,
       "version_minor": 0
      },
      "text/plain": []
     },
     "metadata": {},
     "output_type": "display_data"
    }
   ],
   "source": [
    "import nglview as nv\n",
    "import parmed as pmd\n",
    "from ipywidgets import IntSlider, VBox"
   ]
  },
  {
   "cell_type": "code",
   "execution_count": 8,
   "metadata": {},
   "outputs": [
    {
     "data": {
      "text/plain": [
       "[<Structure 23 atoms; 1 residues; 23 bonds; NOT parametrized>,\n",
       " <Structure 35 atoms; 1 residues; 35 bonds; NOT parametrized>,\n",
       " <Structure 35 atoms; 1 residues; 35 bonds; NOT parametrized>,\n",
       " <Structure 23 atoms; 1 residues; 23 bonds; NOT parametrized>,\n",
       " <Structure 34 atoms; 1 residues; 34 bonds; NOT parametrized>,\n",
       " <Structure 33 atoms; 1 residues; 33 bonds; NOT parametrized>,\n",
       " <Structure 30 atoms; 1 residues; 31 bonds; NOT parametrized>,\n",
       " <Structure 26 atoms; 1 residues; 26 bonds; NOT parametrized>,\n",
       " <Structure 25 atoms; 1 residues; 25 bonds; NOT parametrized>,\n",
       " <Structure 29 atoms; 1 residues; 29 bonds; NOT parametrized>,\n",
       " <Structure 30 atoms; 1 residues; 30 bonds; NOT parametrized>,\n",
       " <Structure 35 atoms; 1 residues; 35 bonds; NOT parametrized>,\n",
       " <Structure 30 atoms; 1 residues; 31 bonds; NOT parametrized>,\n",
       " <Structure 23 atoms; 1 residues; 23 bonds; NOT parametrized>,\n",
       " <Structure 27 atoms; 1 residues; 27 bonds; NOT parametrized>,\n",
       " <Structure 34 atoms; 1 residues; 34 bonds; NOT parametrized>,\n",
       " <Structure 29 atoms; 1 residues; 29 bonds; NOT parametrized>,\n",
       " <Structure 30 atoms; 1 residues; 30 bonds; NOT parametrized>,\n",
       " <Structure 29 atoms; 1 residues; 30 bonds; NOT parametrized>,\n",
       " <Structure 29 atoms; 1 residues; 29 bonds; NOT parametrized>,\n",
       " <Structure 30 atoms; 1 residues; 30 bonds; NOT parametrized>,\n",
       " <Structure 36 atoms; 1 residues; 36 bonds; NOT parametrized>,\n",
       " <Structure 34 atoms; 1 residues; 34 bonds; NOT parametrized>,\n",
       " <Structure 25 atoms; 1 residues; 25 bonds; NOT parametrized>,\n",
       " <Structure 30 atoms; 1 residues; 30 bonds; NOT parametrized>]"
      ]
     },
     "execution_count": 8,
     "metadata": {},
     "output_type": "execute_result"
    }
   ],
   "source": [
    "parms = pmd.rdkit.from_sdf(os.path.join(wd, '04_local_pop.sdf')) # require parmed, rdkit\n",
    "parms"
   ]
  },
  {
   "cell_type": "code",
   "execution_count": 9,
   "metadata": {},
   "outputs": [
    {
     "data": {
      "application/vnd.jupyter.widget-view+json": {
       "model_id": "391e21f48a9d469aad7ad94ec7aeb6d6",
       "version_major": 2,
       "version_minor": 0
      },
      "text/plain": [
       "VBox(children=(NGLWidget(), IntSlider(value=0, max=24)))"
      ]
     },
     "metadata": {},
     "output_type": "display_data"
    }
   ],
   "source": [
    "view = nv.NGLWidget()\n",
    "\n",
    "slider = IntSlider(max=len(parms)-1)\n",
    "\n",
    "def show_one_ligand(change):\n",
    "    val = change['new']\n",
    "    view.show_only([val])\n",
    "    \n",
    "slider.observe(show_one_ligand, 'value')\n",
    "\n",
    "VBox([view, slider])"
   ]
  },
  {
   "cell_type": "code",
   "execution_count": 10,
   "metadata": {},
   "outputs": [],
   "source": [
    "for p in parms:\n",
    "    view.add_structure(nv.ParmEdTrajectory(p))\n",
    "view.show_only([0])"
   ]
  },
  {
   "cell_type": "code",
   "execution_count": 11,
   "metadata": {},
   "outputs": [
    {
     "name": "stdout",
     "output_type": "stream",
     "text": [
      "avg = -2.5396768\n",
      "min = -4.45914\n",
      "max = 3.74655\n"
     ]
    }
   ],
   "source": [
    "result = utils.decompress_pickle(os.path.join(wd, '04_local_result.pbz2'))\n",
    "valid_individuals_vina_score = [individual.vina_score for individual in result.pop if individual.vina_score != np.inf]\n",
    "print(f\"avg = {np.average(valid_individuals_vina_score)}\")\n",
    "print(f\"min = {min(valid_individuals_vina_score)}\")\n",
    "print(f\"max = {max(valid_individuals_vina_score)}\")"
   ]
  },
  {
   "cell_type": "markdown",
   "metadata": {},
   "source": [
    "## See how it looks with local_only"
   ]
  },
  {
   "cell_type": "code",
   "execution_count": 12,
   "metadata": {},
   "outputs": [
    {
     "data": {
      "text/plain": [
       "['x0161.pdb',\n",
       " '01_grow_pop.sdf',\n",
       " '04_local_result.pbz2',\n",
       " 'ref.sdf',\n",
       " '02_allow_grow_pop.pbz2',\n",
       " '03_pure_mutate_result.pbz2',\n",
       " 'crem.db.gz',\n",
       " '03_pure_mutate_pop.sdf',\n",
       " '04_local_pop.pbz2',\n",
       " '01_grow_result.pbz2',\n",
       " '02_allow_grow_pop.sdf',\n",
       " '03_pure_mutate_pop.pbz2',\n",
       " '02_allow_grow_result.pbz2',\n",
       " '04_local_pop.sdf',\n",
       " 'new_config.yml',\n",
       " 'x0161.pdbqt',\n",
       " 'config.yml',\n",
       " 'crem.db',\n",
       " '01_grow_pop.pbz2']"
      ]
     },
     "execution_count": 12,
     "metadata": {},
     "output_type": "execute_result"
    }
   ],
   "source": [
    "# Save the new config as a yaml file\n",
    "new_config = config.copy()\n",
    "new_config['01_grow']['costfunc_kwargs']['constraint_type'] = 'local_only'\n",
    "\n",
    "with open(os.path.join(wd, 'new_config.yml'), 'w') as f:\n",
    "    yaml.dump(config, f)\n",
    "os.listdir(wd)"
   ]
  },
  {
   "cell_type": "markdown",
   "metadata": {},
   "source": [
    "## Move back to the directory and run moldrug"
   ]
  },
  {
   "cell_type": "code",
   "execution_count": 13,
   "metadata": {},
   "outputs": [
    {
     "name": "stdout",
     "output_type": "stream",
     "text": [
      "You are using moldrug: 2.0.0.\n",
      "\n",
      "The main job is being executed.\n",
      "\n",
      "\n",
      "Creating the first population with 25 members:\n",
      "100%|███████████████████████████████████████████| 25/25 [00:23<00:00,  1.06it/s]\n",
      "Initial Population: Best individual: Individual(idx = 0, smiles = COC(=O)c1ccc(S(N)(=O)=O)cc1, cost = 1.0)\n",
      "Individual(idx = 10, smiles = COC(=O)c1ccc(S(N)(=O)=O)cc1Sc1ccsc1, cost = 1.0) does not have a valid pdbqt.\n",
      "File 01_grow_pop.sdf was createad!\n",
      "Evaluating generation 1 / 5:\n",
      "100%|███████████████████████████████████████████| 25/25 [00:33<00:00,  1.36s/it]\n",
      "Generation 1: Best Individual: Individual(idx = 0, smiles = COC(=O)c1ccc(S(N)(=O)=O)cc1, cost = 1.0).\n",
      "\n",
      "Evaluating generation 2 / 5:\n",
      "100%|███████████████████████████████████████████| 25/25 [00:32<00:00,  1.32s/it]\n",
      "Generation 2: Best Individual: Individual(idx = 0, smiles = COC(=O)c1ccc(S(N)(=O)=O)cc1, cost = 1.0).\n",
      "\n",
      "Evaluating generation 3 / 5:\n",
      "100%|███████████████████████████████████████████| 25/25 [00:32<00:00,  1.30s/it]\n",
      "Generation 3: Best Individual: Individual(idx = 0, smiles = COC(=O)c1ccc(S(N)(=O)=O)cc1, cost = 1.0).\n",
      "\n",
      "Evaluating generation 4 / 5:\n",
      "100%|███████████████████████████████████████████| 24/24 [00:35<00:00,  1.48s/it]\n",
      "Generation 4: Best Individual: Individual(idx = 123, smiles = COC(=O)c1ccc(S(=O)(=O)Nc2cccc(OS(C)(=O)=O)n2)cc1, cost = 0.9199745068918107).\n",
      "\n",
      "Evaluating generation 5 / 5:\n",
      "100%|███████████████████████████████████████████| 23/23 [00:43<00:00,  1.87s/it]\n",
      "Individual(idx = 10, smiles = COC(=O)c1ccc(S(N)(=O)=O)cc1Sc1ccsc1, cost = 1.0) does not have a valid pdbqt.\n",
      "File 01_grow_pop.sdf was createad!\n",
      "Generation 5: Best Individual: Individual(idx = 123, smiles = COC(=O)c1ccc(S(=O)(=O)Nc2cccc(OS(C)(=O)=O)n2)cc1, cost = 0.9199745068918107).\n",
      "\n",
      "\n",
      "=+=+=+=+=+=+=+=+=+=+=+=+=+=+=+=+=+=+=+=+=+=+=+=+=+=+=+=+=+=+=+=+=+=+=+=+=+=+=+=+=+=+=+=+=+=+=+=+=+=+\n",
      "\n",
      "The simulation finished successfully after 5 generations with a population of 25 individuals. A total number of 147 Individuals were seen during the simulation.\n",
      "Initial Individual: Individual(idx = 0, smiles = COC(=O)c1ccc(S(N)(=O)=O)cc1, cost = 1.0)\n",
      "Final Individual: Individual(idx = 123, smiles = COC(=O)c1ccc(S(=O)(=O)Nc2cccc(OS(C)(=O)=O)n2)cc1, cost = 0.9199745068918107)\n",
      "The cost function droped in 0.0800254931081893 units.\n",
      "\n",
      "=+=+=+=+=+=+=+=+=+=+=+=+=+=+=+=+=+=+=+=+=+=+=+=+=+=+=+=+=+=+=+=+=+=+=+=+=+=+=+=+=+=+=+=+=+=+=+=+=+=+\n",
      "\n",
      "Total time (5 generations): 237.60 (s).\n",
      "Finished at Thu Aug 25 17:33:58 2022.\n",
      "\n",
      "Individual(idx = 10, smiles = COC(=O)c1ccc(S(N)(=O)=O)cc1Sc1ccsc1, cost = 1.0) does not have a valid pdbqt.\n",
      "File 01_grow_pop.sdf was createad!\n",
      "The main job finished!.\n",
      "The follow job 02_allow_grow started.\n",
      "Individual(idx = 10, smiles = COC(=O)c1ccc(S(N)(=O)=O)cc1Sc1ccsc1, cost = 1.0) does not have a valid pdbqt.\n",
      "File 02_allow_grow_pop.sdf was createad!\n",
      "Evaluating generation 6 / 10:\n",
      "100%|███████████████████████████████████████████| 24/24 [00:34<00:00,  1.43s/it]\n",
      "Generation 6: Best Individual: Individual(idx = 123, smiles = COC(=O)c1ccc(S(=O)(=O)Nc2cccc(OS(C)(=O)=O)n2)cc1, cost = 0.9199745068918107).\n",
      "\n",
      "Evaluating generation 7 / 10:\n",
      "100%|███████████████████████████████████████████| 24/24 [00:30<00:00,  1.28s/it]\n",
      "Generation 7: Best Individual: Individual(idx = 123, smiles = COC(=O)c1ccc(S(=O)(=O)Nc2cccc(OS(C)(=O)=O)n2)cc1, cost = 0.9199745068918107).\n",
      "\n",
      "Evaluating generation 8 / 10:\n",
      "100%|███████████████████████████████████████████| 25/25 [00:36<00:00,  1.45s/it]\n",
      "Generation 8: Best Individual: Individual(idx = 123, smiles = COC(=O)c1ccc(S(=O)(=O)Nc2cccc(OS(C)(=O)=O)n2)cc1, cost = 0.9199745068918107).\n",
      "\n",
      "Evaluating generation 9 / 10:\n",
      "100%|███████████████████████████████████████████| 24/24 [00:36<00:00,  1.52s/it]\n",
      "Generation 9: Best Individual: Individual(idx = 123, smiles = COC(=O)c1ccc(S(=O)(=O)Nc2cccc(OS(C)(=O)=O)n2)cc1, cost = 0.9199745068918107).\n",
      "\n",
      "Evaluating generation 10 / 10:\n",
      "100%|███████████████████████████████████████████| 23/23 [00:35<00:00,  1.52s/it]\n",
      "Individual(idx = 10, smiles = COC(=O)c1ccc(S(N)(=O)=O)cc1Sc1ccsc1, cost = 1.0) does not have a valid pdbqt.\n",
      "File 02_allow_grow_pop.sdf was createad!\n",
      "Generation 10: Best Individual: Individual(idx = 264, smiles = COC(=O)c1ccc(S(=O)(=O)Nc2cc(Cl)cc(OS(C)(=O)=O)n2)cc1, cost = 0.9090468010743701).\n",
      "\n",
      "\n",
      "=+=+=+=+=+=+=+=+=+=+=+=+=+=+=+=+=+=+=+=+=+=+=+=+=+=+=+=+=+=+=+=+=+=+=+=+=+=+=+=+=+=+=+=+=+=+=+=+=+=+\n",
      "\n",
      "The simulation finished successfully after 10 generations with a population of 25 individuals. A total number of 267 Individuals were seen during the simulation.\n",
      "Initial Individual: Individual(idx = 0, smiles = COC(=O)c1ccc(S(N)(=O)=O)cc1, cost = 1.0)\n",
      "Final Individual: Individual(idx = 264, smiles = COC(=O)c1ccc(S(=O)(=O)Nc2cc(Cl)cc(OS(C)(=O)=O)n2)cc1, cost = 0.9090468010743701)\n",
      "The cost function droped in 0.09095319892562992 units.\n",
      "\n",
      "=+=+=+=+=+=+=+=+=+=+=+=+=+=+=+=+=+=+=+=+=+=+=+=+=+=+=+=+=+=+=+=+=+=+=+=+=+=+=+=+=+=+=+=+=+=+=+=+=+=+\n",
      "\n",
      "Total time (10 generations): 206.28 (s).\n",
      "Finished at Thu Aug 25 17:37:25 2022.\n",
      "\n",
      "Individual(idx = 10, smiles = COC(=O)c1ccc(S(N)(=O)=O)cc1Sc1ccsc1, cost = 1.0) does not have a valid pdbqt.\n",
      "File 02_allow_grow_pop.sdf was createad!\n",
      "The job 02_allow_grow finished!.\n",
      "The follow job 03_pure_mutate started.\n",
      "Individual(idx = 10, smiles = COC(=O)c1ccc(S(N)(=O)=O)cc1Sc1ccsc1, cost = 1.0) does not have a valid pdbqt.\n",
      "File 03_pure_mutate_pop.sdf was createad!\n",
      "Evaluating generation 11 / 12:\n",
      "100%|███████████████████████████████████████████| 25/25 [00:30<00:00,  1.22s/it]\n",
      "Generation 11: Best Individual: Individual(idx = 264, smiles = COC(=O)c1ccc(S(=O)(=O)Nc2cc(Cl)cc(OS(C)(=O)=O)n2)cc1, cost = 0.9090468010743701).\n",
      "\n",
      "Evaluating generation 12 / 12:\n",
      "100%|███████████████████████████████████████████| 25/25 [00:29<00:00,  1.17s/it]\n",
      "Individual(idx = 10, smiles = COC(=O)c1ccc(S(N)(=O)=O)cc1Sc1ccsc1, cost = 1.0) does not have a valid pdbqt.\n",
      "File 03_pure_mutate_pop.sdf was createad!\n",
      "Generation 12: Best Individual: Individual(idx = 299, smiles = NS(=O)(=O)c1ccc(C2CC(=O)OC(=O)C2)cc1, cost = 0.8488457430528389).\n",
      "\n",
      "\n",
      "=+=+=+=+=+=+=+=+=+=+=+=+=+=+=+=+=+=+=+=+=+=+=+=+=+=+=+=+=+=+=+=+=+=+=+=+=+=+=+=+=+=+=+=+=+=+=+=+=+=+\n",
      "\n",
      "The simulation finished successfully after 12 generations with a population of 25 individuals. A total number of 317 Individuals were seen during the simulation.\n",
      "Initial Individual: Individual(idx = 0, smiles = COC(=O)c1ccc(S(N)(=O)=O)cc1, cost = 1.0)\n",
      "Final Individual: Individual(idx = 299, smiles = NS(=O)(=O)c1ccc(C2CC(=O)OC(=O)C2)cc1, cost = 0.8488457430528389)\n",
      "The cost function droped in 0.15115425694716111 units.\n",
      "\n",
      "=+=+=+=+=+=+=+=+=+=+=+=+=+=+=+=+=+=+=+=+=+=+=+=+=+=+=+=+=+=+=+=+=+=+=+=+=+=+=+=+=+=+=+=+=+=+=+=+=+=+\n",
      "\n",
      "Total time (12 generations): 113.51 (s).\n",
      "Finished at Thu Aug 25 17:39:18 2022.\n",
      "\n",
      "Individual(idx = 10, smiles = COC(=O)c1ccc(S(N)(=O)=O)cc1Sc1ccsc1, cost = 1.0) does not have a valid pdbqt.\n",
      "File 03_pure_mutate_pop.sdf was createad!\n",
      "The job 03_pure_mutate finished!.\n",
      "The follow job 04_local started.\n",
      "Individual(idx = 10, smiles = COC(=O)c1ccc(S(N)(=O)=O)cc1Sc1ccsc1, cost = 1.0) does not have a valid pdbqt.\n",
      "File 04_local_pop.sdf was createad!\n",
      "Evaluating generation 13 / 14:\n",
      "100%|███████████████████████████████████████████| 25/25 [00:34<00:00,  1.36s/it]\n",
      "Generation 13: Best Individual: Individual(idx = 299, smiles = NS(=O)(=O)c1ccc(C2CC(=O)OC(=O)C2)cc1, cost = 0.8488457430528389).\n",
      "\n",
      "Evaluating generation 14 / 14:\n",
      "100%|███████████████████████████████████████████| 20/20 [00:28<00:00,  1.43s/it]\n",
      "Individual(idx = 10, smiles = COC(=O)c1ccc(S(N)(=O)=O)cc1Sc1ccsc1, cost = 1.0) does not have a valid pdbqt.\n",
      "File 04_local_pop.sdf was createad!\n",
      "Generation 14: Best Individual: Individual(idx = 299, smiles = NS(=O)(=O)c1ccc(C2CC(=O)OC(=O)C2)cc1, cost = 0.8488457430528389).\n",
      "\n",
      "\n",
      "=+=+=+=+=+=+=+=+=+=+=+=+=+=+=+=+=+=+=+=+=+=+=+=+=+=+=+=+=+=+=+=+=+=+=+=+=+=+=+=+=+=+=+=+=+=+=+=+=+=+\n",
      "\n",
      "The simulation finished successfully after 14 generations with a population of 25 individuals. A total number of 362 Individuals were seen during the simulation.\n",
      "Initial Individual: Individual(idx = 0, smiles = COC(=O)c1ccc(S(N)(=O)=O)cc1, cost = 1.0)\n",
      "Final Individual: Individual(idx = 299, smiles = NS(=O)(=O)c1ccc(C2CC(=O)OC(=O)C2)cc1, cost = 0.8488457430528389)\n",
      "The cost function droped in 0.15115425694716111 units.\n",
      "\n",
      "=+=+=+=+=+=+=+=+=+=+=+=+=+=+=+=+=+=+=+=+=+=+=+=+=+=+=+=+=+=+=+=+=+=+=+=+=+=+=+=+=+=+=+=+=+=+=+=+=+=+\n",
      "\n",
      "Total time (14 generations): 73.54 (s).\n",
      "Finished at Thu Aug 25 17:40:32 2022.\n",
      "\n",
      "Individual(idx = 10, smiles = COC(=O)c1ccc(S(N)(=O)=O)cc1Sc1ccsc1, cost = 1.0) does not have a valid pdbqt.\n",
      "File 04_local_pop.sdf was createad!\n",
      "The job 04_local finished!.\n"
     ]
    }
   ],
   "source": [
    "cwd = os.getcwd()\n",
    "os.chdir(wd)\n",
    "! moldrug new_config.yml\n",
    "os.chdir(cwd)\n",
    "os.listdir(wd)\n",
    "os.chdir(cwd)"
   ]
  },
  {
   "cell_type": "code",
   "execution_count": 14,
   "metadata": {},
   "outputs": [
    {
     "data": {
      "text/plain": [
       "[<Structure 29 atoms; 1 residues; 30 bonds; NOT parametrized>,\n",
       " <Structure 39 atoms; 1 residues; 40 bonds; NOT parametrized>,\n",
       " <Structure 29 atoms; 1 residues; 30 bonds; NOT parametrized>,\n",
       " <Structure 39 atoms; 1 residues; 40 bonds; NOT parametrized>,\n",
       " <Structure 41 atoms; 1 residues; 42 bonds; NOT parametrized>,\n",
       " <Structure 41 atoms; 1 residues; 42 bonds; NOT parametrized>,\n",
       " <Structure 41 atoms; 1 residues; 42 bonds; NOT parametrized>,\n",
       " <Structure 43 atoms; 1 residues; 44 bonds; NOT parametrized>,\n",
       " <Structure 42 atoms; 1 residues; 43 bonds; NOT parametrized>,\n",
       " <Structure 46 atoms; 1 residues; 47 bonds; NOT parametrized>,\n",
       " <Structure 23 atoms; 1 residues; 23 bonds; NOT parametrized>,\n",
       " <Structure 23 atoms; 1 residues; 23 bonds; NOT parametrized>,\n",
       " <Structure 39 atoms; 1 residues; 39 bonds; NOT parametrized>,\n",
       " <Structure 30 atoms; 1 residues; 30 bonds; NOT parametrized>,\n",
       " <Structure 29 atoms; 1 residues; 29 bonds; NOT parametrized>,\n",
       " <Structure 32 atoms; 1 residues; 33 bonds; NOT parametrized>,\n",
       " <Structure 28 atoms; 1 residues; 28 bonds; NOT parametrized>,\n",
       " <Structure 29 atoms; 1 residues; 29 bonds; NOT parametrized>,\n",
       " <Structure 27 atoms; 1 residues; 27 bonds; NOT parametrized>,\n",
       " <Structure 33 atoms; 1 residues; 33 bonds; NOT parametrized>,\n",
       " <Structure 33 atoms; 1 residues; 34 bonds; NOT parametrized>,\n",
       " <Structure 28 atoms; 1 residues; 28 bonds; NOT parametrized>,\n",
       " <Structure 29 atoms; 1 residues; 29 bonds; NOT parametrized>,\n",
       " <Structure 34 atoms; 1 residues; 34 bonds; NOT parametrized>]"
      ]
     },
     "execution_count": 14,
     "metadata": {},
     "output_type": "execute_result"
    }
   ],
   "source": [
    "parms = pmd.rdkit.from_sdf(os.path.join(wd, '04_local_pop.sdf')) # require parmed, rdkit\n",
    "parms"
   ]
  },
  {
   "cell_type": "code",
   "execution_count": 15,
   "metadata": {},
   "outputs": [
    {
     "data": {
      "application/vnd.jupyter.widget-view+json": {
       "model_id": "a455253b567047a1beab800eed6a9aa5",
       "version_major": 2,
       "version_minor": 0
      },
      "text/plain": [
       "VBox(children=(NGLWidget(), IntSlider(value=0, max=23)))"
      ]
     },
     "metadata": {},
     "output_type": "display_data"
    }
   ],
   "source": [
    "view = nv.NGLWidget()\n",
    "\n",
    "slider = IntSlider(max=len(parms)-1)\n",
    "\n",
    "def show_one_ligand(change):\n",
    "    val = change['new']\n",
    "    view.show_only([val])\n",
    "    \n",
    "slider.observe(show_one_ligand, 'value')\n",
    "\n",
    "VBox([view, slider])"
   ]
  },
  {
   "cell_type": "code",
   "execution_count": 16,
   "metadata": {},
   "outputs": [],
   "source": [
    "for p in parms:\n",
    "    view.add_structure(nv.ParmEdTrajectory(p))\n",
    "view.show_only([0])"
   ]
  },
  {
   "cell_type": "code",
   "execution_count": 17,
   "metadata": {},
   "outputs": [
    {
     "name": "stdout",
     "output_type": "stream",
     "text": [
      "avg = -5.428390416666667\n",
      "min = -6.44023\n",
      "max = -4.33338\n"
     ]
    }
   ],
   "source": [
    "result = utils.decompress_pickle(os.path.join(wd, '04_local_result.pbz2'))\n",
    "valid_individuals_vina_score = [individual.vina_score for individual in result.pop if individual.vina_score != np.inf]\n",
    "print(f\"avg = {np.average(valid_individuals_vina_score)}\")\n",
    "print(f\"min = {min(valid_individuals_vina_score)}\")\n",
    "print(f\"max = {max(valid_individuals_vina_score)}\")\n"
   ]
  },
  {
   "cell_type": "markdown",
   "metadata": {},
   "source": [
    "As you can see now the fix core change a little. Could be that (when you run the tutorial by yourself) MolDrug can not optimize the cost function. One of the main cause of this behavior is the desirability definition which is for vina_score:\n",
    "\n",
    "```\n",
    "'vina_score': {\n",
    "    'w': 1,\n",
    "    'SmallerTheBest': {\n",
    "        'Target': -12,\n",
    "        'UpperLimit': -6,\n",
    "        'r': 1\n",
    "    }\n",
    "}\n",
    "```\n",
    "\n",
    "This means that if the vina score is not lower than -6 the cost function will be always 1. In this scenario all were are not optimizing over the generations the \"best\" individuals. In other words, it is important to see what is the behavior of our system (one small simulation) and then tune your parameters accordantly. On possibility for this system is change UpperLimit to, for example -4. There are a lot of other different options that you could play around (e.g. increase the generations, etc...). It is important to remark that this example is just for the tutorial, in a real project you may need to increase generations, tune the crem keywords, etc. I let it to you as a challenge. Happy simulations!\n",
    "\n",
    "Just as a bonus I let you here how to change the desirability definition."
   ]
  },
  {
   "cell_type": "markdown",
   "metadata": {},
   "source": [
    "## Change the desirability"
   ]
  },
  {
   "cell_type": "code",
   "execution_count": 18,
   "metadata": {},
   "outputs": [
    {
     "data": {
      "text/plain": [
       "['x0161.pdb',\n",
       " '01_grow_pop.sdf',\n",
       " '04_local_result.pbz2',\n",
       " 'ref.sdf',\n",
       " '02_allow_grow_pop.pbz2',\n",
       " '03_pure_mutate_result.pbz2',\n",
       " 'crem.db.gz',\n",
       " 'tune_config.yml',\n",
       " '03_pure_mutate_pop.sdf',\n",
       " '04_local_pop.pbz2',\n",
       " '01_grow_result.pbz2',\n",
       " '02_allow_grow_pop.sdf',\n",
       " '03_pure_mutate_pop.pbz2',\n",
       " '02_allow_grow_result.pbz2',\n",
       " '04_local_pop.sdf',\n",
       " 'new_config.yml',\n",
       " 'x0161.pdbqt',\n",
       " 'config.yml',\n",
       " 'crem.db',\n",
       " '01_grow_pop.pbz2']"
      ]
     },
     "execution_count": 18,
     "metadata": {},
     "output_type": "execute_result"
    }
   ],
   "source": [
    "# Save the new config as a yaml file\n",
    "tune_config = new_config.copy()\n",
    "tune_config['01_grow']['costfunc_kwargs']['desirability'] = {\n",
    "        'qed': {\n",
    "            'w': 1,\n",
    "            'LargerTheBest': {\n",
    "                'LowerLimit': 0.1,\n",
    "                'Target': 0.75,\n",
    "                'r': 1\n",
    "            }\n",
    "        },\n",
    "        'sa_score': {\n",
    "            'w': 1,\n",
    "            'SmallerTheBest': {\n",
    "                'Target': 3,\n",
    "                'UpperLimit': 7,\n",
    "                'r': 1\n",
    "            }\n",
    "        },\n",
    "        'vina_score': {\n",
    "            'w': 1,\n",
    "            'SmallerTheBest': {\n",
    "                'Target': -8,\n",
    "                'UpperLimit': -3,\n",
    "                'r': 1\n",
    "            }\n",
    "        }\n",
    "    }\n",
    "\n",
    "with open(os.path.join(wd, 'tune_config.yml'), 'w') as f:\n",
    "    yaml.dump(config, f)\n",
    "os.listdir(wd)\n"
   ]
  },
  {
   "cell_type": "code",
   "execution_count": 19,
   "metadata": {},
   "outputs": [
    {
     "name": "stdout",
     "output_type": "stream",
     "text": [
      "You are using moldrug: 2.0.0.\n",
      "\n",
      "The main job is being executed.\n",
      "\n",
      "\n",
      "Creating the first population with 25 members:\n",
      "100%|███████████████████████████████████████████| 25/25 [00:18<00:00,  1.32it/s]\n",
      "Initial Population: Best individual: Individual(idx = 4, smiles = COC(=O)c1ccc(S(N)(=O)=O)c(Cl)c1, cost = 0.5458783343354592)\n",
      "File 01_grow_pop.sdf was createad!\n",
      "Evaluating generation 1 / 5:\n",
      "100%|███████████████████████████████████████████| 25/25 [00:31<00:00,  1.26s/it]\n",
      "Generation 1: Best Individual: Individual(idx = 39, smiles = COCCOCC(O)COC(=O)c1ccc(S(N)(=O)=O)cc1, cost = 0.5061900814545027).\n",
      "\n",
      "Evaluating generation 2 / 5:\n",
      "100%|███████████████████████████████████████████| 25/25 [00:40<00:00,  1.60s/it]\n",
      "Generation 2: Best Individual: Individual(idx = 39, smiles = COCCOCC(O)COC(=O)c1ccc(S(N)(=O)=O)cc1, cost = 0.5061900814545027).\n",
      "\n",
      "Evaluating generation 3 / 5:\n",
      "100%|███████████████████████████████████████████| 25/25 [00:41<00:00,  1.68s/it]\n",
      "Generation 3: Best Individual: Individual(idx = 39, smiles = COCCOCC(O)COC(=O)c1ccc(S(N)(=O)=O)cc1, cost = 0.5061900814545027).\n",
      "\n",
      "Evaluating generation 4 / 5:\n",
      "100%|███████████████████████████████████████████| 23/23 [00:38<00:00,  1.69s/it]\n",
      "Generation 4: Best Individual: Individual(idx = 39, smiles = COCCOCC(O)COC(=O)c1ccc(S(N)(=O)=O)cc1, cost = 0.5061900814545027).\n",
      "\n",
      "Evaluating generation 5 / 5:\n",
      "100%|███████████████████████████████████████████| 23/23 [00:43<00:00,  1.89s/it]\n",
      "File 01_grow_pop.sdf was createad!\n",
      "Generation 5: Best Individual: Individual(idx = 130, smiles = NS(=O)(=O)c1cc(Cl)c(C(=O)OCC(=O)CF)cc1Br, cost = 0.48146204303104334).\n",
      "\n",
      "\n",
      "=+=+=+=+=+=+=+=+=+=+=+=+=+=+=+=+=+=+=+=+=+=+=+=+=+=+=+=+=+=+=+=+=+=+=+=+=+=+=+=+=+=+=+=+=+=+=+=+=+=+\n",
      "\n",
      "The simulation finished successfully after 5 generations with a population of 25 individuals. A total number of 146 Individuals were seen during the simulation.\n",
      "Initial Individual: Individual(idx = 0, smiles = COC(=O)c1ccc(S(N)(=O)=O)cc1, cost = 0.6346613653952515)\n",
      "Final Individual: Individual(idx = 130, smiles = NS(=O)(=O)c1cc(Cl)c(C(=O)OCC(=O)CF)cc1Br, cost = 0.48146204303104334)\n",
      "The cost function droped in 0.1531993223642082 units.\n",
      "\n",
      "=+=+=+=+=+=+=+=+=+=+=+=+=+=+=+=+=+=+=+=+=+=+=+=+=+=+=+=+=+=+=+=+=+=+=+=+=+=+=+=+=+=+=+=+=+=+=+=+=+=+\n",
      "\n",
      "Total time (5 generations): 257.61 (s).\n",
      "Finished at Thu Aug 25 17:44:52 2022.\n",
      "\n",
      "File 01_grow_pop.sdf was createad!\n",
      "The main job finished!.\n",
      "The follow job 02_allow_grow started.\n",
      "File 02_allow_grow_pop.sdf was createad!\n",
      "Evaluating generation 6 / 10:\n",
      "100%|███████████████████████████████████████████| 25/25 [00:26<00:00,  1.06s/it]\n",
      "Generation 6: Best Individual: Individual(idx = 130, smiles = NS(=O)(=O)c1cc(Cl)c(C(=O)OCC(=O)CF)cc1Br, cost = 0.48146204303104334).\n",
      "\n",
      "Evaluating generation 7 / 10:\n",
      "100%|███████████████████████████████████████████| 25/25 [00:24<00:00,  1.01it/s]\n",
      "Generation 7: Best Individual: Individual(idx = 130, smiles = NS(=O)(=O)c1cc(Cl)c(C(=O)OCC(=O)CF)cc1Br, cost = 0.48146204303104334).\n",
      "\n",
      "Evaluating generation 8 / 10:\n",
      "100%|███████████████████████████████████████████| 25/25 [00:32<00:00,  1.32s/it]\n",
      "Generation 8: Best Individual: Individual(idx = 130, smiles = NS(=O)(=O)c1cc(Cl)c(C(=O)OCC(=O)CF)cc1Br, cost = 0.48146204303104334).\n",
      "\n",
      "Evaluating generation 9 / 10:\n",
      "100%|███████████████████████████████████████████| 25/25 [00:25<00:00,  1.04s/it]\n",
      "Generation 9: Best Individual: Individual(idx = 130, smiles = NS(=O)(=O)c1cc(Cl)c(C(=O)OCC(=O)CF)cc1Br, cost = 0.48146204303104334).\n",
      "\n",
      "Evaluating generation 10 / 10:\n",
      "100%|███████████████████████████████████████████| 23/23 [00:22<00:00,  1.01it/s]\n",
      "File 02_allow_grow_pop.sdf was createad!\n",
      "Generation 10: Best Individual: Individual(idx = 258, smiles = COCCOCC(O)COC(=O)c1ccc(S(N)(=O)=O)c(O)c1, cost = 0.4566652511129885).\n",
      "\n",
      "\n",
      "=+=+=+=+=+=+=+=+=+=+=+=+=+=+=+=+=+=+=+=+=+=+=+=+=+=+=+=+=+=+=+=+=+=+=+=+=+=+=+=+=+=+=+=+=+=+=+=+=+=+\n",
      "\n",
      "The simulation finished successfully after 10 generations with a population of 25 individuals. A total number of 267 Individuals were seen during the simulation.\n",
      "Initial Individual: Individual(idx = 0, smiles = COC(=O)c1ccc(S(N)(=O)=O)cc1, cost = 0.6346613653952515)\n",
      "Final Individual: Individual(idx = 258, smiles = COCCOCC(O)COC(=O)c1ccc(S(N)(=O)=O)c(O)c1, cost = 0.4566652511129885)\n",
      "The cost function droped in 0.17799611428226303 units.\n",
      "\n",
      "=+=+=+=+=+=+=+=+=+=+=+=+=+=+=+=+=+=+=+=+=+=+=+=+=+=+=+=+=+=+=+=+=+=+=+=+=+=+=+=+=+=+=+=+=+=+=+=+=+=+\n",
      "\n",
      "Total time (10 generations): 169.69 (s).\n",
      "Finished at Thu Aug 25 17:47:42 2022.\n",
      "\n",
      "File 02_allow_grow_pop.sdf was createad!\n",
      "The job 02_allow_grow finished!.\n",
      "The follow job 03_pure_mutate started.\n",
      "File 03_pure_mutate_pop.sdf was createad!\n",
      "Evaluating generation 11 / 12:\n",
      "100%|███████████████████████████████████████████| 25/25 [00:18<00:00,  1.34it/s]\n",
      "Generation 11: Best Individual: Individual(idx = 258, smiles = COCCOCC(O)COC(=O)c1ccc(S(N)(=O)=O)c(O)c1, cost = 0.4566652511129885).\n",
      "\n",
      "Evaluating generation 12 / 12:\n",
      "100%|███████████████████████████████████████████| 25/25 [00:23<00:00,  1.04it/s]\n",
      "File 03_pure_mutate_pop.sdf was createad!\n",
      "Generation 12: Best Individual: Individual(idx = 258, smiles = COCCOCC(O)COC(=O)c1ccc(S(N)(=O)=O)c(O)c1, cost = 0.4566652511129885).\n",
      "\n",
      "\n",
      "=+=+=+=+=+=+=+=+=+=+=+=+=+=+=+=+=+=+=+=+=+=+=+=+=+=+=+=+=+=+=+=+=+=+=+=+=+=+=+=+=+=+=+=+=+=+=+=+=+=+\n",
      "\n",
      "The simulation finished successfully after 12 generations with a population of 25 individuals. A total number of 317 Individuals were seen during the simulation.\n",
      "Initial Individual: Individual(idx = 0, smiles = COC(=O)c1ccc(S(N)(=O)=O)cc1, cost = 0.6346613653952515)\n",
      "Final Individual: Individual(idx = 258, smiles = COCCOCC(O)COC(=O)c1ccc(S(N)(=O)=O)c(O)c1, cost = 0.4566652511129885)\n",
      "The cost function droped in 0.17799611428226303 units.\n",
      "\n",
      "=+=+=+=+=+=+=+=+=+=+=+=+=+=+=+=+=+=+=+=+=+=+=+=+=+=+=+=+=+=+=+=+=+=+=+=+=+=+=+=+=+=+=+=+=+=+=+=+=+=+\n",
      "\n",
      "Total time (12 generations): 66.41 (s).\n",
      "Finished at Thu Aug 25 17:48:48 2022.\n",
      "\n",
      "File 03_pure_mutate_pop.sdf was createad!\n",
      "The job 03_pure_mutate finished!.\n",
      "The follow job 04_local started.\n",
      "File 04_local_pop.sdf was createad!\n",
      "Evaluating generation 13 / 14:\n",
      "100%|███████████████████████████████████████████| 20/20 [00:16<00:00,  1.20it/s]\n",
      "Generation 13: Best Individual: Individual(idx = 258, smiles = COCCOCC(O)COC(=O)c1ccc(S(N)(=O)=O)c(O)c1, cost = 0.4566652511129885).\n",
      "\n",
      "Evaluating generation 14 / 14:\n",
      "100%|███████████████████████████████████████████| 25/25 [00:20<00:00,  1.23it/s]\n",
      "File 04_local_pop.sdf was createad!\n",
      "Generation 14: Best Individual: Individual(idx = 258, smiles = COCCOCC(O)COC(=O)c1ccc(S(N)(=O)=O)c(O)c1, cost = 0.4566652511129885).\n",
      "\n",
      "\n",
      "=+=+=+=+=+=+=+=+=+=+=+=+=+=+=+=+=+=+=+=+=+=+=+=+=+=+=+=+=+=+=+=+=+=+=+=+=+=+=+=+=+=+=+=+=+=+=+=+=+=+\n",
      "\n",
      "The simulation finished successfully after 14 generations with a population of 25 individuals. A total number of 362 Individuals were seen during the simulation.\n",
      "Initial Individual: Individual(idx = 0, smiles = COC(=O)c1ccc(S(N)(=O)=O)cc1, cost = 0.6346613653952515)\n",
      "Final Individual: Individual(idx = 258, smiles = COCCOCC(O)COC(=O)c1ccc(S(N)(=O)=O)c(O)c1, cost = 0.4566652511129885)\n",
      "The cost function droped in 0.17799611428226303 units.\n",
      "\n",
      "=+=+=+=+=+=+=+=+=+=+=+=+=+=+=+=+=+=+=+=+=+=+=+=+=+=+=+=+=+=+=+=+=+=+=+=+=+=+=+=+=+=+=+=+=+=+=+=+=+=+\n",
      "\n",
      "Total time (14 generations): 52.11 (s).\n",
      "Finished at Thu Aug 25 17:49:41 2022.\n",
      "\n",
      "File 04_local_pop.sdf was createad!\n",
      "The job 04_local finished!.\n"
     ]
    }
   ],
   "source": [
    "\n",
    "cwd = os.getcwd()\n",
    "os.chdir(wd)\n",
    "! moldrug tune_config.yml\n",
    "os.chdir(cwd)\n",
    "os.listdir(wd)\n",
    "os.chdir(cwd)"
   ]
  },
  {
   "cell_type": "code",
   "execution_count": 20,
   "metadata": {},
   "outputs": [
    {
     "name": "stdout",
     "output_type": "stream",
     "text": [
      "avg = -5.079627200000001\n",
      "min = -5.98645\n",
      "max = -4.2378\n"
     ]
    }
   ],
   "source": [
    "result = utils.decompress_pickle(os.path.join(wd, '04_local_result.pbz2'))\n",
    "valid_individuals_vina_score = [individual.vina_score for individual in result.pop if individual.vina_score != np.inf]\n",
    "print(f\"avg = {np.average(valid_individuals_vina_score)}\")\n",
    "print(f\"min = {min(valid_individuals_vina_score)}\")\n",
    "print(f\"max = {max(valid_individuals_vina_score)}\")\n"
   ]
  },
  {
   "cell_type": "markdown",
   "metadata": {},
   "source": [
    "It was not to much improvement on this simulation (maybe in yours the difference is bigger)"
   ]
  }
 ],
 "metadata": {
  "kernelspec": {
   "display_name": "Python 3.9.13 ('moldrug')",
   "language": "python",
   "name": "python3"
  },
  "language_info": {
   "codemirror_mode": {
    "name": "ipython",
    "version": 3
   },
   "file_extension": ".py",
   "mimetype": "text/x-python",
   "name": "python",
   "nbconvert_exporter": "python",
   "pygments_lexer": "ipython3",
   "version": "3.9.13"
  },
  "orig_nbformat": 4,
  "vscode": {
   "interpreter": {
    "hash": "580997a69bc0f3991857025e1d93e87ed090e2c1fa4aff0ca8e9824f56baf8cb"
   }
  }
 },
 "nbformat": 4,
 "nbformat_minor": 2
}
