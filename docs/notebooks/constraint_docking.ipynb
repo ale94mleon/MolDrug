{
 "cells": [
  {
   "cell_type": "markdown",
   "metadata": {},
   "source": [
    "# Constraint Docking\n",
    "\n",
    "This feature is available since version 2.0.0"
   ]
  },
  {
   "cell_type": "code",
   "execution_count": 1,
   "metadata": {},
   "outputs": [],
   "source": [
    "import tempfile, os, requests, gzip, shutil, yaml\n",
    "from multiprocessing import cpu_count\n",
    "from moldrug.data import ligands, boxes, receptor_pdbqt, receptor_pdb, constraintref\n",
    "from moldrug import utils\n",
    "tmp_path = tempfile.TemporaryDirectory()\n",
    "import numpy as np\n",
    "from rdkit import Chem"
   ]
  },
  {
   "cell_type": "code",
   "execution_count": 2,
   "metadata": {},
   "outputs": [],
   "source": [
    "def atom_ids_list(smiles:str) -> list[int]:\n",
    "    \"\"\"Return a list of atom IDs for the molecule\n",
    "\n",
    "    Parameters\n",
    "    ----------\n",
    "    smiles : str\n",
    "        The SMILES string of the molecule\n",
    "\n",
    "    Returns\n",
    "    -------\n",
    "    list[int]\n",
    "        List of atoms IDs\n",
    "    \"\"\"\n",
    "    return list(range(Chem.MolFromSmiles(smiles).GetNumAtoms()))"
   ]
  },
  {
   "cell_type": "code",
   "execution_count": 3,
   "metadata": {},
   "outputs": [],
   "source": [
    "# Setting the working directory (you could change it but it MUST be an absolute path)\n",
    "wd = tmp_path.name\n",
    "# os.makedirs('wd_tutorial', exist_ok=True)\n",
    "# wd = os.path.abspath('wd_tutorial')\n"
   ]
  },
  {
   "cell_type": "code",
   "execution_count": 4,
   "metadata": {},
   "outputs": [
    {
     "name": "stdout",
     "output_type": "stream",
     "text": [
      "COC(=O)C=1C=CC(=CC1)S(=O)(=O)N\n",
      "[0, 1, 2, 3, 4, 5, 6, 7, 8, 9, 10, 11, 12, 13]\n",
      "{'A': {'boxcenter': [12.11, 1.84, 23.56], 'boxsize': [22.5, 22.5, 22.5]}}\n",
      "/tmp/tmp7152x8eg ['x0161.pdb', 'ref.sdf', 'crem.db.gz', 'x0161.pdbqt', 'crem.db']\n"
     ]
    }
   ],
   "source": [
    "# Getting the data\n",
    "lig = ligands.r_x0161\n",
    "box = boxes.r_x0161\n",
    "with open(os.path.join(wd, 'x0161.pdbqt'), 'w') as f:\n",
    "    f.write(receptor_pdbqt.r_x0161)\n",
    "with open(os.path.join(wd, 'x0161.pdb'), 'w') as f:\n",
    "    f.write(receptor_pdb.r_x0161)\n",
    "with open(os.path.join(wd, 'ref.sdf'), 'w') as f:\n",
    "    f.write(constraintref.r_x0161)\n",
    "# Getting the CReM data base\n",
    "url = \"http://www.qsar4u.com/files/cremdb/replacements02_sc2.db.gz\"\n",
    "r = requests.get(url, allow_redirects=True)\n",
    "crem_dbgz_path = os.path.join(wd,'crem.db.gz')\n",
    "crem_db_path = os.path.join(wd,'crem.db')\n",
    "open(crem_dbgz_path, 'wb').write(r.content)\n",
    "with gzip.open(crem_dbgz_path, 'rb') as f_in:\n",
    "    with open(crem_db_path, 'wb') as f_out:\n",
    "        shutil.copyfileobj(f_in, f_out)\n",
    "\n",
    "print(lig)\n",
    "print(atom_ids_list(lig))\n",
    "print(box)\n",
    "print(wd, os.listdir(wd))"
   ]
  },
  {
   "cell_type": "markdown",
   "metadata": {},
   "source": [
    "## Setting the configuration\n",
    "\n",
    "**MolDrug**'s version 2.0.4 tried to fix some issues with constraint docking ([see release description](https://moldrug.readthedocs.io/en/latest/source/CHANGELOG.html)). If follow jobs are needed and `mutate_crem_kwargs` allows changes in heavy atoms; it *MUST* be specified the keyword `protected_ids` for `mutate_crem_kwargs`. This is needed because during the generation of constraint conformers `constraint_ref` is used as fix core. Therefore if a generated molecule does not have this core, an error happens. On version 2.0.0 the core was guessed based on MCS but some error happened ([see this RDKit bug](https://github.com/rdkit/rdkit/issues/5518)). You have then two possibles work around:\n",
    "\n",
    "1. Use `mutate_crem_kwargs` that only allow grow operations (`min_size = max_size = 0`). In this way the core will be preserved.\n",
    "2. Specify `protected_ids` inside `mutate_crem_kwargs`. Those IDs are the atom indexes of `seed_mol` that correspond to the atoms of `constraint_ref`.\n",
    "\n",
    "On this tutorial we will use the second strategy. In this case `constraint_ref` is the same as `seed_mol` but with some specific conformation state. Therefore we could use the the result of `atom_ids_list` function (specified above) to get the protected_ids list of atoms. "
   ]
  },
  {
   "cell_type": "code",
   "execution_count": 5,
   "metadata": {},
   "outputs": [
    {
     "data": {
      "text/plain": [
       "['x0161.pdb', 'ref.sdf', 'crem.db.gz', 'x0161.pdbqt', 'config.yml', 'crem.db']"
      ]
     },
     "execution_count": 5,
     "metadata": {},
     "output_type": "execute_result"
    }
   ],
   "source": [
    "config ={\n",
    "    \"01_grow\": {\n",
    "        \"type\": \"GA\",\n",
    "        \"njobs\": 6,\n",
    "        \"seed_mol\": lig,\n",
    "        \"AddHs\": True,\n",
    "        \"costfunc\": \"Cost\",\n",
    "        \"costfunc_kwargs\": {\n",
    "            \"vina_executable\": \"vina\",\n",
    "            \"receptor_pdbqt_path\": os.path.join(wd, 'x0161.pdbqt'),\n",
    "            \"boxcenter\": box['A']['boxcenter'],\n",
    "            \"boxsize\": box['A']['boxsize'],\n",
    "            \"exhaustiveness\": 4,\n",
    "            \"ncores\": int(cpu_count() / 6),\n",
    "            \"num_modes\": 1,\n",
    "            \"constraint\": True,\n",
    "            \"constraint_type\": \"score_only\", # local_only\n",
    "            \"constraint_ref\": os.path.join(wd, 'ref.sdf'),\n",
    "            \"constraint_receptor_pdb_path\": os.path.join(wd, 'x0161.pdb'),\n",
    "            \"constraint_num_conf\": 100,\n",
    "            \"constraint_minimum_conf_rms\": 0.01\n",
    "        },\n",
    "        \"crem_db_path\": crem_db_path,\n",
    "        \"maxiter\": 5,\n",
    "        \"popsize\": 25,\n",
    "        \"beta\": 0.001,\n",
    "        \"pc\": 1,\n",
    "        \"get_similar\": False,\n",
    "        \"mutate_crem_kwargs\": {\n",
    "            \"radius\": 3,\n",
    "            \"min_size\": 0,\n",
    "            \"max_size\": 0,\n",
    "            \"min_inc\": -5,\n",
    "            \"max_inc\": 6,\n",
    "            \"protected_ids\": [0, 1, 2, 3, 4, 5, 6, 7, 8, 9, 10, 11, 12, 13],\n",
    "            \"ncores\": 12\n",
    "        },\n",
    "        \"save_pop_every_gen\": 10,\n",
    "        \"deffnm\": \"01_grow\"\n",
    "    },\n",
    "    \"02_allow_grow\": {\n",
    "        \"mutate_crem_kwargs\": {\n",
    "            \"radius\": 3,\n",
    "            \"min_size\": 0,\n",
    "            \"max_size\": 2,\n",
    "            \"min_inc\": -5,\n",
    "            \"max_inc\": 3,\n",
    "            \"protected_ids\": [0, 1, 2, 3, 4, 5, 6, 7, 8, 9, 10, 11, 12, 13],\n",
    "            \"ncores\": 12\n",
    "        },\n",
    "        \"maxiter\": 5,\n",
    "        \"deffnm\": \"02_allow_grow\"\n",
    "    },\n",
    "    \"03_pure_mutate\": {\n",
    "        \"mutate_crem_kwargs\": {\n",
    "            \"radius\": 3,\n",
    "            \"min_size\": 1,\n",
    "            \"max_size\": 8,\n",
    "            \"min_inc\": -5,\n",
    "            \"max_inc\": 3,\n",
    "            \"protected_ids\": [0, 1, 2, 3, 4, 5, 6, 7, 8, 9, 10, 11, 12, 13],\n",
    "            \"ncores\": 12\n",
    "        },\n",
    "        \"maxiter\": 2,\n",
    "        \"deffnm\": \"03_pure_mutate\"\n",
    "    },\n",
    "    \"04_local\": {\n",
    "        \"mutate_crem_kwargs\": {\n",
    "            \"radius\": 3,\n",
    "            \"min_size\": 0,\n",
    "            \"max_size\": 1,\n",
    "            \"min_inc\": -1,\n",
    "            \"max_inc\": 1,\n",
    "            \"protected_ids\": [0, 1, 2, 3, 4, 5, 6, 7, 8, 9, 10, 11, 12, 13],\n",
    "            \"ncores\": 12\n",
    "        },\n",
    "        \"maxiter\": 2,\n",
    "        \"deffnm\": \"04_local\"\n",
    "    }\n",
    "}\n",
    "# Save the config as a yaml file\n",
    "with open(os.path.join(wd, 'config.yml'), 'w') as f:\n",
    "    yaml.dump(config, f)\n",
    "os.listdir(wd)"
   ]
  },
  {
   "cell_type": "markdown",
   "metadata": {},
   "source": [
    "## Move to the directory and run moldrug"
   ]
  },
  {
   "cell_type": "code",
   "execution_count": 6,
   "metadata": {},
   "outputs": [
    {
     "name": "stdout",
     "output_type": "stream",
     "text": [
      "You are using moldrug: 2.0.5.\n",
      "\n",
      "The main job is being executed.\n",
      "\n",
      "\n",
      "Creating the first population with 25 members:\n",
      "100%|███████████████████████████████████████████| 25/25 [00:16<00:00,  1.48it/s]\n",
      "Initial Population: Best individual: Individual(idx = 0, smiles = COC(=O)c1ccc(S(N)(=O)=O)cc1, cost = 1.0)\n",
      "File 01_grow_pop.sdf was createad!\n",
      "Evaluating generation 1 / 5:\n",
      "100%|███████████████████████████████████████████| 25/25 [00:28<00:00,  1.13s/it]\n",
      "Generation 1: Best Individual: Individual(idx = 0, smiles = COC(=O)c1ccc(S(N)(=O)=O)cc1, cost = 1.0).\n",
      "\n",
      "Evaluating generation 2 / 5:\n",
      "100%|███████████████████████████████████████████| 25/25 [00:34<00:00,  1.37s/it]\n",
      "Generation 2: Best Individual: Individual(idx = 0, smiles = COC(=O)c1ccc(S(N)(=O)=O)cc1, cost = 1.0).\n",
      "\n",
      "Evaluating generation 3 / 5:\n",
      "100%|███████████████████████████████████████████| 25/25 [00:28<00:00,  1.15s/it]\n",
      "Generation 3: Best Individual: Individual(idx = 0, smiles = COC(=O)c1ccc(S(N)(=O)=O)cc1, cost = 1.0).\n",
      "\n",
      "Evaluating generation 4 / 5:\n",
      "100%|███████████████████████████████████████████| 25/25 [00:39<00:00,  1.59s/it]\n",
      "Generation 4: Best Individual: Individual(idx = 0, smiles = COC(=O)c1ccc(S(N)(=O)=O)cc1, cost = 1.0).\n",
      "\n",
      "Evaluating generation 5 / 5:\n",
      "100%|███████████████████████████████████████████| 25/25 [00:32<00:00,  1.32s/it]\n",
      "File 01_grow_pop.sdf was createad!\n",
      "Generation 5: Best Individual: Individual(idx = 0, smiles = COC(=O)c1ccc(S(N)(=O)=O)cc1, cost = 1.0).\n",
      "\n",
      "\n",
      "=+=+=+=+=+=+=+=+=+=+=+=+=+=+=+=+=+=+=+=+=+=+=+=+=+=+=+=+=+=+=+=+=+=+=+=+=+=+=+=+=+=+=+=+=+=+=+=+=+=+\n",
      "\n",
      "The simulation finished successfully after 5 generations with a population of 25 individuals. A total number of 150 Individuals were seen during the simulation.\n",
      "Initial Individual: Individual(idx = 0, smiles = COC(=O)c1ccc(S(N)(=O)=O)cc1, cost = 1.0)\n",
      "Final Individual: Individual(idx = 0, smiles = COC(=O)c1ccc(S(N)(=O)=O)cc1, cost = 1.0)\n",
      "The cost function droped in 0.0 units.\n",
      "\n",
      "=+=+=+=+=+=+=+=+=+=+=+=+=+=+=+=+=+=+=+=+=+=+=+=+=+=+=+=+=+=+=+=+=+=+=+=+=+=+=+=+=+=+=+=+=+=+=+=+=+=+\n",
      "\n",
      "Total time (5 generations): 218.39 (s).\n",
      "Finished at Sun Aug 28 20:42:35 2022.\n",
      "\n",
      "File 01_grow_pop.sdf was createad!\n",
      "The main job finished!.\n",
      "The follow job 02_allow_grow started.\n",
      "File 02_allow_grow_pop.sdf was createad!\n",
      "Evaluating generation 6 / 10:\n",
      "100%|███████████████████████████████████████████| 25/25 [00:24<00:00,  1.02it/s]\n",
      "Generation 6: Best Individual: Individual(idx = 0, smiles = COC(=O)c1ccc(S(N)(=O)=O)cc1, cost = 1.0).\n",
      "\n",
      "Evaluating generation 7 / 10:\n",
      "100%|███████████████████████████████████████████| 25/25 [00:22<00:00,  1.12it/s]\n",
      "Generation 7: Best Individual: Individual(idx = 0, smiles = COC(=O)c1ccc(S(N)(=O)=O)cc1, cost = 1.0).\n",
      "\n",
      "Evaluating generation 8 / 10:\n",
      "100%|███████████████████████████████████████████| 22/22 [00:21<00:00,  1.04it/s]\n",
      "Generation 8: Best Individual: Individual(idx = 0, smiles = COC(=O)c1ccc(S(N)(=O)=O)cc1, cost = 1.0).\n",
      "\n",
      "Evaluating generation 9 / 10:\n",
      "100%|███████████████████████████████████████████| 25/25 [00:22<00:00,  1.09it/s]\n",
      "Generation 9: Best Individual: Individual(idx = 0, smiles = COC(=O)c1ccc(S(N)(=O)=O)cc1, cost = 1.0).\n",
      "\n",
      "Evaluating generation 10 / 10:\n",
      "100%|███████████████████████████████████████████| 23/23 [00:22<00:00,  1.04it/s]\n",
      "File 02_allow_grow_pop.sdf was createad!\n",
      "Generation 10: Best Individual: Individual(idx = 0, smiles = COC(=O)c1ccc(S(N)(=O)=O)cc1, cost = 1.0).\n",
      "\n",
      "\n",
      "=+=+=+=+=+=+=+=+=+=+=+=+=+=+=+=+=+=+=+=+=+=+=+=+=+=+=+=+=+=+=+=+=+=+=+=+=+=+=+=+=+=+=+=+=+=+=+=+=+=+\n",
      "\n",
      "The simulation finished successfully after 10 generations with a population of 25 individuals. A total number of 269 Individuals were seen during the simulation.\n",
      "Initial Individual: Individual(idx = 0, smiles = COC(=O)c1ccc(S(N)(=O)=O)cc1, cost = 1.0)\n",
      "Final Individual: Individual(idx = 0, smiles = COC(=O)c1ccc(S(N)(=O)=O)cc1, cost = 1.0)\n",
      "The cost function droped in 0.0 units.\n",
      "\n",
      "=+=+=+=+=+=+=+=+=+=+=+=+=+=+=+=+=+=+=+=+=+=+=+=+=+=+=+=+=+=+=+=+=+=+=+=+=+=+=+=+=+=+=+=+=+=+=+=+=+=+\n",
      "\n",
      "Total time (10 generations): 141.84 (s).\n",
      "Finished at Sun Aug 28 20:44:57 2022.\n",
      "\n",
      "File 02_allow_grow_pop.sdf was createad!\n",
      "The job 02_allow_grow finished!.\n",
      "The follow job 03_pure_mutate started.\n",
      "File 03_pure_mutate_pop.sdf was createad!\n",
      "Note: The mutation on Individual(idx = 0, smiles = COC(=O)c1ccc(S(N)(=O)=O)cc1, cost = 1.0) did not work, it will be returned the same individual\n",
      "Evaluating generation 11 / 12:\n",
      " 70%|██████████████████████████████             | 14/20 [00:12<00:04,  1.48it/s]Command vina --receptor /tmp/tmp7152x8eg/x0161.pdbqt --center_x 12.11 --center_y 1.84 --center_z 23.56 --size_x 22.5 --size_y 22.5 --size_z 22.5 --cpu 2 --exhaustiveness 4 --num_modes 1 --score_only --ligand /tmp/costfunc5a5wcm9r/283_conf_0.pdbqt returned non-zero exit status 1\n",
      "/home/ale/GITLAB/moldrug/moldrug/fitness.py:407: UserWarning: vina failed. Check: 283_conf_0_error.pbz2 file.\n",
      "  warnings.warn(f\"vina failed. Check: {Individual.idx}_conf_{conf.GetId()}_error.pbz2 file.\")\n",
      "100%|███████████████████████████████████████████| 20/20 [00:17<00:00,  1.16it/s]\n",
      "Generation 11: Best Individual: Individual(idx = 0, smiles = COC(=O)c1ccc(S(N)(=O)=O)cc1, cost = 1.0).\n",
      "\n",
      "Evaluating generation 12 / 12:\n",
      "100%|███████████████████████████████████████████| 22/22 [00:22<00:00,  1.02s/it]\n",
      "File 03_pure_mutate_pop.sdf was createad!\n",
      "Generation 12: Best Individual: Individual(idx = 0, smiles = COC(=O)c1ccc(S(N)(=O)=O)cc1, cost = 1.0).\n",
      "\n",
      "\n",
      "=+=+=+=+=+=+=+=+=+=+=+=+=+=+=+=+=+=+=+=+=+=+=+=+=+=+=+=+=+=+=+=+=+=+=+=+=+=+=+=+=+=+=+=+=+=+=+=+=+=+\n",
      "\n",
      "The simulation finished successfully after 12 generations with a population of 25 individuals. A total number of 311 Individuals were seen during the simulation.\n",
      "Initial Individual: Individual(idx = 0, smiles = COC(=O)c1ccc(S(N)(=O)=O)cc1, cost = 1.0)\n",
      "Final Individual: Individual(idx = 0, smiles = COC(=O)c1ccc(S(N)(=O)=O)cc1, cost = 1.0)\n",
      "The cost function droped in 0.0 units.\n",
      "\n",
      "=+=+=+=+=+=+=+=+=+=+=+=+=+=+=+=+=+=+=+=+=+=+=+=+=+=+=+=+=+=+=+=+=+=+=+=+=+=+=+=+=+=+=+=+=+=+=+=+=+=+\n",
      "\n",
      "Total time (12 generations): 53.36 (s).\n",
      "Finished at Sun Aug 28 20:45:50 2022.\n",
      "\n",
      "File 03_pure_mutate_pop.sdf was createad!\n",
      "The job 03_pure_mutate finished!.\n",
      "The follow job 04_local started.\n",
      "File 04_local_pop.sdf was createad!\n",
      "Evaluating generation 13 / 14:\n",
      "100%|███████████████████████████████████████████| 20/20 [00:17<00:00,  1.13it/s]\n",
      "Generation 13: Best Individual: Individual(idx = 0, smiles = COC(=O)c1ccc(S(N)(=O)=O)cc1, cost = 1.0).\n",
      "\n",
      "Evaluating generation 14 / 14:\n",
      "100%|███████████████████████████████████████████| 22/22 [00:15<00:00,  1.39it/s]\n",
      "File 04_local_pop.sdf was createad!\n",
      "Generation 14: Best Individual: Individual(idx = 0, smiles = COC(=O)c1ccc(S(N)(=O)=O)cc1, cost = 1.0).\n",
      "\n",
      "\n",
      "=+=+=+=+=+=+=+=+=+=+=+=+=+=+=+=+=+=+=+=+=+=+=+=+=+=+=+=+=+=+=+=+=+=+=+=+=+=+=+=+=+=+=+=+=+=+=+=+=+=+\n",
      "\n",
      "The simulation finished successfully after 14 generations with a population of 25 individuals. A total number of 352 Individuals were seen during the simulation.\n",
      "Initial Individual: Individual(idx = 0, smiles = COC(=O)c1ccc(S(N)(=O)=O)cc1, cost = 1.0)\n",
      "Final Individual: Individual(idx = 0, smiles = COC(=O)c1ccc(S(N)(=O)=O)cc1, cost = 1.0)\n",
      "The cost function droped in 0.0 units.\n",
      "\n",
      "=+=+=+=+=+=+=+=+=+=+=+=+=+=+=+=+=+=+=+=+=+=+=+=+=+=+=+=+=+=+=+=+=+=+=+=+=+=+=+=+=+=+=+=+=+=+=+=+=+=+\n",
      "\n",
      "Total time (14 generations): 42.84 (s).\n",
      "Finished at Sun Aug 28 20:46:33 2022.\n",
      "\n",
      "File 04_local_pop.sdf was createad!\n",
      "The job 04_local finished!.\n"
     ]
    }
   ],
   "source": [
    "cwd = os.getcwd()\n",
    "os.chdir(wd)\n",
    "! moldrug config.yml\n",
    "os.chdir(cwd)\n",
    "os.listdir(wd)\n",
    "os.chdir(cwd)"
   ]
  },
  {
   "cell_type": "code",
   "execution_count": 7,
   "metadata": {},
   "outputs": [
    {
     "data": {
      "text/plain": [
       "['x0161.pdb',\n",
       " '01_grow_pop.sdf',\n",
       " '283_conf_0_error.pbz2',\n",
       " '04_local_result.pbz2',\n",
       " 'ref.sdf',\n",
       " '02_allow_grow_pop.pbz2',\n",
       " '03_pure_mutate_result.pbz2',\n",
       " 'crem.db.gz',\n",
       " '03_pure_mutate_pop.sdf',\n",
       " '04_local_pop.pbz2',\n",
       " '01_grow_result.pbz2',\n",
       " '02_allow_grow_pop.sdf',\n",
       " '03_pure_mutate_pop.pbz2',\n",
       " '02_allow_grow_result.pbz2',\n",
       " '04_local_pop.sdf',\n",
       " 'x0161.pdbqt',\n",
       " 'config.yml',\n",
       " 'crem.db',\n",
       " '01_grow_pop.pbz2']"
      ]
     },
     "execution_count": 7,
     "metadata": {},
     "output_type": "execute_result"
    }
   ],
   "source": [
    "os.listdir(wd)"
   ]
  },
  {
   "cell_type": "markdown",
   "metadata": {},
   "source": [
    "## Visualization\n",
    "\n",
    "If needed install the packages through pip:\n",
    "\n",
    "`! pip install nglview, parmed`\n"
   ]
  },
  {
   "cell_type": "code",
   "execution_count": 8,
   "metadata": {},
   "outputs": [
    {
     "data": {
      "application/vnd.jupyter.widget-view+json": {
       "model_id": "3ccd37382b504666af20ada15251a45a",
       "version_major": 2,
       "version_minor": 0
      },
      "text/plain": []
     },
     "metadata": {},
     "output_type": "display_data"
    }
   ],
   "source": [
    "import nglview as nv\n",
    "import parmed as pmd\n",
    "from ipywidgets import IntSlider, VBox"
   ]
  },
  {
   "cell_type": "code",
   "execution_count": 9,
   "metadata": {},
   "outputs": [
    {
     "data": {
      "text/plain": [
       "[<Structure 23 atoms; 1 residues; 23 bonds; NOT parametrized>,\n",
       " <Structure 33 atoms; 1 residues; 33 bonds; NOT parametrized>,\n",
       " <Structure 33 atoms; 1 residues; 33 bonds; NOT parametrized>,\n",
       " <Structure 36 atoms; 1 residues; 36 bonds; NOT parametrized>,\n",
       " <Structure 33 atoms; 1 residues; 33 bonds; NOT parametrized>,\n",
       " <Structure 39 atoms; 1 residues; 39 bonds; NOT parametrized>,\n",
       " <Structure 36 atoms; 1 residues; 36 bonds; NOT parametrized>,\n",
       " <Structure 29 atoms; 1 residues; 29 bonds; NOT parametrized>,\n",
       " <Structure 28 atoms; 1 residues; 28 bonds; NOT parametrized>,\n",
       " <Structure 31 atoms; 1 residues; 31 bonds; NOT parametrized>,\n",
       " <Structure 35 atoms; 1 residues; 35 bonds; NOT parametrized>,\n",
       " <Structure 31 atoms; 1 residues; 32 bonds; NOT parametrized>,\n",
       " <Structure 23 atoms; 1 residues; 23 bonds; NOT parametrized>,\n",
       " <Structure 30 atoms; 1 residues; 30 bonds; NOT parametrized>,\n",
       " <Structure 39 atoms; 1 residues; 40 bonds; NOT parametrized>,\n",
       " <Structure 28 atoms; 1 residues; 29 bonds; NOT parametrized>,\n",
       " <Structure 33 atoms; 1 residues; 34 bonds; NOT parametrized>,\n",
       " <Structure 33 atoms; 1 residues; 34 bonds; NOT parametrized>,\n",
       " <Structure 36 atoms; 1 residues; 36 bonds; NOT parametrized>,\n",
       " <Structure 29 atoms; 1 residues; 30 bonds; NOT parametrized>,\n",
       " <Structure 35 atoms; 1 residues; 35 bonds; NOT parametrized>,\n",
       " <Structure 28 atoms; 1 residues; 28 bonds; NOT parametrized>,\n",
       " <Structure 29 atoms; 1 residues; 29 bonds; NOT parametrized>,\n",
       " <Structure 25 atoms; 1 residues; 25 bonds; NOT parametrized>,\n",
       " <Structure 33 atoms; 1 residues; 33 bonds; NOT parametrized>]"
      ]
     },
     "execution_count": 9,
     "metadata": {},
     "output_type": "execute_result"
    }
   ],
   "source": [
    "parms = pmd.rdkit.from_sdf(os.path.join(wd, '04_local_pop.sdf')) # require parmed, rdkit\n",
    "parms"
   ]
  },
  {
   "cell_type": "code",
   "execution_count": 10,
   "metadata": {},
   "outputs": [
    {
     "data": {
      "application/vnd.jupyter.widget-view+json": {
       "model_id": "b807d0233da64b70b299a5603839497c",
       "version_major": 2,
       "version_minor": 0
      },
      "text/plain": [
       "VBox(children=(NGLWidget(), IntSlider(value=0, max=24)))"
      ]
     },
     "metadata": {},
     "output_type": "display_data"
    }
   ],
   "source": [
    "view = nv.NGLWidget()\n",
    "\n",
    "slider = IntSlider(max=len(parms)-1)\n",
    "\n",
    "def show_one_ligand(change):\n",
    "    val = change['new']\n",
    "    view.show_only([val])\n",
    "    \n",
    "slider.observe(show_one_ligand, 'value')\n",
    "\n",
    "VBox([view, slider])"
   ]
  },
  {
   "cell_type": "code",
   "execution_count": 11,
   "metadata": {},
   "outputs": [],
   "source": [
    "for p in parms:\n",
    "    view.add_structure(nv.ParmEdTrajectory(p))\n",
    "view.show_only([0])"
   ]
  },
  {
   "cell_type": "code",
   "execution_count": 12,
   "metadata": {},
   "outputs": [
    {
     "name": "stdout",
     "output_type": "stream",
     "text": [
      "avg = -2.2375708\n",
      "min = -4.62608\n",
      "max = 6.91252\n"
     ]
    }
   ],
   "source": [
    "result = utils.decompress_pickle(os.path.join(wd, '04_local_result.pbz2'))\n",
    "valid_individuals_vina_score = [individual.vina_score for individual in result.pop if individual.vina_score != np.inf]\n",
    "print(f\"avg = {np.average(valid_individuals_vina_score)}\")\n",
    "print(f\"min = {min(valid_individuals_vina_score)}\")\n",
    "print(f\"max = {max(valid_individuals_vina_score)}\")"
   ]
  },
  {
   "cell_type": "markdown",
   "metadata": {},
   "source": [
    "## See how it looks with local_only"
   ]
  },
  {
   "cell_type": "code",
   "execution_count": 13,
   "metadata": {},
   "outputs": [
    {
     "data": {
      "text/plain": [
       "['x0161.pdb',\n",
       " '01_grow_pop.sdf',\n",
       " '283_conf_0_error.pbz2',\n",
       " '04_local_result.pbz2',\n",
       " 'ref.sdf',\n",
       " '02_allow_grow_pop.pbz2',\n",
       " '03_pure_mutate_result.pbz2',\n",
       " 'crem.db.gz',\n",
       " '03_pure_mutate_pop.sdf',\n",
       " '04_local_pop.pbz2',\n",
       " '01_grow_result.pbz2',\n",
       " '02_allow_grow_pop.sdf',\n",
       " '03_pure_mutate_pop.pbz2',\n",
       " '02_allow_grow_result.pbz2',\n",
       " '04_local_pop.sdf',\n",
       " 'new_config.yml',\n",
       " 'x0161.pdbqt',\n",
       " 'config.yml',\n",
       " 'crem.db',\n",
       " '01_grow_pop.pbz2']"
      ]
     },
     "execution_count": 13,
     "metadata": {},
     "output_type": "execute_result"
    }
   ],
   "source": [
    "# Save the new config as a yaml file\n",
    "new_config = config.copy()\n",
    "new_config['01_grow']['costfunc_kwargs']['constraint_type'] = 'local_only'\n",
    "\n",
    "with open(os.path.join(wd, 'new_config.yml'), 'w') as f:\n",
    "    yaml.dump(config, f)\n",
    "os.listdir(wd)"
   ]
  },
  {
   "cell_type": "markdown",
   "metadata": {},
   "source": [
    "## Move back to the directory and run moldrug"
   ]
  },
  {
   "cell_type": "code",
   "execution_count": 14,
   "metadata": {},
   "outputs": [
    {
     "name": "stdout",
     "output_type": "stream",
     "text": [
      "You are using moldrug: 2.0.5.\n",
      "\n",
      "The main job is being executed.\n",
      "\n",
      "\n",
      "Creating the first population with 25 members:\n",
      "100%|███████████████████████████████████████████| 25/25 [00:24<00:00,  1.04it/s]\n",
      "Initial Population: Best individual: Individual(idx = 0, smiles = COC(=O)c1ccc(S(N)(=O)=O)cc1, cost = 1.0)\n",
      "Individual(idx = 12, smiles = CCCC#CCOC(=O)c1ccc(S(N)(=O)=O)cc1, cost = 1.0) does not have a valid pdbqt.\n",
      "Individual(idx = 17, smiles = COC(=O)c1ccc(S(N)(=O)=O)cc1C(=O)OC, cost = 1.0) does not have a valid pdbqt.\n",
      "Individual(idx = 20, smiles = CCCCOc1cc(S(N)(=O)=O)ccc1C(=O)OC, cost = 1.0) does not have a valid pdbqt.\n",
      "File 01_grow_pop.sdf was createad!\n",
      "Evaluating generation 1 / 5:\n",
      "100%|███████████████████████████████████████████| 25/25 [00:37<00:00,  1.49s/it]\n",
      "Generation 1: Best Individual: Individual(idx = 0, smiles = COC(=O)c1ccc(S(N)(=O)=O)cc1, cost = 1.0).\n",
      "\n",
      "Evaluating generation 2 / 5:\n",
      "100%|███████████████████████████████████████████| 25/25 [00:38<00:00,  1.53s/it]\n",
      "Generation 2: Best Individual: Individual(idx = 0, smiles = COC(=O)c1ccc(S(N)(=O)=O)cc1, cost = 1.0).\n",
      "\n",
      "Evaluating generation 3 / 5:\n",
      "100%|███████████████████████████████████████████| 25/25 [00:40<00:00,  1.61s/it]\n",
      "Generation 3: Best Individual: Individual(idx = 0, smiles = COC(=O)c1ccc(S(N)(=O)=O)cc1, cost = 1.0).\n",
      "\n",
      "Evaluating generation 4 / 5:\n",
      "100%|███████████████████████████████████████████| 25/25 [00:40<00:00,  1.64s/it]\n",
      "Generation 4: Best Individual: Individual(idx = 0, smiles = COC(=O)c1ccc(S(N)(=O)=O)cc1, cost = 1.0).\n",
      "\n",
      "Evaluating generation 5 / 5:\n",
      "100%|███████████████████████████████████████████| 24/24 [00:37<00:00,  1.55s/it]\n",
      "Individual(idx = 12, smiles = CCCC#CCOC(=O)c1ccc(S(N)(=O)=O)cc1, cost = 1.0) does not have a valid pdbqt.\n",
      "Individual(idx = 17, smiles = COC(=O)c1ccc(S(N)(=O)=O)cc1C(=O)OC, cost = 1.0) does not have a valid pdbqt.\n",
      "Individual(idx = 20, smiles = CCCCOc1cc(S(N)(=O)=O)ccc1C(=O)OC, cost = 1.0) does not have a valid pdbqt.\n",
      "File 01_grow_pop.sdf was createad!\n",
      "Generation 5: Best Individual: Individual(idx = 0, smiles = COC(=O)c1ccc(S(N)(=O)=O)cc1, cost = 1.0).\n",
      "\n",
      "\n",
      "=+=+=+=+=+=+=+=+=+=+=+=+=+=+=+=+=+=+=+=+=+=+=+=+=+=+=+=+=+=+=+=+=+=+=+=+=+=+=+=+=+=+=+=+=+=+=+=+=+=+\n",
      "\n",
      "The simulation finished successfully after 5 generations with a population of 25 individuals. A total number of 148 Individuals were seen during the simulation.\n",
      "Initial Individual: Individual(idx = 0, smiles = COC(=O)c1ccc(S(N)(=O)=O)cc1, cost = 1.0)\n",
      "Final Individual: Individual(idx = 0, smiles = COC(=O)c1ccc(S(N)(=O)=O)cc1, cost = 1.0)\n",
      "The cost function droped in 0.0 units.\n",
      "\n",
      "=+=+=+=+=+=+=+=+=+=+=+=+=+=+=+=+=+=+=+=+=+=+=+=+=+=+=+=+=+=+=+=+=+=+=+=+=+=+=+=+=+=+=+=+=+=+=+=+=+=+\n",
      "\n",
      "Total time (5 generations): 256.96 (s).\n",
      "Finished at Sun Aug 28 20:50:53 2022.\n",
      "\n",
      "Individual(idx = 12, smiles = CCCC#CCOC(=O)c1ccc(S(N)(=O)=O)cc1, cost = 1.0) does not have a valid pdbqt.\n",
      "Individual(idx = 17, smiles = COC(=O)c1ccc(S(N)(=O)=O)cc1C(=O)OC, cost = 1.0) does not have a valid pdbqt.\n",
      "Individual(idx = 20, smiles = CCCCOc1cc(S(N)(=O)=O)ccc1C(=O)OC, cost = 1.0) does not have a valid pdbqt.\n",
      "File 01_grow_pop.sdf was createad!\n",
      "The main job finished!.\n",
      "The follow job 02_allow_grow started.\n",
      "Individual(idx = 12, smiles = CCCC#CCOC(=O)c1ccc(S(N)(=O)=O)cc1, cost = 1.0) does not have a valid pdbqt.\n",
      "Individual(idx = 17, smiles = COC(=O)c1ccc(S(N)(=O)=O)cc1C(=O)OC, cost = 1.0) does not have a valid pdbqt.\n",
      "Individual(idx = 20, smiles = CCCCOc1cc(S(N)(=O)=O)ccc1C(=O)OC, cost = 1.0) does not have a valid pdbqt.\n",
      "File 02_allow_grow_pop.sdf was createad!\n",
      "Evaluating generation 6 / 10:\n",
      "100%|███████████████████████████████████████████| 24/24 [00:26<00:00,  1.10s/it]\n",
      "Generation 6: Best Individual: Individual(idx = 0, smiles = COC(=O)c1ccc(S(N)(=O)=O)cc1, cost = 1.0).\n",
      "\n",
      "Evaluating generation 7 / 10:\n",
      "100%|███████████████████████████████████████████| 24/24 [00:28<00:00,  1.19s/it]\n",
      "Generation 7: Best Individual: Individual(idx = 0, smiles = COC(=O)c1ccc(S(N)(=O)=O)cc1, cost = 1.0).\n",
      "\n",
      "Evaluating generation 8 / 10:\n",
      "100%|███████████████████████████████████████████| 24/24 [00:26<00:00,  1.12s/it]\n",
      "Generation 8: Best Individual: Individual(idx = 0, smiles = COC(=O)c1ccc(S(N)(=O)=O)cc1, cost = 1.0).\n",
      "\n",
      "Evaluating generation 9 / 10:\n",
      "100%|███████████████████████████████████████████| 24/24 [00:30<00:00,  1.29s/it]\n",
      "Generation 9: Best Individual: Individual(idx = 0, smiles = COC(=O)c1ccc(S(N)(=O)=O)cc1, cost = 1.0).\n",
      "\n",
      "Evaluating generation 10 / 10:\n",
      "100%|███████████████████████████████████████████| 25/25 [00:30<00:00,  1.21s/it]\n",
      "Individual(idx = 12, smiles = CCCC#CCOC(=O)c1ccc(S(N)(=O)=O)cc1, cost = 1.0) does not have a valid pdbqt.\n",
      "Individual(idx = 17, smiles = COC(=O)c1ccc(S(N)(=O)=O)cc1C(=O)OC, cost = 1.0) does not have a valid pdbqt.\n",
      "Individual(idx = 20, smiles = CCCCOc1cc(S(N)(=O)=O)ccc1C(=O)OC, cost = 1.0) does not have a valid pdbqt.\n",
      "File 02_allow_grow_pop.sdf was createad!\n",
      "Generation 10: Best Individual: Individual(idx = 0, smiles = COC(=O)c1ccc(S(N)(=O)=O)cc1, cost = 1.0).\n",
      "\n",
      "\n",
      "=+=+=+=+=+=+=+=+=+=+=+=+=+=+=+=+=+=+=+=+=+=+=+=+=+=+=+=+=+=+=+=+=+=+=+=+=+=+=+=+=+=+=+=+=+=+=+=+=+=+\n",
      "\n",
      "The simulation finished successfully after 10 generations with a population of 25 individuals. A total number of 269 Individuals were seen during the simulation.\n",
      "Initial Individual: Individual(idx = 0, smiles = COC(=O)c1ccc(S(N)(=O)=O)cc1, cost = 1.0)\n",
      "Final Individual: Individual(idx = 0, smiles = COC(=O)c1ccc(S(N)(=O)=O)cc1, cost = 1.0)\n",
      "The cost function droped in 0.0 units.\n",
      "\n",
      "=+=+=+=+=+=+=+=+=+=+=+=+=+=+=+=+=+=+=+=+=+=+=+=+=+=+=+=+=+=+=+=+=+=+=+=+=+=+=+=+=+=+=+=+=+=+=+=+=+=+\n",
      "\n",
      "Total time (10 generations): 174.68 (s).\n",
      "Finished at Sun Aug 28 20:53:48 2022.\n",
      "\n",
      "Individual(idx = 12, smiles = CCCC#CCOC(=O)c1ccc(S(N)(=O)=O)cc1, cost = 1.0) does not have a valid pdbqt.\n",
      "Individual(idx = 17, smiles = COC(=O)c1ccc(S(N)(=O)=O)cc1C(=O)OC, cost = 1.0) does not have a valid pdbqt.\n",
      "Individual(idx = 20, smiles = CCCCOc1cc(S(N)(=O)=O)ccc1C(=O)OC, cost = 1.0) does not have a valid pdbqt.\n",
      "File 02_allow_grow_pop.sdf was createad!\n",
      "The job 02_allow_grow finished!.\n",
      "The follow job 03_pure_mutate started.\n",
      "Individual(idx = 12, smiles = CCCC#CCOC(=O)c1ccc(S(N)(=O)=O)cc1, cost = 1.0) does not have a valid pdbqt.\n",
      "Individual(idx = 17, smiles = COC(=O)c1ccc(S(N)(=O)=O)cc1C(=O)OC, cost = 1.0) does not have a valid pdbqt.\n",
      "Individual(idx = 20, smiles = CCCCOc1cc(S(N)(=O)=O)ccc1C(=O)OC, cost = 1.0) does not have a valid pdbqt.\n",
      "File 03_pure_mutate_pop.sdf was createad!\n",
      "Evaluating generation 11 / 12:\n",
      "100%|███████████████████████████████████████████| 22/22 [00:28<00:00,  1.30s/it]\n",
      "Generation 11: Best Individual: Individual(idx = 0, smiles = COC(=O)c1ccc(S(N)(=O)=O)cc1, cost = 1.0).\n",
      "\n",
      "Note: The mutation on Individual(idx = 0, smiles = COC(=O)c1ccc(S(N)(=O)=O)cc1, cost = 1.0) did not work, it will be returned the same individual\n",
      "Note: The mutation on Individual(idx = 0, smiles = COC(=O)c1ccc(S(N)(=O)=O)cc1, cost = 1.0) did not work, it will be returned the same individual\n",
      "Note: The mutation on Individual(idx = 0, smiles = COC(=O)c1ccc(S(N)(=O)=O)cc1, cost = 1.0) did not work, it will be returned the same individual\n",
      "Evaluating generation 12 / 12:\n",
      "100%|███████████████████████████████████████████| 19/19 [00:17<00:00,  1.12it/s]\n",
      "Individual(idx = 12, smiles = CCCC#CCOC(=O)c1ccc(S(N)(=O)=O)cc1, cost = 1.0) does not have a valid pdbqt.\n",
      "Individual(idx = 17, smiles = COC(=O)c1ccc(S(N)(=O)=O)cc1C(=O)OC, cost = 1.0) does not have a valid pdbqt.\n",
      "Individual(idx = 20, smiles = CCCCOc1cc(S(N)(=O)=O)ccc1C(=O)OC, cost = 1.0) does not have a valid pdbqt.\n",
      "File 03_pure_mutate_pop.sdf was createad!\n",
      "Generation 12: Best Individual: Individual(idx = 0, smiles = COC(=O)c1ccc(S(N)(=O)=O)cc1, cost = 1.0).\n",
      "\n",
      "\n",
      "=+=+=+=+=+=+=+=+=+=+=+=+=+=+=+=+=+=+=+=+=+=+=+=+=+=+=+=+=+=+=+=+=+=+=+=+=+=+=+=+=+=+=+=+=+=+=+=+=+=+\n",
      "\n",
      "The simulation finished successfully after 12 generations with a population of 25 individuals. A total number of 310 Individuals were seen during the simulation.\n",
      "Initial Individual: Individual(idx = 0, smiles = COC(=O)c1ccc(S(N)(=O)=O)cc1, cost = 1.0)\n",
      "Final Individual: Individual(idx = 0, smiles = COC(=O)c1ccc(S(N)(=O)=O)cc1, cost = 1.0)\n",
      "The cost function droped in 0.0 units.\n",
      "\n",
      "=+=+=+=+=+=+=+=+=+=+=+=+=+=+=+=+=+=+=+=+=+=+=+=+=+=+=+=+=+=+=+=+=+=+=+=+=+=+=+=+=+=+=+=+=+=+=+=+=+=+\n",
      "\n",
      "Total time (12 generations): 58.38 (s).\n",
      "Finished at Sun Aug 28 20:54:47 2022.\n",
      "\n",
      "Individual(idx = 12, smiles = CCCC#CCOC(=O)c1ccc(S(N)(=O)=O)cc1, cost = 1.0) does not have a valid pdbqt.\n",
      "Individual(idx = 17, smiles = COC(=O)c1ccc(S(N)(=O)=O)cc1C(=O)OC, cost = 1.0) does not have a valid pdbqt.\n",
      "Individual(idx = 20, smiles = CCCCOc1cc(S(N)(=O)=O)ccc1C(=O)OC, cost = 1.0) does not have a valid pdbqt.\n",
      "File 03_pure_mutate_pop.sdf was createad!\n",
      "The job 03_pure_mutate finished!.\n",
      "The follow job 04_local started.\n",
      "Individual(idx = 12, smiles = CCCC#CCOC(=O)c1ccc(S(N)(=O)=O)cc1, cost = 1.0) does not have a valid pdbqt.\n",
      "Individual(idx = 17, smiles = COC(=O)c1ccc(S(N)(=O)=O)cc1C(=O)OC, cost = 1.0) does not have a valid pdbqt.\n",
      "Individual(idx = 20, smiles = CCCCOc1cc(S(N)(=O)=O)ccc1C(=O)OC, cost = 1.0) does not have a valid pdbqt.\n",
      "File 04_local_pop.sdf was createad!\n",
      "Evaluating generation 13 / 14:\n",
      "100%|███████████████████████████████████████████| 23/23 [00:24<00:00,  1.08s/it]\n",
      "Generation 13: Best Individual: Individual(idx = 0, smiles = COC(=O)c1ccc(S(N)(=O)=O)cc1, cost = 1.0).\n",
      "\n",
      "Evaluating generation 14 / 14:\n",
      "100%|███████████████████████████████████████████| 21/21 [00:22<00:00,  1.08s/it]\n",
      "Individual(idx = 12, smiles = CCCC#CCOC(=O)c1ccc(S(N)(=O)=O)cc1, cost = 1.0) does not have a valid pdbqt.\n",
      "Individual(idx = 17, smiles = COC(=O)c1ccc(S(N)(=O)=O)cc1C(=O)OC, cost = 1.0) does not have a valid pdbqt.\n",
      "Individual(idx = 20, smiles = CCCCOc1cc(S(N)(=O)=O)ccc1C(=O)OC, cost = 1.0) does not have a valid pdbqt.\n",
      "File 04_local_pop.sdf was createad!\n",
      "Generation 14: Best Individual: Individual(idx = 0, smiles = COC(=O)c1ccc(S(N)(=O)=O)cc1, cost = 1.0).\n",
      "\n",
      "\n",
      "=+=+=+=+=+=+=+=+=+=+=+=+=+=+=+=+=+=+=+=+=+=+=+=+=+=+=+=+=+=+=+=+=+=+=+=+=+=+=+=+=+=+=+=+=+=+=+=+=+=+\n",
      "\n",
      "The simulation finished successfully after 14 generations with a population of 25 individuals. A total number of 353 Individuals were seen during the simulation.\n",
      "Initial Individual: Individual(idx = 0, smiles = COC(=O)c1ccc(S(N)(=O)=O)cc1, cost = 1.0)\n",
      "Final Individual: Individual(idx = 0, smiles = COC(=O)c1ccc(S(N)(=O)=O)cc1, cost = 1.0)\n",
      "The cost function droped in 0.0 units.\n",
      "\n",
      "=+=+=+=+=+=+=+=+=+=+=+=+=+=+=+=+=+=+=+=+=+=+=+=+=+=+=+=+=+=+=+=+=+=+=+=+=+=+=+=+=+=+=+=+=+=+=+=+=+=+\n",
      "\n",
      "Total time (14 generations): 56.61 (s).\n",
      "Finished at Sun Aug 28 20:55:43 2022.\n",
      "\n",
      "Individual(idx = 12, smiles = CCCC#CCOC(=O)c1ccc(S(N)(=O)=O)cc1, cost = 1.0) does not have a valid pdbqt.\n",
      "Individual(idx = 17, smiles = COC(=O)c1ccc(S(N)(=O)=O)cc1C(=O)OC, cost = 1.0) does not have a valid pdbqt.\n",
      "Individual(idx = 20, smiles = CCCCOc1cc(S(N)(=O)=O)ccc1C(=O)OC, cost = 1.0) does not have a valid pdbqt.\n",
      "File 04_local_pop.sdf was createad!\n",
      "The job 04_local finished!.\n"
     ]
    }
   ],
   "source": [
    "cwd = os.getcwd()\n",
    "os.chdir(wd)\n",
    "! moldrug new_config.yml\n",
    "os.chdir(cwd)\n",
    "os.listdir(wd)\n",
    "os.chdir(cwd)"
   ]
  },
  {
   "cell_type": "code",
   "execution_count": 15,
   "metadata": {},
   "outputs": [
    {
     "data": {
      "text/plain": [
       "[<Structure 23 atoms; 1 residues; 23 bonds; NOT parametrized>,\n",
       " <Structure 32 atoms; 1 residues; 32 bonds; NOT parametrized>,\n",
       " <Structure 32 atoms; 1 residues; 32 bonds; NOT parametrized>,\n",
       " <Structure 31 atoms; 1 residues; 31 bonds; NOT parametrized>,\n",
       " <Structure 27 atoms; 1 residues; 27 bonds; NOT parametrized>,\n",
       " <Structure 31 atoms; 1 residues; 32 bonds; NOT parametrized>,\n",
       " <Structure 32 atoms; 1 residues; 32 bonds; NOT parametrized>,\n",
       " <Structure 33 atoms; 1 residues; 33 bonds; NOT parametrized>,\n",
       " <Structure 26 atoms; 1 residues; 26 bonds; NOT parametrized>,\n",
       " <Structure 33 atoms; 1 residues; 33 bonds; NOT parametrized>,\n",
       " <Structure 36 atoms; 1 residues; 36 bonds; NOT parametrized>,\n",
       " <Structure 30 atoms; 1 residues; 31 bonds; NOT parametrized>,\n",
       " <Structure 37 atoms; 1 residues; 37 bonds; NOT parametrized>,\n",
       " <Structure 24 atoms; 1 residues; 24 bonds; NOT parametrized>,\n",
       " <Structure 28 atoms; 1 residues; 28 bonds; NOT parametrized>,\n",
       " <Structure 34 atoms; 1 residues; 34 bonds; NOT parametrized>,\n",
       " <Structure 32 atoms; 1 residues; 32 bonds; NOT parametrized>,\n",
       " <Structure 34 atoms; 1 residues; 34 bonds; NOT parametrized>,\n",
       " <Structure 30 atoms; 1 residues; 30 bonds; NOT parametrized>,\n",
       " <Structure 34 atoms; 1 residues; 34 bonds; NOT parametrized>,\n",
       " <Structure 36 atoms; 1 residues; 36 bonds; NOT parametrized>,\n",
       " <Structure 25 atoms; 1 residues; 25 bonds; NOT parametrized>]"
      ]
     },
     "execution_count": 15,
     "metadata": {},
     "output_type": "execute_result"
    }
   ],
   "source": [
    "parms = pmd.rdkit.from_sdf(os.path.join(wd, '04_local_pop.sdf')) # require parmed, rdkit\n",
    "parms"
   ]
  },
  {
   "cell_type": "code",
   "execution_count": 16,
   "metadata": {},
   "outputs": [
    {
     "data": {
      "application/vnd.jupyter.widget-view+json": {
       "model_id": "6f75e15277f94680b26461c902ab3f08",
       "version_major": 2,
       "version_minor": 0
      },
      "text/plain": [
       "VBox(children=(NGLWidget(), IntSlider(value=0, max=21)))"
      ]
     },
     "metadata": {},
     "output_type": "display_data"
    }
   ],
   "source": [
    "view = nv.NGLWidget()\n",
    "\n",
    "slider = IntSlider(max=len(parms)-1)\n",
    "\n",
    "def show_one_ligand(change):\n",
    "    val = change['new']\n",
    "    view.show_only([val])\n",
    "    \n",
    "slider.observe(show_one_ligand, 'value')\n",
    "\n",
    "VBox([view, slider])"
   ]
  },
  {
   "cell_type": "code",
   "execution_count": 17,
   "metadata": {},
   "outputs": [],
   "source": [
    "for p in parms:\n",
    "    view.add_structure(nv.ParmEdTrajectory(p))\n",
    "view.show_only([0])"
   ]
  },
  {
   "cell_type": "code",
   "execution_count": 18,
   "metadata": {},
   "outputs": [
    {
     "name": "stdout",
     "output_type": "stream",
     "text": [
      "avg = -4.386658636363636\n",
      "min = -5.29661\n",
      "max = 1.01658\n"
     ]
    }
   ],
   "source": [
    "result = utils.decompress_pickle(os.path.join(wd, '04_local_result.pbz2'))\n",
    "valid_individuals_vina_score = [individual.vina_score for individual in result.pop if individual.vina_score != np.inf]\n",
    "print(f\"avg = {np.average(valid_individuals_vina_score)}\")\n",
    "print(f\"min = {min(valid_individuals_vina_score)}\")\n",
    "print(f\"max = {max(valid_individuals_vina_score)}\")\n"
   ]
  },
  {
   "cell_type": "markdown",
   "metadata": {},
   "source": [
    "As you can see now the fix core changes a little. On both examples (when you run the tutorial by yourself may be different) **MolDrug** can not optimize the cost function. Even so, the local_only strategy performs better respect to maximum and average cost. One of the main cause of this behavior is the desirability definition which is for vina_score:\n",
    "\n",
    "```\n",
    "'vina_score': {\n",
    "    'w': 1,\n",
    "    'SmallerTheBest': {\n",
    "        'Target': -12,\n",
    "        'UpperLimit': -6,\n",
    "        'r': 1\n",
    "    }\n",
    "}\n",
    "```\n",
    "\n",
    "This means that if the vina score is not lower than -6 the cost function will be always 1. In this scenario all were are not optimizing over the generations the \"best\" individuals. In other words, it is important to see what is the behavior of our system (one small simulation) and then tune your parameters accordantly. On possibility for this system is change UpperLimit to, for example -4. There are a lot of other different options that you could play around (e.g. increase the generations, etc...). It is important to remark that this example is just for the tutorial, in a real project you may need to increase generations, tune the crem keywords, etc. I let it to you as a challenge. Happy simulations!\n",
    "\n",
    "Just as a bonus I let you here how to change the desirability definition."
   ]
  },
  {
   "cell_type": "markdown",
   "metadata": {},
   "source": [
    "## Change the desirability"
   ]
  },
  {
   "cell_type": "code",
   "execution_count": 19,
   "metadata": {},
   "outputs": [
    {
     "data": {
      "text/plain": [
       "['x0161.pdb',\n",
       " '01_grow_pop.sdf',\n",
       " '283_conf_0_error.pbz2',\n",
       " '04_local_result.pbz2',\n",
       " 'ref.sdf',\n",
       " '02_allow_grow_pop.pbz2',\n",
       " '03_pure_mutate_result.pbz2',\n",
       " 'crem.db.gz',\n",
       " 'tune_config.yml',\n",
       " '03_pure_mutate_pop.sdf',\n",
       " '04_local_pop.pbz2',\n",
       " '01_grow_result.pbz2',\n",
       " '02_allow_grow_pop.sdf',\n",
       " '03_pure_mutate_pop.pbz2',\n",
       " '02_allow_grow_result.pbz2',\n",
       " '04_local_pop.sdf',\n",
       " 'new_config.yml',\n",
       " 'x0161.pdbqt',\n",
       " 'config.yml',\n",
       " 'crem.db',\n",
       " '01_grow_pop.pbz2']"
      ]
     },
     "execution_count": 19,
     "metadata": {},
     "output_type": "execute_result"
    }
   ],
   "source": [
    "# Save the new config as a yaml file\n",
    "tune_config = new_config.copy()\n",
    "tune_config['01_grow']['costfunc_kwargs']['desirability'] = {\n",
    "        'qed': {\n",
    "            'w': 1,\n",
    "            'LargerTheBest': {\n",
    "                'LowerLimit': 0.1,\n",
    "                'Target': 0.75,\n",
    "                'r': 1\n",
    "            }\n",
    "        },\n",
    "        'sa_score': {\n",
    "            'w': 1,\n",
    "            'SmallerTheBest': {\n",
    "                'Target': 3,\n",
    "                'UpperLimit': 7,\n",
    "                'r': 1\n",
    "            }\n",
    "        },\n",
    "        'vina_score': {\n",
    "            'w': 1,\n",
    "            'SmallerTheBest': {\n",
    "                'Target': -8,\n",
    "                'UpperLimit': -3,\n",
    "                'r': 1\n",
    "            }\n",
    "        }\n",
    "    }\n",
    "\n",
    "with open(os.path.join(wd, 'tune_config.yml'), 'w') as f:\n",
    "    yaml.dump(config, f)\n",
    "os.listdir(wd)\n"
   ]
  },
  {
   "cell_type": "code",
   "execution_count": 20,
   "metadata": {},
   "outputs": [
    {
     "name": "stdout",
     "output_type": "stream",
     "text": [
      "You are using moldrug: 2.0.5.\n",
      "\n",
      "The main job is being executed.\n",
      "\n",
      "\n",
      "Creating the first population with 25 members:\n",
      "100%|███████████████████████████████████████████| 25/25 [00:21<00:00,  1.15it/s]\n",
      "Initial Population: Best individual: Individual(idx = 5, smiles = COC(=O)c1ccc(S(N)(=O)=O)c(Cl)c1, cost = 0.5458783343354592)\n",
      "File 01_grow_pop.sdf was createad!\n",
      "Evaluating generation 1 / 5:\n",
      "100%|███████████████████████████████████████████| 25/25 [00:35<00:00,  1.41s/it]\n",
      "Generation 1: Best Individual: Individual(idx = 37, smiles = CCCN(CCCN(C)C)S(=O)(=O)c1ccc(C(=O)OC)cc1, cost = 0.5159527419264649).\n",
      "\n",
      "Evaluating generation 2 / 5:\n",
      "100%|███████████████████████████████████████████| 25/25 [00:37<00:00,  1.51s/it]\n",
      "Generation 2: Best Individual: Individual(idx = 37, smiles = CCCN(CCCN(C)C)S(=O)(=O)c1ccc(C(=O)OC)cc1, cost = 0.5159527419264649).\n",
      "\n",
      "Evaluating generation 3 / 5:\n",
      "100%|███████████████████████████████████████████| 24/24 [00:48<00:00,  2.03s/it]\n",
      "Generation 3: Best Individual: Individual(idx = 89, smiles = CCC(C)COC(=O)c1ccc(S(=O)(=O)NCc2ccco2)c(Cl)c1, cost = 0.3329843550815764).\n",
      "\n",
      "Evaluating generation 4 / 5:\n",
      "100%|███████████████████████████████████████████| 25/25 [00:41<00:00,  1.66s/it]\n",
      "Generation 4: Best Individual: Individual(idx = 89, smiles = CCC(C)COC(=O)c1ccc(S(=O)(=O)NCc2ccco2)c(Cl)c1, cost = 0.3329843550815764).\n",
      "\n",
      "Evaluating generation 5 / 5:\n",
      "100%|███████████████████████████████████████████| 25/25 [00:37<00:00,  1.51s/it]\n",
      "File 01_grow_pop.sdf was createad!\n",
      "Generation 5: Best Individual: Individual(idx = 89, smiles = CCC(C)COC(=O)c1ccc(S(=O)(=O)NCc2ccco2)c(Cl)c1, cost = 0.3329843550815764).\n",
      "\n",
      "\n",
      "=+=+=+=+=+=+=+=+=+=+=+=+=+=+=+=+=+=+=+=+=+=+=+=+=+=+=+=+=+=+=+=+=+=+=+=+=+=+=+=+=+=+=+=+=+=+=+=+=+=+\n",
      "\n",
      "The simulation finished successfully after 5 generations with a population of 25 individuals. A total number of 149 Individuals were seen during the simulation.\n",
      "Initial Individual: Individual(idx = 0, smiles = COC(=O)c1ccc(S(N)(=O)=O)cc1, cost = 0.6346613653952515)\n",
      "Final Individual: Individual(idx = 89, smiles = CCC(C)COC(=O)c1ccc(S(=O)(=O)NCc2ccco2)c(Cl)c1, cost = 0.3329843550815764)\n",
      "The cost function droped in 0.3016770103136751 units.\n",
      "\n",
      "=+=+=+=+=+=+=+=+=+=+=+=+=+=+=+=+=+=+=+=+=+=+=+=+=+=+=+=+=+=+=+=+=+=+=+=+=+=+=+=+=+=+=+=+=+=+=+=+=+=+\n",
      "\n",
      "Total time (5 generations): 263.29 (s).\n",
      "Finished at Sun Aug 28 21:00:09 2022.\n",
      "\n",
      "File 01_grow_pop.sdf was createad!\n",
      "The main job finished!.\n",
      "The follow job 02_allow_grow started.\n",
      "File 02_allow_grow_pop.sdf was createad!\n",
      "Evaluating generation 6 / 10:\n",
      "100%|███████████████████████████████████████████| 25/25 [00:36<00:00,  1.48s/it]\n",
      "Generation 6: Best Individual: Individual(idx = 89, smiles = CCC(C)COC(=O)c1ccc(S(=O)(=O)NCc2ccco2)c(Cl)c1, cost = 0.3329843550815764).\n",
      "\n",
      "Evaluating generation 7 / 10:\n",
      "100%|███████████████████████████████████████████| 24/24 [00:39<00:00,  1.64s/it]\n",
      "Generation 7: Best Individual: Individual(idx = 89, smiles = CCC(C)COC(=O)c1ccc(S(=O)(=O)NCc2ccco2)c(Cl)c1, cost = 0.3329843550815764).\n",
      "\n",
      "Evaluating generation 8 / 10:\n",
      "100%|███████████████████████████████████████████| 25/25 [00:29<00:00,  1.18s/it]\n",
      "Generation 8: Best Individual: Individual(idx = 89, smiles = CCC(C)COC(=O)c1ccc(S(=O)(=O)NCc2ccco2)c(Cl)c1, cost = 0.3329843550815764).\n",
      "\n",
      "Evaluating generation 9 / 10:\n",
      "100%|███████████████████████████████████████████| 24/24 [00:34<00:00,  1.43s/it]\n",
      "Generation 9: Best Individual: Individual(idx = 89, smiles = CCC(C)COC(=O)c1ccc(S(=O)(=O)NCc2ccco2)c(Cl)c1, cost = 0.3329843550815764).\n",
      "\n",
      "Evaluating generation 10 / 10:\n",
      "100%|███████████████████████████████████████████| 22/22 [00:31<00:00,  1.42s/it]\n",
      "File 02_allow_grow_pop.sdf was createad!\n",
      "Generation 10: Best Individual: Individual(idx = 89, smiles = CCC(C)COC(=O)c1ccc(S(=O)(=O)NCc2ccco2)c(Cl)c1, cost = 0.3329843550815764).\n",
      "\n",
      "\n",
      "=+=+=+=+=+=+=+=+=+=+=+=+=+=+=+=+=+=+=+=+=+=+=+=+=+=+=+=+=+=+=+=+=+=+=+=+=+=+=+=+=+=+=+=+=+=+=+=+=+=+\n",
      "\n",
      "The simulation finished successfully after 10 generations with a population of 25 individuals. A total number of 268 Individuals were seen during the simulation.\n",
      "Initial Individual: Individual(idx = 0, smiles = COC(=O)c1ccc(S(N)(=O)=O)cc1, cost = 0.6346613653952515)\n",
      "Final Individual: Individual(idx = 89, smiles = CCC(C)COC(=O)c1ccc(S(=O)(=O)NCc2ccco2)c(Cl)c1, cost = 0.3329843550815764)\n",
      "The cost function droped in 0.3016770103136751 units.\n",
      "\n",
      "=+=+=+=+=+=+=+=+=+=+=+=+=+=+=+=+=+=+=+=+=+=+=+=+=+=+=+=+=+=+=+=+=+=+=+=+=+=+=+=+=+=+=+=+=+=+=+=+=+=+\n",
      "\n",
      "Total time (10 generations): 220.88 (s).\n",
      "Finished at Sun Aug 28 21:03:50 2022.\n",
      "\n",
      "File 02_allow_grow_pop.sdf was createad!\n",
      "The job 02_allow_grow finished!.\n",
      "The follow job 03_pure_mutate started.\n",
      "File 03_pure_mutate_pop.sdf was createad!\n",
      "Evaluating generation 11 / 12:\n",
      "100%|███████████████████████████████████████████| 25/25 [00:31<00:00,  1.24s/it]\n",
      "Generation 11: Best Individual: Individual(idx = 89, smiles = CCC(C)COC(=O)c1ccc(S(=O)(=O)NCc2ccco2)c(Cl)c1, cost = 0.3329843550815764).\n",
      "\n",
      "Evaluating generation 12 / 12:\n",
      "100%|███████████████████████████████████████████| 25/25 [00:31<00:00,  1.25s/it]\n",
      "File 03_pure_mutate_pop.sdf was createad!\n",
      "Generation 12: Best Individual: Individual(idx = 89, smiles = CCC(C)COC(=O)c1ccc(S(=O)(=O)NCc2ccco2)c(Cl)c1, cost = 0.3329843550815764).\n",
      "\n",
      "\n",
      "=+=+=+=+=+=+=+=+=+=+=+=+=+=+=+=+=+=+=+=+=+=+=+=+=+=+=+=+=+=+=+=+=+=+=+=+=+=+=+=+=+=+=+=+=+=+=+=+=+=+\n",
      "\n",
      "The simulation finished successfully after 12 generations with a population of 25 individuals. A total number of 317 Individuals were seen during the simulation.\n",
      "Initial Individual: Individual(idx = 0, smiles = COC(=O)c1ccc(S(N)(=O)=O)cc1, cost = 0.6346613653952515)\n",
      "Final Individual: Individual(idx = 89, smiles = CCC(C)COC(=O)c1ccc(S(=O)(=O)NCc2ccco2)c(Cl)c1, cost = 0.3329843550815764)\n",
      "The cost function droped in 0.3016770103136751 units.\n",
      "\n",
      "=+=+=+=+=+=+=+=+=+=+=+=+=+=+=+=+=+=+=+=+=+=+=+=+=+=+=+=+=+=+=+=+=+=+=+=+=+=+=+=+=+=+=+=+=+=+=+=+=+=+\n",
      "\n",
      "Total time (12 generations): 81.47 (s).\n",
      "Finished at Sun Aug 28 21:05:12 2022.\n",
      "\n",
      "File 03_pure_mutate_pop.sdf was createad!\n",
      "The job 03_pure_mutate finished!.\n",
      "The follow job 04_local started.\n",
      "File 04_local_pop.sdf was createad!\n",
      "Evaluating generation 13 / 14:\n",
      "100%|███████████████████████████████████████████| 23/23 [00:28<00:00,  1.25s/it]\n",
      "Generation 13: Best Individual: Individual(idx = 89, smiles = CCC(C)COC(=O)c1ccc(S(=O)(=O)NCc2ccco2)c(Cl)c1, cost = 0.3329843550815764).\n",
      "\n",
      "Evaluating generation 14 / 14:\n",
      "100%|███████████████████████████████████████████| 22/22 [00:21<00:00,  1.02it/s]\n",
      "File 04_local_pop.sdf was createad!\n",
      "Generation 14: Best Individual: Individual(idx = 89, smiles = CCC(C)COC(=O)c1ccc(S(=O)(=O)NCc2ccco2)c(Cl)c1, cost = 0.3329843550815764).\n",
      "\n",
      "\n",
      "=+=+=+=+=+=+=+=+=+=+=+=+=+=+=+=+=+=+=+=+=+=+=+=+=+=+=+=+=+=+=+=+=+=+=+=+=+=+=+=+=+=+=+=+=+=+=+=+=+=+\n",
      "\n",
      "The simulation finished successfully after 14 generations with a population of 25 individuals. A total number of 360 Individuals were seen during the simulation.\n",
      "Initial Individual: Individual(idx = 0, smiles = COC(=O)c1ccc(S(N)(=O)=O)cc1, cost = 0.6346613653952515)\n",
      "Final Individual: Individual(idx = 89, smiles = CCC(C)COC(=O)c1ccc(S(=O)(=O)NCc2ccco2)c(Cl)c1, cost = 0.3329843550815764)\n",
      "The cost function droped in 0.3016770103136751 units.\n",
      "\n",
      "=+=+=+=+=+=+=+=+=+=+=+=+=+=+=+=+=+=+=+=+=+=+=+=+=+=+=+=+=+=+=+=+=+=+=+=+=+=+=+=+=+=+=+=+=+=+=+=+=+=+\n",
      "\n",
      "Total time (14 generations): 65.53 (s).\n",
      "Finished at Sun Aug 28 21:06:18 2022.\n",
      "\n",
      "File 04_local_pop.sdf was createad!\n",
      "The job 04_local finished!.\n"
     ]
    }
   ],
   "source": [
    "\n",
    "cwd = os.getcwd()\n",
    "os.chdir(wd)\n",
    "! moldrug tune_config.yml\n",
    "os.chdir(cwd)\n",
    "os.listdir(wd)\n",
    "os.chdir(cwd)"
   ]
  },
  {
   "cell_type": "code",
   "execution_count": 21,
   "metadata": {},
   "outputs": [
    {
     "name": "stdout",
     "output_type": "stream",
     "text": [
      "avg = -5.0644092\n",
      "min = -5.68406\n",
      "max = -4.43432\n"
     ]
    }
   ],
   "source": [
    "result = utils.decompress_pickle(os.path.join(wd, '04_local_result.pbz2'))\n",
    "valid_individuals_vina_score = [individual.vina_score for individual in result.pop if individual.vina_score != np.inf]\n",
    "print(f\"avg = {np.average(valid_individuals_vina_score)}\")\n",
    "print(f\"min = {min(valid_individuals_vina_score)}\")\n",
    "print(f\"max = {max(valid_individuals_vina_score)}\")\n"
   ]
  },
  {
   "cell_type": "markdown",
   "metadata": {},
   "source": [
    "As you see the maximum is much lower than the rest of the examples. So, we get some improvements changing the desirability."
   ]
  }
 ],
 "metadata": {
  "kernelspec": {
   "display_name": "Python 3.9.13 ('moldrug')",
   "language": "python",
   "name": "python3"
  },
  "language_info": {
   "codemirror_mode": {
    "name": "ipython",
    "version": 3
   },
   "file_extension": ".py",
   "mimetype": "text/x-python",
   "name": "python",
   "nbconvert_exporter": "python",
   "pygments_lexer": "ipython3",
   "version": "3.9.13"
  },
  "orig_nbformat": 4,
  "vscode": {
   "interpreter": {
    "hash": "580997a69bc0f3991857025e1d93e87ed090e2c1fa4aff0ca8e9824f56baf8cb"
   }
  }
 },
 "nbformat": 4,
 "nbformat_minor": 2
}
