{
 "cells": [
  {
   "cell_type": "markdown",
   "metadata": {},
   "source": [
    "# Quickstart\n",
    "First let import the modules to work with.  Some functionalities of MolDrug may not be available on pypi or conda yet. This could be because the new version is not yet release, but in brief it is going to be. You could install directly from the repo if some problem pops up. Just paste the following in a code cell:\n",
    "```bash\n",
    "! pip install git+https://github.com/ale94mleon/MolDrug.git@main\n",
    "```"
   ]
  },
  {
   "cell_type": "code",
   "execution_count": 20,
   "metadata": {},
   "outputs": [],
   "source": [
    "from rdkit import Chem\n",
    "from moldrug import utils, fitness\n",
    "from moldrug.data import receptors, ligands, boxes\n",
    "import tempfile, os, gzip, shutil, requests\n",
    "from multiprocessing import cpu_count"
   ]
  },
  {
   "cell_type": "markdown",
   "metadata": {},
   "source": [
    "We will use some test examples from `moldrug.data` module."
   ]
  },
  {
   "cell_type": "code",
   "execution_count": 21,
   "metadata": {},
   "outputs": [],
   "source": [
    "# Creating a temporal directory\n",
    "tmp_path = tempfile.TemporaryDirectory()\n",
    "# Creating receptors files\n",
    "r_x0161_file = os.path.join(tmp_path.name, 'r_x0161.pdbqt')\n",
    "with open(r_x0161_file, 'w') as r:\n",
    "    r.write(receptors.r_x0161)"
   ]
  },
  {
   "cell_type": "markdown",
   "metadata": {},
   "source": [
    "Now let's download the crem data base. Here we are downloading the smaller one. But consider to visit [CReM](https://github.com/DrrDom/crem) for more information about how to use and create the data base of fragments."
   ]
  },
  {
   "cell_type": "code",
   "execution_count": 22,
   "metadata": {},
   "outputs": [],
   "source": [
    "url = \"http://www.qsar4u.com/files/cremdb/replacements02_sc2.db.gz\"\n",
    "r = requests.get(url, allow_redirects=True)\n",
    "crem_dbgz_path = os.path.join(tmp_path.name,'crem.db.gz')\n",
    "crem_db_path = os.path.join(tmp_path.name,'crem.db')\n",
    "open(crem_dbgz_path, 'wb').write(r.content)\n",
    "with gzip.open(crem_dbgz_path, 'rb') as f_in:\n",
    "    with open(crem_db_path, 'wb') as f_out:\n",
    "        shutil.copyfileobj(f_in, f_out)"
   ]
  },
  {
   "cell_type": "markdown",
   "metadata": {},
   "source": [
    "Now let's initialize the `GA` class. "
   ]
  },
  {
   "cell_type": "code",
   "execution_count": 23,
   "metadata": {},
   "outputs": [],
   "source": [
    "maxiter = 3\n",
    "popsize = 20\n",
    "njobs = 2\n",
    "\n",
    "out = utils.GA(\n",
    "    seed_smiles=ligands.r_x0161,\n",
    "    maxiter=maxiter,\n",
    "    popsize=popsize,\n",
    "    crem_db_path = crem_db_path,\n",
    "    pc = 1,\n",
    "    get_similar = False,\n",
    "    mutate_crem_kwargs = {\n",
    "        'radius':3,\n",
    "        'min_size':1,\n",
    "        'max_size':8,\n",
    "        'min_inc':-5,\n",
    "        'max_inc':3,\n",
    "        'ncores':cpu_count(),\n",
    "    },\n",
    "    costfunc = fitness.Cost,\n",
    "    costfunc_kwargs = {\n",
    "        'vina_executable': 'vina',\n",
    "        'receptor_path': r_x0161_file,\n",
    "        'boxcenter' : boxes.r_x0161[\"A\"]['boxcenter'] ,\n",
    "        'boxsize': boxes.r_x0161[\"A\"]['boxsize'],\n",
    "        'exhaustiveness': 4,\n",
    "        'ncores': int(cpu_count() / njobs),\n",
    "        'num_modes': 1,\n",
    "    },\n",
    "    save_pop_every_gen = 20,\n",
    "    deffnm = os.path.join(tmp_path.name, 'pop_test_single_receptor')\n",
    ")\n"
   ]
  },
  {
   "cell_type": "markdown",
   "metadata": {},
   "source": [
    "Then let's call the class"
   ]
  },
  {
   "cell_type": "code",
   "execution_count": 24,
   "metadata": {},
   "outputs": [
    {
     "name": "stdout",
     "output_type": "stream",
     "text": [
      "\n",
      "\n",
      "Creating the first population with 20 members:\n"
     ]
    },
    {
     "name": "stderr",
     "output_type": "stream",
     "text": [
      "100%|██████████| 20/20 [00:44<00:00,  2.23s/it]"
     ]
    },
    {
     "name": "stdout",
     "output_type": "stream",
     "text": [
      "Initial Population: Best individual: Individual(idx = 9, smiles = NS(=O)(=O)c1ccc(C2C(=O)NNC2=O)cc1, cost = 0.6382126214488858)\n",
      "File /tmp/tmpc6hs_4dj/pop_test_single_receptor_pop.sdf was createad!\n"
     ]
    },
    {
     "name": "stderr",
     "output_type": "stream",
     "text": [
      "\n"
     ]
    },
    {
     "name": "stdout",
     "output_type": "stream",
     "text": [
      "Evaluating generation 1 / 3:\n"
     ]
    },
    {
     "name": "stderr",
     "output_type": "stream",
     "text": [
      "100%|██████████| 20/20 [00:51<00:00,  2.56s/it]"
     ]
    },
    {
     "name": "stdout",
     "output_type": "stream",
     "text": [
      "Generation 1: Best Individual: Individual(idx = 35, smiles = N=C(Nc1ccc(S(N)(=O)=O)cc1)c1ccccc1, cost = 0.631456951970453).\n",
      "\n"
     ]
    },
    {
     "name": "stderr",
     "output_type": "stream",
     "text": [
      "\n"
     ]
    },
    {
     "name": "stdout",
     "output_type": "stream",
     "text": [
      "Evaluating generation 2 / 3:\n"
     ]
    },
    {
     "name": "stderr",
     "output_type": "stream",
     "text": [
      "100%|██████████| 20/20 [00:55<00:00,  2.76s/it]"
     ]
    },
    {
     "name": "stdout",
     "output_type": "stream",
     "text": [
      "Generation 2: Best Individual: Individual(idx = 35, smiles = N=C(Nc1ccc(S(N)(=O)=O)cc1)c1ccccc1, cost = 0.631456951970453).\n",
      "\n"
     ]
    },
    {
     "name": "stderr",
     "output_type": "stream",
     "text": [
      "\n"
     ]
    },
    {
     "name": "stdout",
     "output_type": "stream",
     "text": [
      "Evaluating generation 3 / 3:\n"
     ]
    },
    {
     "name": "stderr",
     "output_type": "stream",
     "text": [
      "100%|██████████| 20/20 [01:00<00:00,  3.05s/it]"
     ]
    },
    {
     "name": "stdout",
     "output_type": "stream",
     "text": [
      "File /tmp/tmpc6hs_4dj/pop_test_single_receptor_pop.sdf was createad!\n",
      "Generation 3: Best Individual: Individual(idx = 72, smiles = CC(C(=O)O)c1ccc(C(=O)NCc2ccco2)cc1, cost = 0.5358411166387222).\n",
      "\n",
      "\n",
      "=+=+=+=+=+=+=+=+=+=+=+=+=+=+=+=+=+=+=+=+=+=+=+=+=+=+=+=+=+=+=+=+=+=+=+=+=+=+=+=+=+=+=+=+=+=+=+=+=+=+\n",
      "\n",
      "The simulation finished successfully after 3 generations with a population of 20 individuals. A total number of 80 Individuals were seen during the simulation.\n",
      "Initial Individual: Individual(idx = 0, smiles = COC(=O)C=1C=CC(=CC1)S(=O)(=O)N, cost = 1.0)\n",
      "Final Individual: Individual(idx = 72, smiles = CC(C(=O)O)c1ccc(C(=O)NCc2ccco2)cc1, cost = 0.5358411166387222)\n",
      "The cost function droped in 0.46415888336127775 units.\n",
      "\n",
      "=+=+=+=+=+=+=+=+=+=+=+=+=+=+=+=+=+=+=+=+=+=+=+=+=+=+=+=+=+=+=+=+=+=+=+=+=+=+=+=+=+=+=+=+=+=+=+=+=+=+\n",
      "\n",
      "'__call__'  272334.87 ms\n"
     ]
    },
    {
     "name": "stderr",
     "output_type": "stream",
     "text": [
      "\n"
     ]
    }
   ],
   "source": [
    "out(njobs = njobs)"
   ]
  },
  {
   "cell_type": "markdown",
   "metadata": {},
   "source": [
    "This is a very silly example. In real life, you should increase the population size and the number of generation. In this way we explore in a better way the chemical space. The `GA` class has some nice methods that give you an idea of the obtained results."
   ]
  },
  {
   "cell_type": "code",
   "execution_count": 25,
   "metadata": {},
   "outputs": [
    {
     "data": {
      "text/html": [
       "<div>\n",
       "<style scoped>\n",
       "    .dataframe tbody tr th:only-of-type {\n",
       "        vertical-align: middle;\n",
       "    }\n",
       "\n",
       "    .dataframe tbody tr th {\n",
       "        vertical-align: top;\n",
       "    }\n",
       "\n",
       "    .dataframe thead th {\n",
       "        text-align: right;\n",
       "    }\n",
       "</style>\n",
       "<table border=\"1\" class=\"dataframe\">\n",
       "  <thead>\n",
       "    <tr style=\"text-align: right;\">\n",
       "      <th></th>\n",
       "      <th>smiles</th>\n",
       "      <th>idx</th>\n",
       "      <th>pdbqt</th>\n",
       "      <th>cost</th>\n",
       "      <th>qed</th>\n",
       "      <th>sa_score</th>\n",
       "      <th>vina_score</th>\n",
       "    </tr>\n",
       "  </thead>\n",
       "  <tbody>\n",
       "    <tr>\n",
       "      <th>75</th>\n",
       "      <td>COC(=O)c1ccc(C(=O)NCCN)cc1</td>\n",
       "      <td>75</td>\n",
       "      <td>MODEL 1\\nREMARK VINA RESULT:      -5.6      0....</td>\n",
       "      <td>1.000000</td>\n",
       "      <td>0.710997</td>\n",
       "      <td>1.578705</td>\n",
       "      <td>-5.6</td>\n",
       "    </tr>\n",
       "    <tr>\n",
       "      <th>76</th>\n",
       "      <td>COC(=O)c1ccc(CN(C)C(=O)CCl)cc1</td>\n",
       "      <td>76</td>\n",
       "      <td>MODEL 1\\nREMARK VINA RESULT:      -5.4      0....</td>\n",
       "      <td>1.000000</td>\n",
       "      <td>0.607397</td>\n",
       "      <td>1.846449</td>\n",
       "      <td>-5.4</td>\n",
       "    </tr>\n",
       "    <tr>\n",
       "      <th>77</th>\n",
       "      <td>NS(=O)(=O)c1ccc(C(=O)C(=O)O)cc1</td>\n",
       "      <td>77</td>\n",
       "      <td>MODEL 1\\nREMARK VINA RESULT:      -5.8      0....</td>\n",
       "      <td>1.000000</td>\n",
       "      <td>0.540275</td>\n",
       "      <td>1.858500</td>\n",
       "      <td>-5.8</td>\n",
       "    </tr>\n",
       "    <tr>\n",
       "      <th>78</th>\n",
       "      <td>NCCS(=O)(=O)c1ccc(CNN=Nc2ccccc2)cc1</td>\n",
       "      <td>78</td>\n",
       "      <td>MODEL 1\\nREMARK VINA RESULT:      -6.3      0....</td>\n",
       "      <td>0.661567</td>\n",
       "      <td>0.603918</td>\n",
       "      <td>2.578675</td>\n",
       "      <td>-6.3</td>\n",
       "    </tr>\n",
       "    <tr>\n",
       "      <th>79</th>\n",
       "      <td>COC(=O)c1ccc(OP(=O)(OC(C)C)OC(C)C)cc1</td>\n",
       "      <td>79</td>\n",
       "      <td>MODEL 1\\nREMARK VINA RESULT:      -5.6      0....</td>\n",
       "      <td>1.000000</td>\n",
       "      <td>0.562483</td>\n",
       "      <td>2.396943</td>\n",
       "      <td>-5.6</td>\n",
       "    </tr>\n",
       "  </tbody>\n",
       "</table>\n",
       "</div>"
      ],
      "text/plain": [
       "                                   smiles  idx  \\\n",
       "75             COC(=O)c1ccc(C(=O)NCCN)cc1   75   \n",
       "76         COC(=O)c1ccc(CN(C)C(=O)CCl)cc1   76   \n",
       "77        NS(=O)(=O)c1ccc(C(=O)C(=O)O)cc1   77   \n",
       "78    NCCS(=O)(=O)c1ccc(CNN=Nc2ccccc2)cc1   78   \n",
       "79  COC(=O)c1ccc(OP(=O)(OC(C)C)OC(C)C)cc1   79   \n",
       "\n",
       "                                                pdbqt      cost       qed  \\\n",
       "75  MODEL 1\\nREMARK VINA RESULT:      -5.6      0....  1.000000  0.710997   \n",
       "76  MODEL 1\\nREMARK VINA RESULT:      -5.4      0....  1.000000  0.607397   \n",
       "77  MODEL 1\\nREMARK VINA RESULT:      -5.8      0....  1.000000  0.540275   \n",
       "78  MODEL 1\\nREMARK VINA RESULT:      -6.3      0....  0.661567  0.603918   \n",
       "79  MODEL 1\\nREMARK VINA RESULT:      -5.6      0....  1.000000  0.562483   \n",
       "\n",
       "    sa_score  vina_score  \n",
       "75  1.578705        -5.6  \n",
       "76  1.846449        -5.4  \n",
       "77  1.858500        -5.8  \n",
       "78  2.578675        -6.3  \n",
       "79  2.396943        -5.6  "
      ]
     },
     "execution_count": 25,
     "metadata": {},
     "output_type": "execute_result"
    }
   ],
   "source": [
    "out.to_dataframe().tail()"
   ]
  },
  {
   "cell_type": "markdown",
   "metadata": {},
   "source": [
    "You could save the entire class for future in a compressed or uncompressed pickle file. Here I just saved the file in the temporal directory, you could change the path to your current working directory."
   ]
  },
  {
   "cell_type": "code",
   "execution_count": 26,
   "metadata": {},
   "outputs": [],
   "source": [
    "out.pickle(os.path.join(tmp_path.name, f\"NumGens_{out.NumGens}_PopSize_{popsize}\"), compress=True)"
   ]
  },
  {
   "cell_type": "markdown",
   "metadata": {},
   "source": [
    "Could be that after a long simulation we would like to perform a different searching strategy over the last population. This is really simple, we could \"initialize\" again the `out` instance with a different set of parameters. Let say that we would like to be close to the last solutions. Then we could use the parameters: `min_size=0, max_size=1, min_inc=-1, max_inc=1`.This flavor will add, delate mutate heavy atoms or change hydrogens to heavy atoms."
   ]
  },
  {
   "cell_type": "code",
   "execution_count": 27,
   "metadata": {},
   "outputs": [],
   "source": [
    "out.maxiter = 5\n",
    "out.mutate_crem_kwargs = {\n",
    "        'radius':3,\n",
    "        'min_size':0,\n",
    "        'max_size':1,\n",
    "        'min_inc':-1,\n",
    "        'max_inc':1,\n",
    "        'ncores':cpu_count(),\n",
    "    }"
   ]
  },
  {
   "cell_type": "markdown",
   "metadata": {},
   "source": [
    "And run again the class"
   ]
  },
  {
   "cell_type": "code",
   "execution_count": 28,
   "metadata": {},
   "outputs": [
    {
     "name": "stdout",
     "output_type": "stream",
     "text": [
      "File /tmp/tmpc6hs_4dj/pop_test_single_receptor_pop.sdf was createad!\n",
      "Evaluating generation 4 / 8:\n"
     ]
    },
    {
     "name": "stderr",
     "output_type": "stream",
     "text": [
      "100%|██████████| 20/20 [01:03<00:00,  3.18s/it]"
     ]
    },
    {
     "name": "stdout",
     "output_type": "stream",
     "text": [
      "Generation 4: Best Individual: Individual(idx = 81, smiles = CC(C(=O)NO)c1ccc(C(=O)NCc2ccco2)cc1, cost = 0.5033341511427473).\n",
      "\n"
     ]
    },
    {
     "name": "stderr",
     "output_type": "stream",
     "text": [
      "\n"
     ]
    },
    {
     "name": "stdout",
     "output_type": "stream",
     "text": [
      "Evaluating generation 5 / 8:\n"
     ]
    },
    {
     "name": "stderr",
     "output_type": "stream",
     "text": [
      "100%|██████████| 14/14 [00:47<00:00,  3.36s/it]"
     ]
    },
    {
     "name": "stdout",
     "output_type": "stream",
     "text": [
      "Generation 5: Best Individual: Individual(idx = 81, smiles = CC(C(=O)NO)c1ccc(C(=O)NCc2ccco2)cc1, cost = 0.5033341511427473).\n",
      "\n"
     ]
    },
    {
     "name": "stderr",
     "output_type": "stream",
     "text": [
      "\n"
     ]
    },
    {
     "name": "stdout",
     "output_type": "stream",
     "text": [
      "Evaluating generation 6 / 8:\n"
     ]
    },
    {
     "name": "stderr",
     "output_type": "stream",
     "text": [
      "100%|██████████| 20/20 [01:11<00:00,  3.57s/it]"
     ]
    },
    {
     "name": "stdout",
     "output_type": "stream",
     "text": [
      "Generation 6: Best Individual: Individual(idx = 81, smiles = CC(C(=O)NO)c1ccc(C(=O)NCc2ccco2)cc1, cost = 0.5033341511427473).\n",
      "\n"
     ]
    },
    {
     "name": "stderr",
     "output_type": "stream",
     "text": [
      "\n"
     ]
    },
    {
     "name": "stdout",
     "output_type": "stream",
     "text": [
      "Evaluating generation 7 / 8:\n"
     ]
    },
    {
     "name": "stderr",
     "output_type": "stream",
     "text": [
      "100%|██████████| 17/17 [01:08<00:00,  4.01s/it]"
     ]
    },
    {
     "name": "stdout",
     "output_type": "stream",
     "text": [
      "Generation 7: Best Individual: Individual(idx = 147, smiles = CC(C(=O)NO)c1ccc(C(=O)NCc2ccco2)cc1F, cost = 0.4708791543896014).\n",
      "\n"
     ]
    },
    {
     "name": "stderr",
     "output_type": "stream",
     "text": [
      "\n"
     ]
    },
    {
     "name": "stdout",
     "output_type": "stream",
     "text": [
      "Evaluating generation 8 / 8:\n"
     ]
    },
    {
     "name": "stderr",
     "output_type": "stream",
     "text": [
      "100%|██████████| 16/16 [01:04<00:00,  4.02s/it]"
     ]
    },
    {
     "name": "stdout",
     "output_type": "stream",
     "text": [
      "File /tmp/tmpc6hs_4dj/pop_test_single_receptor_pop.sdf was createad!\n",
      "Generation 8: Best Individual: Individual(idx = 151, smiles = CC(C(=O)NO)c1ccc(C(=O)N(C)Cc2ccco2)c(F)c1, cost = 0.4455429270953125).\n",
      "\n",
      "\n",
      "=+=+=+=+=+=+=+=+=+=+=+=+=+=+=+=+=+=+=+=+=+=+=+=+=+=+=+=+=+=+=+=+=+=+=+=+=+=+=+=+=+=+=+=+=+=+=+=+=+=+\n",
      "\n",
      "The simulation finished successfully after 5 generations with a population of 20 individuals. A total number of 167 Individuals were seen during the simulation.\n",
      "Initial Individual: Individual(idx = 0, smiles = COC(=O)C=1C=CC(=CC1)S(=O)(=O)N, cost = 1.0)\n",
      "Final Individual: Individual(idx = 151, smiles = CC(C(=O)NO)c1ccc(C(=O)N(C)Cc2ccco2)c(F)c1, cost = 0.4455429270953125)\n",
      "The cost function droped in 0.5544570729046875 units.\n",
      "\n",
      "=+=+=+=+=+=+=+=+=+=+=+=+=+=+=+=+=+=+=+=+=+=+=+=+=+=+=+=+=+=+=+=+=+=+=+=+=+=+=+=+=+=+=+=+=+=+=+=+=+=+\n",
      "\n",
      "'__call__'  348364.51 ms\n"
     ]
    },
    {
     "name": "stderr",
     "output_type": "stream",
     "text": [
      "\n"
     ]
    }
   ],
   "source": [
    "out(njobs = njobs)"
   ]
  },
  {
   "cell_type": "markdown",
   "metadata": {},
   "source": [
    "As you can see the `GA` class is updated rather that replaced. This is a perfect feature for rerun with different ideas. As you see the number of generations is also updated as well the number of calls."
   ]
  },
  {
   "cell_type": "code",
   "execution_count": 29,
   "metadata": {},
   "outputs": [
    {
     "name": "stdout",
     "output_type": "stream",
     "text": [
      "8 2\n"
     ]
    }
   ],
   "source": [
    "print(out.NumGens, out.NumCalls)"
   ]
  },
  {
   "cell_type": "markdown",
   "metadata": {},
   "source": [
    "The same idea is for the rest of the methods and atributtes"
   ]
  },
  {
   "cell_type": "code",
   "execution_count": 30,
   "metadata": {},
   "outputs": [
    {
     "data": {
      "text/html": [
       "<div>\n",
       "<style scoped>\n",
       "    .dataframe tbody tr th:only-of-type {\n",
       "        vertical-align: middle;\n",
       "    }\n",
       "\n",
       "    .dataframe tbody tr th {\n",
       "        vertical-align: top;\n",
       "    }\n",
       "\n",
       "    .dataframe thead th {\n",
       "        text-align: right;\n",
       "    }\n",
       "</style>\n",
       "<table border=\"1\" class=\"dataframe\">\n",
       "  <thead>\n",
       "    <tr style=\"text-align: right;\">\n",
       "      <th></th>\n",
       "      <th>smiles</th>\n",
       "      <th>idx</th>\n",
       "      <th>pdbqt</th>\n",
       "      <th>cost</th>\n",
       "      <th>qed</th>\n",
       "      <th>sa_score</th>\n",
       "      <th>vina_score</th>\n",
       "    </tr>\n",
       "  </thead>\n",
       "  <tbody>\n",
       "    <tr>\n",
       "      <th>162</th>\n",
       "      <td>O=C(O)C(C=Cc1ccc(-c2cssc2=S)cc1Br)C(=O)O</td>\n",
       "      <td>162</td>\n",
       "      <td>MODEL 1\\nREMARK VINA RESULT:      -6.8      0....</td>\n",
       "      <td>0.616983</td>\n",
       "      <td>0.416678</td>\n",
       "      <td>3.540051</td>\n",
       "      <td>-6.8</td>\n",
       "    </tr>\n",
       "    <tr>\n",
       "      <th>163</th>\n",
       "      <td>CC(C(=O)NCO)c1ccc(C(=O)NCc2ccco2)cc1</td>\n",
       "      <td>163</td>\n",
       "      <td>MODEL 1\\nREMARK VINA RESULT:      -6.7      0....</td>\n",
       "      <td>0.523445</td>\n",
       "      <td>0.702984</td>\n",
       "      <td>2.595063</td>\n",
       "      <td>-6.7</td>\n",
       "    </tr>\n",
       "    <tr>\n",
       "      <th>164</th>\n",
       "      <td>C#CCOc1cc(CO[N+](=O)[O-])ccc1C1C(=O)NNC1=O</td>\n",
       "      <td>164</td>\n",
       "      <td>MODEL 1\\nREMARK VINA RESULT:      -7.1      0....</td>\n",
       "      <td>0.610086</td>\n",
       "      <td>0.320729</td>\n",
       "      <td>3.191289</td>\n",
       "      <td>-7.1</td>\n",
       "    </tr>\n",
       "    <tr>\n",
       "      <th>165</th>\n",
       "      <td>CC(=CC(=O)O)c1ccc(C(=O)NCc2ccco2)c(Cl)c1</td>\n",
       "      <td>165</td>\n",
       "      <td>MODEL 1\\nREMARK VINA RESULT:      -6.9      0....</td>\n",
       "      <td>0.468671</td>\n",
       "      <td>0.828213</td>\n",
       "      <td>2.212241</td>\n",
       "      <td>-6.9</td>\n",
       "    </tr>\n",
       "    <tr>\n",
       "      <th>166</th>\n",
       "      <td>CCOC(=O)c1ccc(CNN=Nc2ccc(C)cc2O)cc1F</td>\n",
       "      <td>166</td>\n",
       "      <td>MODEL 1\\nREMARK VINA RESULT:      -7.1      0....</td>\n",
       "      <td>0.525443</td>\n",
       "      <td>0.478910</td>\n",
       "      <td>2.688304</td>\n",
       "      <td>-7.1</td>\n",
       "    </tr>\n",
       "  </tbody>\n",
       "</table>\n",
       "</div>"
      ],
      "text/plain": [
       "                                         smiles  idx  \\\n",
       "162    O=C(O)C(C=Cc1ccc(-c2cssc2=S)cc1Br)C(=O)O  162   \n",
       "163        CC(C(=O)NCO)c1ccc(C(=O)NCc2ccco2)cc1  163   \n",
       "164  C#CCOc1cc(CO[N+](=O)[O-])ccc1C1C(=O)NNC1=O  164   \n",
       "165    CC(=CC(=O)O)c1ccc(C(=O)NCc2ccco2)c(Cl)c1  165   \n",
       "166        CCOC(=O)c1ccc(CNN=Nc2ccc(C)cc2O)cc1F  166   \n",
       "\n",
       "                                                 pdbqt      cost       qed  \\\n",
       "162  MODEL 1\\nREMARK VINA RESULT:      -6.8      0....  0.616983  0.416678   \n",
       "163  MODEL 1\\nREMARK VINA RESULT:      -6.7      0....  0.523445  0.702984   \n",
       "164  MODEL 1\\nREMARK VINA RESULT:      -7.1      0....  0.610086  0.320729   \n",
       "165  MODEL 1\\nREMARK VINA RESULT:      -6.9      0....  0.468671  0.828213   \n",
       "166  MODEL 1\\nREMARK VINA RESULT:      -7.1      0....  0.525443  0.478910   \n",
       "\n",
       "     sa_score  vina_score  \n",
       "162  3.540051        -6.8  \n",
       "163  2.595063        -6.7  \n",
       "164  3.191289        -7.1  \n",
       "165  2.212241        -6.9  \n",
       "166  2.688304        -7.1  "
      ]
     },
     "execution_count": 30,
     "metadata": {},
     "output_type": "execute_result"
    }
   ],
   "source": [
    "out.to_dataframe().tail()"
   ]
  },
  {
   "cell_type": "markdown",
   "metadata": {},
   "source": [
    "This is the best solution of this simulation (in your case you could get a different one):"
   ]
  },
  {
   "cell_type": "code",
   "execution_count": 31,
   "metadata": {},
   "outputs": [
    {
     "data": {
      "image/png": "[encoded data removed]",
      "text/plain": [
       "<rdkit.Chem.rdchem.Mol at 0x7fe446b52580>"
      ]
     },
     "execution_count": 31,
     "metadata": {},
     "output_type": "execute_result"
    }
   ],
   "source": [
    "Chem.MolFromSmiles(out.pop[0].smiles)"
   ]
  },
  {
   "cell_type": "markdown",
   "metadata": {},
   "source": [
    "And here is the input"
   ]
  },
  {
   "cell_type": "code",
   "execution_count": 32,
   "metadata": {},
   "outputs": [
    {
     "data": {
      "image/png": "[encoded data removed]",
      "text/plain": [
       "<rdkit.Chem.rdchem.Mol at 0x7fe446b52e80>"
      ]
     },
     "execution_count": 32,
     "metadata": {},
     "output_type": "execute_result"
    }
   ],
   "source": [
    "from rdkit import Chem\n",
    "Chem.MolFromSmiles(\"COC(=O)C=1C=CC(=CC1)S(=O)(=O)N\")"
   ]
  },
  {
   "cell_type": "markdown",
   "metadata": {},
   "source": [
    "Printing some information"
   ]
  },
  {
   "cell_type": "code",
   "execution_count": 33,
   "metadata": {},
   "outputs": [
    {
     "name": "stdout",
     "output_type": "stream",
     "text": [
      "Initial vina score: -5.1. Final vina score: -7.2\n",
      "sascorer of the best Individual: 2.83405603070638\n",
      "QED of the best Individual: 0.6539711458974186\n"
     ]
    },
    {
     "data": {
      "text/html": [
       "<div>\n",
       "<style scoped>\n",
       "    .dataframe tbody tr th:only-of-type {\n",
       "        vertical-align: middle;\n",
       "    }\n",
       "\n",
       "    .dataframe tbody tr th {\n",
       "        vertical-align: top;\n",
       "    }\n",
       "\n",
       "    .dataframe thead th {\n",
       "        text-align: right;\n",
       "    }\n",
       "</style>\n",
       "<table border=\"1\" class=\"dataframe\">\n",
       "  <thead>\n",
       "    <tr style=\"text-align: right;\">\n",
       "      <th></th>\n",
       "      <th>value</th>\n",
       "    </tr>\n",
       "  </thead>\n",
       "  <tbody>\n",
       "    <tr>\n",
       "      <th>NumHAcceptors</th>\n",
       "      <td>4.0000</td>\n",
       "    </tr>\n",
       "    <tr>\n",
       "      <th>NumHDonors</th>\n",
       "      <td>2.0000</td>\n",
       "    </tr>\n",
       "    <tr>\n",
       "      <th>wt</th>\n",
       "      <td>320.3200</td>\n",
       "    </tr>\n",
       "    <tr>\n",
       "      <th>MLogP</th>\n",
       "      <td>2.2998</td>\n",
       "    </tr>\n",
       "    <tr>\n",
       "      <th>NumRotatableBonds</th>\n",
       "      <td>5.0000</td>\n",
       "    </tr>\n",
       "    <tr>\n",
       "      <th>TPSA</th>\n",
       "      <td>82.7800</td>\n",
       "    </tr>\n",
       "    <tr>\n",
       "      <th>FractionCSP3</th>\n",
       "      <td>0.2500</td>\n",
       "    </tr>\n",
       "    <tr>\n",
       "      <th>HeavyAtomCount</th>\n",
       "      <td>23.0000</td>\n",
       "    </tr>\n",
       "    <tr>\n",
       "      <th>NHOHCount</th>\n",
       "      <td>2.0000</td>\n",
       "    </tr>\n",
       "    <tr>\n",
       "      <th>NOCount</th>\n",
       "      <td>6.0000</td>\n",
       "    </tr>\n",
       "    <tr>\n",
       "      <th>NumAliphaticCarbocycles</th>\n",
       "      <td>0.0000</td>\n",
       "    </tr>\n",
       "    <tr>\n",
       "      <th>NumAliphaticHeterocycles</th>\n",
       "      <td>0.0000</td>\n",
       "    </tr>\n",
       "    <tr>\n",
       "      <th>NumAliphaticRings</th>\n",
       "      <td>0.0000</td>\n",
       "    </tr>\n",
       "    <tr>\n",
       "      <th>NumAromaticCarbocycles</th>\n",
       "      <td>1.0000</td>\n",
       "    </tr>\n",
       "    <tr>\n",
       "      <th>NumAromaticHeterocycles</th>\n",
       "      <td>1.0000</td>\n",
       "    </tr>\n",
       "    <tr>\n",
       "      <th>NumAromaticRings</th>\n",
       "      <td>2.0000</td>\n",
       "    </tr>\n",
       "    <tr>\n",
       "      <th>NumHeteroatoms</th>\n",
       "      <td>7.0000</td>\n",
       "    </tr>\n",
       "    <tr>\n",
       "      <th>NumSaturatedCarbocycles</th>\n",
       "      <td>0.0000</td>\n",
       "    </tr>\n",
       "    <tr>\n",
       "      <th>NumSaturatedHeterocycles</th>\n",
       "      <td>0.0000</td>\n",
       "    </tr>\n",
       "    <tr>\n",
       "      <th>NumSaturatedRings</th>\n",
       "      <td>0.0000</td>\n",
       "    </tr>\n",
       "    <tr>\n",
       "      <th>RingCount</th>\n",
       "      <td>2.0000</td>\n",
       "    </tr>\n",
       "  </tbody>\n",
       "</table>\n",
       "</div>"
      ],
      "text/plain": [
       "                             value\n",
       "NumHAcceptors               4.0000\n",
       "NumHDonors                  2.0000\n",
       "wt                        320.3200\n",
       "MLogP                       2.2998\n",
       "NumRotatableBonds           5.0000\n",
       "TPSA                       82.7800\n",
       "FractionCSP3                0.2500\n",
       "HeavyAtomCount             23.0000\n",
       "NHOHCount                   2.0000\n",
       "NOCount                     6.0000\n",
       "NumAliphaticCarbocycles     0.0000\n",
       "NumAliphaticHeterocycles    0.0000\n",
       "NumAliphaticRings           0.0000\n",
       "NumAromaticCarbocycles      1.0000\n",
       "NumAromaticHeterocycles     1.0000\n",
       "NumAromaticRings            2.0000\n",
       "NumHeteroatoms              7.0000\n",
       "NumSaturatedCarbocycles     0.0000\n",
       "NumSaturatedHeterocycles    0.0000\n",
       "NumSaturatedRings           0.0000\n",
       "RingCount                   2.0000"
      ]
     },
     "execution_count": 33,
     "metadata": {},
     "output_type": "execute_result"
    },
    {
     "data": {
      "image/png": "[encoded data removed]",
      "text/plain": [
       "<Figure size 1152x1440 with 6 Axes>"
      ]
     },
     "metadata": {
      "needs_background": "light"
     },
     "output_type": "display_data"
    }
   ],
   "source": [
    "import json\n",
    "import matplotlib.pyplot as plt\n",
    "from moldrug import utils\n",
    "import pandas as pd\n",
    "sascorer = utils.import_sascorer()\n",
    "\n",
    "\n",
    "fig, ax = plt.subplots(nrows = 6, figsize = (16,20))\n",
    "\n",
    "ax[0].plot(range(len(out.SawIndividuals)),[Individual.qed for Individual in out.SawIndividuals], 'o')\n",
    "ax[0].set(title = 'qed')\n",
    "\n",
    "ax[1].plot(range(len(out.SawIndividuals)),[Individual.sa_score for Individual in out.SawIndividuals], 'o')\n",
    "ax[1].set(title = 'sa_score')\n",
    "\n",
    "ax[2].plot(range(len(out.SawIndividuals)),[Individual.vina_score for Individual in out.SawIndividuals], 'o')\n",
    "ax[2].set(title = 'vina_score')\n",
    "\n",
    "ax[3].plot(range(len(out.SawIndividuals)),[Individual.cost for Individual in out.SawIndividuals], 'o')\n",
    "ax[3].set(title = 'cost')\n",
    "\n",
    "ax[4].plot(range(len(out.avg_cost)),out.avg_cost, 'o')\n",
    "ax[4].set(title = 'avg_cost')\n",
    "\n",
    "ax[5].plot(range(len(out.bestcost)),out.bestcost, 'o')\n",
    "ax[5].set(title = 'bestcost')\n",
    "\n",
    "\n",
    "print(f\"Initial vina score: {out.InitIndividual.vina_score}. Final vina score: {out.pop[0].vina_score}\")\n",
    "print(f\"sascorer of the best Individual: {sascorer.calculateScore(out.pop[0].mol)}\")\n",
    "print(f\"QED of the best Individual: {fitness.QED.weights_mean(out.pop[0].mol)}\")\n",
    "\n",
    "pd.DataFrame(utils.lipinski_profile(out.pop[0].mol), index=['value']).T"
   ]
  }
 ],
 "metadata": {
  "kernelspec": {
   "display_name": "Python 3.9.13 ('moldrug')",
   "language": "python",
   "name": "python3"
  },
  "language_info": {
   "codemirror_mode": {
    "name": "ipython",
    "version": 3
   },
   "file_extension": ".py",
   "mimetype": "text/x-python",
   "name": "python",
   "nbconvert_exporter": "python",
   "pygments_lexer": "ipython3",
   "version": "3.9.13"
  },
  "orig_nbformat": 4,
  "vscode": {
   "interpreter": {
    "hash": "580997a69bc0f3991857025e1d93e87ed090e2c1fa4aff0ca8e9824f56baf8cb"
   }
  }
 },
 "nbformat": 4,
 "nbformat_minor": 2
}
