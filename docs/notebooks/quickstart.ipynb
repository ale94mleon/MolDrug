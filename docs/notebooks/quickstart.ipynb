{
 "cells": [
  {
   "cell_type": "markdown",
   "metadata": {},
   "source": [
    "# Quickstart\n",
    "First let import the modules to work with.  Some functionalities of MolDrug may not be available on pypi or conda yet. This could be because the new version is not yet release, but in brief it is going to be. You could install directly from the repo if some problem pops up. Just paste the following in a code cell:\n",
    "```bash\n",
    "! pip install git+https://github.com/ale94mleon/MolDrug.git@main\n",
    "```"
   ]
  },
  {
   "cell_type": "code",
   "execution_count": 1,
   "metadata": {},
   "outputs": [],
   "source": [
    "from rdkit import Chem\n",
    "from moldrug import utils, fitness\n",
    "from moldrug.data import receptor_pdbqt, ligands, boxes\n",
    "import tempfile, os, gzip, shutil, requests\n",
    "from multiprocessing import cpu_count"
   ]
  },
  {
   "cell_type": "markdown",
   "metadata": {},
   "source": [
    "We will use some test examples from `moldrug.data` module."
   ]
  },
  {
   "cell_type": "code",
   "execution_count": 2,
   "metadata": {},
   "outputs": [],
   "source": [
    "# Creating a temporal directory\n",
    "tmp_path = tempfile.TemporaryDirectory()\n",
    "# Creating receptors files\n",
    "r_x0161_file = os.path.join(tmp_path.name, 'r_x0161.pdbqt')\n",
    "with open(r_x0161_file, 'w') as r:\n",
    "    r.write(receptor_pdbqt.r_x0161)"
   ]
  },
  {
   "cell_type": "markdown",
   "metadata": {},
   "source": [
    "Now let's download the crem data base. Here we are downloading the smaller one. But consider to visit [CReM](https://github.com/DrrDom/crem) for more information about how to use and create the data base of fragments."
   ]
  },
  {
   "cell_type": "code",
   "execution_count": 3,
   "metadata": {},
   "outputs": [],
   "source": [
    "url = \"http://www.qsar4u.com/files/cremdb/replacements02_sc2.db.gz\"\n",
    "r = requests.get(url, allow_redirects=True)\n",
    "crem_dbgz_path = os.path.join(tmp_path.name,'crem.db.gz')\n",
    "crem_db_path = os.path.join(tmp_path.name,'crem.db')\n",
    "open(crem_dbgz_path, 'wb').write(r.content)\n",
    "with gzip.open(crem_dbgz_path, 'rb') as f_in:\n",
    "    with open(crem_db_path, 'wb') as f_out:\n",
    "        shutil.copyfileobj(f_in, f_out)"
   ]
  },
  {
   "cell_type": "markdown",
   "metadata": {},
   "source": [
    "Now let's initialize the `GA` class. "
   ]
  },
  {
   "cell_type": "code",
   "execution_count": 4,
   "metadata": {},
   "outputs": [],
   "source": [
    "maxiter = 3\n",
    "popsize = 20\n",
    "njobs = 2\n",
    "\n",
    "out = utils.GA(\n",
    "    seed_mol=Chem.MolFromSmiles(ligands.r_x0161),\n",
    "    maxiter=maxiter,\n",
    "    popsize=popsize,\n",
    "    crem_db_path = crem_db_path,\n",
    "    pc = 1,\n",
    "    get_similar = False,\n",
    "    mutate_crem_kwargs = {\n",
    "        'radius':3,\n",
    "        'min_size':1,\n",
    "        'max_size':8,\n",
    "        'min_inc':-5,\n",
    "        'max_inc':3,\n",
    "        'ncores':cpu_count(),\n",
    "    },\n",
    "    costfunc = fitness.Cost,\n",
    "    costfunc_kwargs = {\n",
    "        'vina_executable': 'vina',\n",
    "        'receptor_pdbqt_path': r_x0161_file,\n",
    "        'boxcenter' : boxes.r_x0161[\"A\"]['boxcenter'] ,\n",
    "        'boxsize': boxes.r_x0161[\"A\"]['boxsize'],\n",
    "        'exhaustiveness': 4,\n",
    "        'ncores': int(cpu_count() / njobs),\n",
    "        'num_modes': 1,\n",
    "    },\n",
    "    save_pop_every_gen = 20,\n",
    "    deffnm = os.path.join(tmp_path.name, 'pop_test_single_receptor'),\n",
    "    AddHs=True\n",
    ")\n"
   ]
  },
  {
   "cell_type": "markdown",
   "metadata": {},
   "source": [
    "Then let's call the class"
   ]
  },
  {
   "cell_type": "code",
   "execution_count": 5,
   "metadata": {},
   "outputs": [
    {
     "name": "stdout",
     "output_type": "stream",
     "text": [
      "\n",
      "\n",
      "Creating the first population with 20 members:\n"
     ]
    },
    {
     "name": "stderr",
     "output_type": "stream",
     "text": [
      "100%|██████████| 20/20 [00:40<00:00,  2.00s/it]"
     ]
    },
    {
     "name": "stdout",
     "output_type": "stream",
     "text": [
      "Initial Population: Best individual: Individual(idx = 0, smiles = COC(=O)c1ccc(S(N)(=O)=O)cc1, cost = 1.0)\n",
      "File /tmp/tmprcr1orux/pop_test_single_receptor_pop.sdf was createad!\n"
     ]
    },
    {
     "name": "stderr",
     "output_type": "stream",
     "text": [
      "\n"
     ]
    },
    {
     "name": "stdout",
     "output_type": "stream",
     "text": [
      "Evaluating generation 1 / 3:\n"
     ]
    },
    {
     "name": "stderr",
     "output_type": "stream",
     "text": [
      "100%|██████████| 20/20 [00:46<00:00,  2.32s/it]"
     ]
    },
    {
     "name": "stdout",
     "output_type": "stream",
     "text": [
      "Generation 1: Best Individual: Individual(idx = 21, smiles = NS(=O)(=O)c1ccc(CNC(=O)CC(=O)O)cc1, cost = 0.9092245922802533).\n",
      "\n"
     ]
    },
    {
     "name": "stderr",
     "output_type": "stream",
     "text": [
      "\n"
     ]
    },
    {
     "name": "stdout",
     "output_type": "stream",
     "text": [
      "Evaluating generation 2 / 3:\n"
     ]
    },
    {
     "name": "stderr",
     "output_type": "stream",
     "text": [
      "100%|██████████| 19/19 [00:49<00:00,  2.59s/it]"
     ]
    },
    {
     "name": "stdout",
     "output_type": "stream",
     "text": [
      "Generation 2: Best Individual: Individual(idx = 21, smiles = NS(=O)(=O)c1ccc(CNC(=O)CC(=O)O)cc1, cost = 0.9092245922802533).\n",
      "\n"
     ]
    },
    {
     "name": "stderr",
     "output_type": "stream",
     "text": [
      "\n"
     ]
    },
    {
     "name": "stdout",
     "output_type": "stream",
     "text": [
      "Evaluating generation 3 / 3:\n"
     ]
    },
    {
     "name": "stderr",
     "output_type": "stream",
     "text": [
      "100%|██████████| 20/20 [00:50<00:00,  2.51s/it]"
     ]
    },
    {
     "name": "stdout",
     "output_type": "stream",
     "text": [
      "File /tmp/tmprcr1orux/pop_test_single_receptor_pop.sdf was createad!\n",
      "Generation 3: Best Individual: Individual(idx = 72, smiles = COC(=O)c1ccc(C=C2C(=O)C=CC2=O)cc1, cost = 0.8422913621486044).\n",
      "\n",
      "\n",
      "=+=+=+=+=+=+=+=+=+=+=+=+=+=+=+=+=+=+=+=+=+=+=+=+=+=+=+=+=+=+=+=+=+=+=+=+=+=+=+=+=+=+=+=+=+=+=+=+=+=+\n",
      "\n",
      "The simulation finished successfully after 3 generations with a population of 20 individuals. A total number of 79 Individuals were seen during the simulation.\n",
      "Initial Individual: Individual(idx = 0, smiles = COC(=O)c1ccc(S(N)(=O)=O)cc1, cost = 1.0)\n",
      "Final Individual: Individual(idx = 72, smiles = COC(=O)c1ccc(C=C2C(=O)C=CC2=O)cc1, cost = 0.8422913621486044)\n",
      "The cost function droped in 0.15770863785139555 units.\n",
      "\n",
      "=+=+=+=+=+=+=+=+=+=+=+=+=+=+=+=+=+=+=+=+=+=+=+=+=+=+=+=+=+=+=+=+=+=+=+=+=+=+=+=+=+=+=+=+=+=+=+=+=+=+\n",
      "\n",
      "Total time (3 generations): 246.02 (s).\n",
      "Finished at Thu Aug 25 22:56:11 2022.\n",
      "\n"
     ]
    },
    {
     "name": "stderr",
     "output_type": "stream",
     "text": [
      "\n"
     ]
    }
   ],
   "source": [
    "out(njobs = njobs)"
   ]
  },
  {
   "cell_type": "markdown",
   "metadata": {},
   "source": [
    "This is a very silly example. In real life, you should increase the population size and the number of generation. In this way we explore in a better way the chemical space. The `GA` class has some nice methods that give you an idea of the obtained results."
   ]
  },
  {
   "cell_type": "code",
   "execution_count": 6,
   "metadata": {},
   "outputs": [
    {
     "data": {
      "text/html": [
       "<div>\n",
       "<style scoped>\n",
       "    .dataframe tbody tr th:only-of-type {\n",
       "        vertical-align: middle;\n",
       "    }\n",
       "\n",
       "    .dataframe tbody tr th {\n",
       "        vertical-align: top;\n",
       "    }\n",
       "\n",
       "    .dataframe thead th {\n",
       "        text-align: right;\n",
       "    }\n",
       "</style>\n",
       "<table border=\"1\" class=\"dataframe\">\n",
       "  <thead>\n",
       "    <tr style=\"text-align: right;\">\n",
       "      <th></th>\n",
       "      <th>pdbqt</th>\n",
       "      <th>cost</th>\n",
       "      <th>idx</th>\n",
       "      <th>qed</th>\n",
       "      <th>sa_score</th>\n",
       "      <th>vina_score</th>\n",
       "    </tr>\n",
       "  </thead>\n",
       "  <tbody>\n",
       "    <tr>\n",
       "      <th>74</th>\n",
       "      <td>MODEL 1\\nREMARK VINA RESULT:      -5.3      0....</td>\n",
       "      <td>1.000000</td>\n",
       "      <td>63</td>\n",
       "      <td>0.767546</td>\n",
       "      <td>7.681065</td>\n",
       "      <td>-5.3</td>\n",
       "    </tr>\n",
       "    <tr>\n",
       "      <th>75</th>\n",
       "      <td>MODEL 1\\nREMARK VINA RESULT:      -6.2      0....</td>\n",
       "      <td>0.850305</td>\n",
       "      <td>70</td>\n",
       "      <td>0.925794</td>\n",
       "      <td>6.597467</td>\n",
       "      <td>-6.2</td>\n",
       "    </tr>\n",
       "    <tr>\n",
       "      <th>76</th>\n",
       "      <td>MODEL 1\\nREMARK VINA RESULT:      -5.7      0....</td>\n",
       "      <td>1.000000</td>\n",
       "      <td>1</td>\n",
       "      <td>0.759302</td>\n",
       "      <td>6.853713</td>\n",
       "      <td>-5.7</td>\n",
       "    </tr>\n",
       "    <tr>\n",
       "      <th>77</th>\n",
       "      <td>MODEL 1\\nREMARK VINA RESULT:      -4.9      0....</td>\n",
       "      <td>1.000000</td>\n",
       "      <td>51</td>\n",
       "      <td>0.579416</td>\n",
       "      <td>6.896693</td>\n",
       "      <td>-4.9</td>\n",
       "    </tr>\n",
       "    <tr>\n",
       "      <th>78</th>\n",
       "      <td>MODEL 1\\nREMARK VINA RESULT:      -6.2      0....</td>\n",
       "      <td>0.909225</td>\n",
       "      <td>21</td>\n",
       "      <td>0.618239</td>\n",
       "      <td>6.887418</td>\n",
       "      <td>-6.2</td>\n",
       "    </tr>\n",
       "  </tbody>\n",
       "</table>\n",
       "</div>"
      ],
      "text/plain": [
       "                                                pdbqt      cost  idx  \\\n",
       "74  MODEL 1\\nREMARK VINA RESULT:      -5.3      0....  1.000000   63   \n",
       "75  MODEL 1\\nREMARK VINA RESULT:      -6.2      0....  0.850305   70   \n",
       "76  MODEL 1\\nREMARK VINA RESULT:      -5.7      0....  1.000000    1   \n",
       "77  MODEL 1\\nREMARK VINA RESULT:      -4.9      0....  1.000000   51   \n",
       "78  MODEL 1\\nREMARK VINA RESULT:      -6.2      0....  0.909225   21   \n",
       "\n",
       "         qed  sa_score  vina_score  \n",
       "74  0.767546  7.681065        -5.3  \n",
       "75  0.925794  6.597467        -6.2  \n",
       "76  0.759302  6.853713        -5.7  \n",
       "77  0.579416  6.896693        -4.9  \n",
       "78  0.618239  6.887418        -6.2  "
      ]
     },
     "execution_count": 6,
     "metadata": {},
     "output_type": "execute_result"
    }
   ],
   "source": [
    "out.to_dataframe().tail()"
   ]
  },
  {
   "cell_type": "markdown",
   "metadata": {},
   "source": [
    "You could save the entire class for future in a compressed or uncompressed pickle file. Here I just saved the file in the temporal directory, you could change the path to your current working directory."
   ]
  },
  {
   "cell_type": "code",
   "execution_count": 7,
   "metadata": {},
   "outputs": [],
   "source": [
    "out.pickle(os.path.join(tmp_path.name, f\"NumGens_{out.NumGens}_PopSize_{popsize}\"), compress=True)"
   ]
  },
  {
   "cell_type": "markdown",
   "metadata": {},
   "source": [
    "Could be that after a long simulation we would like to perform a different searching strategy over the last population. This is really simple, we could \"initialize\" again the `out` instance with a different set of parameters. Let say that we would like to be close to the last solutions. Then we could use the parameters: `min_size=0, max_size=1, min_inc=-1, max_inc=1`.This flavor will add, delate mutate heavy atoms or change hydrogens to heavy atoms."
   ]
  },
  {
   "cell_type": "code",
   "execution_count": 8,
   "metadata": {},
   "outputs": [],
   "source": [
    "out.maxiter = 5\n",
    "out.mutate_crem_kwargs = {\n",
    "        'radius':3,\n",
    "        'min_size':0,\n",
    "        'max_size':1,\n",
    "        'min_inc':-1,\n",
    "        'max_inc':1,\n",
    "        'ncores':cpu_count(),\n",
    "    }"
   ]
  },
  {
   "cell_type": "markdown",
   "metadata": {},
   "source": [
    "And run again the class"
   ]
  },
  {
   "cell_type": "code",
   "execution_count": 9,
   "metadata": {},
   "outputs": [
    {
     "name": "stdout",
     "output_type": "stream",
     "text": [
      "File /tmp/tmprcr1orux/pop_test_single_receptor_pop.sdf was createad!\n",
      "Evaluating generation 4 / 8:\n"
     ]
    },
    {
     "name": "stderr",
     "output_type": "stream",
     "text": [
      "100%|██████████| 20/20 [00:49<00:00,  2.49s/it]"
     ]
    },
    {
     "name": "stdout",
     "output_type": "stream",
     "text": [
      "Generation 4: Best Individual: Individual(idx = 89, smiles = Cc1oc(-c2ccc(S(N)(=O)=O)cc2Cl)[n+]([O-])c1C, cost = 0.8109405311578411).\n",
      "\n"
     ]
    },
    {
     "name": "stderr",
     "output_type": "stream",
     "text": [
      "\n"
     ]
    },
    {
     "name": "stdout",
     "output_type": "stream",
     "text": [
      "Evaluating generation 5 / 8:\n"
     ]
    },
    {
     "name": "stderr",
     "output_type": "stream",
     "text": [
      "100%|██████████| 18/18 [00:50<00:00,  2.81s/it]"
     ]
    },
    {
     "name": "stdout",
     "output_type": "stream",
     "text": [
      "Generation 5: Best Individual: Individual(idx = 104, smiles = NS(=O)(=O)c1ccc(CNC(=O)CC(=O)O)cc1Cl, cost = 0.7902561963794339).\n",
      "\n"
     ]
    },
    {
     "name": "stderr",
     "output_type": "stream",
     "text": [
      "\n"
     ]
    },
    {
     "name": "stdout",
     "output_type": "stream",
     "text": [
      "Evaluating generation 6 / 8:\n"
     ]
    },
    {
     "name": "stderr",
     "output_type": "stream",
     "text": [
      "100%|██████████| 20/20 [00:52<00:00,  2.60s/it]"
     ]
    },
    {
     "name": "stdout",
     "output_type": "stream",
     "text": [
      "Generation 6: Best Individual: Individual(idx = 117, smiles = N#Cc1ccccc1Oc1ccc(S(N)(=O)=O)c(Br)c1, cost = 0.7747095690884325).\n",
      "\n"
     ]
    },
    {
     "name": "stderr",
     "output_type": "stream",
     "text": [
      "\n"
     ]
    },
    {
     "name": "stdout",
     "output_type": "stream",
     "text": [
      "Evaluating generation 7 / 8:\n"
     ]
    },
    {
     "name": "stderr",
     "output_type": "stream",
     "text": [
      "100%|██████████| 19/19 [00:53<00:00,  2.82s/it]"
     ]
    },
    {
     "name": "stdout",
     "output_type": "stream",
     "text": [
      "Generation 7: Best Individual: Individual(idx = 149, smiles = N#Cc1cccc(F)c1Oc1ccc(S(N)(=O)=O)cc1, cost = 0.7541048036115159).\n",
      "\n"
     ]
    },
    {
     "name": "stderr",
     "output_type": "stream",
     "text": [
      "\n"
     ]
    },
    {
     "name": "stdout",
     "output_type": "stream",
     "text": [
      "Evaluating generation 8 / 8:\n"
     ]
    },
    {
     "name": "stderr",
     "output_type": "stream",
     "text": [
      "100%|██████████| 19/19 [01:02<00:00,  3.28s/it]"
     ]
    },
    {
     "name": "stdout",
     "output_type": "stream",
     "text": [
      "File /tmp/tmprcr1orux/pop_test_single_receptor_pop.sdf was createad!\n",
      "Generation 8: Best Individual: Individual(idx = 173, smiles = Cc1ccc(C#N)c(Oc2ccc(S(=O)(=O)F)c(O)c2)c1, cost = 0.7223127975911519).\n",
      "\n",
      "\n",
      "=+=+=+=+=+=+=+=+=+=+=+=+=+=+=+=+=+=+=+=+=+=+=+=+=+=+=+=+=+=+=+=+=+=+=+=+=+=+=+=+=+=+=+=+=+=+=+=+=+=+\n",
      "\n",
      "The simulation finished successfully after 8 generations with a population of 20 individuals. A total number of 175 Individuals were seen during the simulation.\n",
      "Initial Individual: Individual(idx = 0, smiles = COC(=O)c1ccc(S(N)(=O)=O)cc1, cost = 1.0)\n",
      "Final Individual: Individual(idx = 173, smiles = Cc1ccc(C#N)c(Oc2ccc(S(=O)(=O)F)c(O)c2)c1, cost = 0.7223127975911519)\n",
      "The cost function droped in 0.27768720240884814 units.\n",
      "\n",
      "=+=+=+=+=+=+=+=+=+=+=+=+=+=+=+=+=+=+=+=+=+=+=+=+=+=+=+=+=+=+=+=+=+=+=+=+=+=+=+=+=+=+=+=+=+=+=+=+=+=+\n",
      "\n",
      "Total time (8 generations): 289.63 (s).\n",
      "Finished at Thu Aug 25 23:02:23 2022.\n",
      "\n"
     ]
    },
    {
     "name": "stderr",
     "output_type": "stream",
     "text": [
      "\n"
     ]
    }
   ],
   "source": [
    "out(njobs = njobs)"
   ]
  },
  {
   "cell_type": "markdown",
   "metadata": {},
   "source": [
    "As you can see the `GA` class is updated rather that replaced. This is a perfect feature for rerun with different ideas. As you see the number of generations is also updated as well the number of calls."
   ]
  },
  {
   "cell_type": "code",
   "execution_count": 10,
   "metadata": {},
   "outputs": [
    {
     "name": "stdout",
     "output_type": "stream",
     "text": [
      "8 2\n"
     ]
    }
   ],
   "source": [
    "print(out.NumGens, out.NumCalls)"
   ]
  },
  {
   "cell_type": "markdown",
   "metadata": {},
   "source": [
    "The same idea is for the rest of the methods and atributtes"
   ]
  },
  {
   "cell_type": "code",
   "execution_count": 11,
   "metadata": {},
   "outputs": [
    {
     "data": {
      "text/html": [
       "<div>\n",
       "<style scoped>\n",
       "    .dataframe tbody tr th:only-of-type {\n",
       "        vertical-align: middle;\n",
       "    }\n",
       "\n",
       "    .dataframe tbody tr th {\n",
       "        vertical-align: top;\n",
       "    }\n",
       "\n",
       "    .dataframe thead th {\n",
       "        text-align: right;\n",
       "    }\n",
       "</style>\n",
       "<table border=\"1\" class=\"dataframe\">\n",
       "  <thead>\n",
       "    <tr style=\"text-align: right;\">\n",
       "      <th></th>\n",
       "      <th>pdbqt</th>\n",
       "      <th>cost</th>\n",
       "      <th>idx</th>\n",
       "      <th>qed</th>\n",
       "      <th>sa_score</th>\n",
       "      <th>vina_score</th>\n",
       "    </tr>\n",
       "  </thead>\n",
       "  <tbody>\n",
       "    <tr>\n",
       "      <th>170</th>\n",
       "      <td>MODEL 1\\nREMARK VINA RESULT:      -5.5      0....</td>\n",
       "      <td>1.000000</td>\n",
       "      <td>69</td>\n",
       "      <td>0.359899</td>\n",
       "      <td>7.850066</td>\n",
       "      <td>-5.5</td>\n",
       "    </tr>\n",
       "    <tr>\n",
       "      <th>171</th>\n",
       "      <td>MODEL 1\\nREMARK VINA RESULT:      -5.5      0....</td>\n",
       "      <td>1.000000</td>\n",
       "      <td>120</td>\n",
       "      <td>0.459112</td>\n",
       "      <td>6.454275</td>\n",
       "      <td>-5.5</td>\n",
       "    </tr>\n",
       "    <tr>\n",
       "      <th>172</th>\n",
       "      <td>MODEL 1\\nREMARK VINA RESULT:      -5.3      0....</td>\n",
       "      <td>1.000000</td>\n",
       "      <td>63</td>\n",
       "      <td>0.767546</td>\n",
       "      <td>7.681065</td>\n",
       "      <td>-5.3</td>\n",
       "    </tr>\n",
       "    <tr>\n",
       "      <th>173</th>\n",
       "      <td>MODEL 1\\nREMARK VINA RESULT:      -6.2      0....</td>\n",
       "      <td>0.850305</td>\n",
       "      <td>70</td>\n",
       "      <td>0.925794</td>\n",
       "      <td>6.597467</td>\n",
       "      <td>-6.2</td>\n",
       "    </tr>\n",
       "    <tr>\n",
       "      <th>174</th>\n",
       "      <td>MODEL 1\\nREMARK VINA RESULT:      -4.9      0....</td>\n",
       "      <td>1.000000</td>\n",
       "      <td>51</td>\n",
       "      <td>0.579416</td>\n",
       "      <td>6.896693</td>\n",
       "      <td>-4.9</td>\n",
       "    </tr>\n",
       "  </tbody>\n",
       "</table>\n",
       "</div>"
      ],
      "text/plain": [
       "                                                 pdbqt      cost  idx  \\\n",
       "170  MODEL 1\\nREMARK VINA RESULT:      -5.5      0....  1.000000   69   \n",
       "171  MODEL 1\\nREMARK VINA RESULT:      -5.5      0....  1.000000  120   \n",
       "172  MODEL 1\\nREMARK VINA RESULT:      -5.3      0....  1.000000   63   \n",
       "173  MODEL 1\\nREMARK VINA RESULT:      -6.2      0....  0.850305   70   \n",
       "174  MODEL 1\\nREMARK VINA RESULT:      -4.9      0....  1.000000   51   \n",
       "\n",
       "          qed  sa_score  vina_score  \n",
       "170  0.359899  7.850066        -5.5  \n",
       "171  0.459112  6.454275        -5.5  \n",
       "172  0.767546  7.681065        -5.3  \n",
       "173  0.925794  6.597467        -6.2  \n",
       "174  0.579416  6.896693        -4.9  "
      ]
     },
     "execution_count": 11,
     "metadata": {},
     "output_type": "execute_result"
    }
   ],
   "source": [
    "out.to_dataframe().tail()"
   ]
  },
  {
   "cell_type": "markdown",
   "metadata": {},
   "source": [
    "This is the best solution of this simulation (in your case you could get a different one):"
   ]
  },
  {
   "cell_type": "code",
   "execution_count": 12,
   "metadata": {},
   "outputs": [
    {
     "data": {
      "image/png": "[encoded data removed]",
      "text/plain": [
       "<rdkit.Chem.rdchem.Mol at 0x7f8de8ad2a00>"
      ]
     },
     "execution_count": 12,
     "metadata": {},
     "output_type": "execute_result"
    }
   ],
   "source": [
    "Chem.MolFromSmiles(out.pop[0].smiles)"
   ]
  },
  {
   "cell_type": "markdown",
   "metadata": {},
   "source": [
    "And here is the input"
   ]
  },
  {
   "cell_type": "code",
   "execution_count": 13,
   "metadata": {},
   "outputs": [
    {
     "data": {
      "image/png": "[encoded data removed]",
      "text/plain": [
       "<rdkit.Chem.rdchem.Mol at 0x7f8de8ad2b20>"
      ]
     },
     "execution_count": 13,
     "metadata": {},
     "output_type": "execute_result"
    }
   ],
   "source": [
    "from rdkit import Chem\n",
    "Chem.MolFromSmiles(\"COC(=O)C=1C=CC(=CC1)S(=O)(=O)N\")"
   ]
  },
  {
   "cell_type": "markdown",
   "metadata": {},
   "source": [
    "Printing some information"
   ]
  },
  {
   "cell_type": "code",
   "execution_count": 14,
   "metadata": {},
   "outputs": [
    {
     "name": "stdout",
     "output_type": "stream",
     "text": [
      "Initial vina score: -5.2. Final vina score: -6.9\n",
      "sascorer of the best Individual: 6.428999711392076\n",
      "QED of the best Individual: 0.8806035894103258\n"
     ]
    },
    {
     "data": {
      "text/html": [
       "<div>\n",
       "<style scoped>\n",
       "    .dataframe tbody tr th:only-of-type {\n",
       "        vertical-align: middle;\n",
       "    }\n",
       "\n",
       "    .dataframe tbody tr th {\n",
       "        vertical-align: top;\n",
       "    }\n",
       "\n",
       "    .dataframe thead th {\n",
       "        text-align: right;\n",
       "    }\n",
       "</style>\n",
       "<table border=\"1\" class=\"dataframe\">\n",
       "  <thead>\n",
       "    <tr style=\"text-align: right;\">\n",
       "      <th></th>\n",
       "      <th>value</th>\n",
       "    </tr>\n",
       "  </thead>\n",
       "  <tbody>\n",
       "    <tr>\n",
       "      <th>NumHAcceptors</th>\n",
       "      <td>5.000000</td>\n",
       "    </tr>\n",
       "    <tr>\n",
       "      <th>NumHDonors</th>\n",
       "      <td>1.000000</td>\n",
       "    </tr>\n",
       "    <tr>\n",
       "      <th>wt</th>\n",
       "      <td>307.302000</td>\n",
       "    </tr>\n",
       "    <tr>\n",
       "      <th>MLogP</th>\n",
       "      <td>3.022800</td>\n",
       "    </tr>\n",
       "    <tr>\n",
       "      <th>NumRotatableBonds</th>\n",
       "      <td>5.000000</td>\n",
       "    </tr>\n",
       "    <tr>\n",
       "      <th>TPSA</th>\n",
       "      <td>87.390000</td>\n",
       "    </tr>\n",
       "    <tr>\n",
       "      <th>FractionCSP3</th>\n",
       "      <td>0.071429</td>\n",
       "    </tr>\n",
       "    <tr>\n",
       "      <th>HeavyAtomCount</th>\n",
       "      <td>21.000000</td>\n",
       "    </tr>\n",
       "    <tr>\n",
       "      <th>NHOHCount</th>\n",
       "      <td>1.000000</td>\n",
       "    </tr>\n",
       "    <tr>\n",
       "      <th>NOCount</th>\n",
       "      <td>5.000000</td>\n",
       "    </tr>\n",
       "    <tr>\n",
       "      <th>NumAliphaticCarbocycles</th>\n",
       "      <td>0.000000</td>\n",
       "    </tr>\n",
       "    <tr>\n",
       "      <th>NumAliphaticHeterocycles</th>\n",
       "      <td>0.000000</td>\n",
       "    </tr>\n",
       "    <tr>\n",
       "      <th>NumAliphaticRings</th>\n",
       "      <td>0.000000</td>\n",
       "    </tr>\n",
       "    <tr>\n",
       "      <th>NumAromaticCarbocycles</th>\n",
       "      <td>2.000000</td>\n",
       "    </tr>\n",
       "    <tr>\n",
       "      <th>NumAromaticHeterocycles</th>\n",
       "      <td>0.000000</td>\n",
       "    </tr>\n",
       "    <tr>\n",
       "      <th>NumAromaticRings</th>\n",
       "      <td>2.000000</td>\n",
       "    </tr>\n",
       "    <tr>\n",
       "      <th>NumHeteroatoms</th>\n",
       "      <td>7.000000</td>\n",
       "    </tr>\n",
       "    <tr>\n",
       "      <th>NumSaturatedCarbocycles</th>\n",
       "      <td>0.000000</td>\n",
       "    </tr>\n",
       "    <tr>\n",
       "      <th>NumSaturatedHeterocycles</th>\n",
       "      <td>0.000000</td>\n",
       "    </tr>\n",
       "    <tr>\n",
       "      <th>NumSaturatedRings</th>\n",
       "      <td>0.000000</td>\n",
       "    </tr>\n",
       "    <tr>\n",
       "      <th>RingCount</th>\n",
       "      <td>2.000000</td>\n",
       "    </tr>\n",
       "  </tbody>\n",
       "</table>\n",
       "</div>"
      ],
      "text/plain": [
       "                               value\n",
       "NumHAcceptors               5.000000\n",
       "NumHDonors                  1.000000\n",
       "wt                        307.302000\n",
       "MLogP                       3.022800\n",
       "NumRotatableBonds           5.000000\n",
       "TPSA                       87.390000\n",
       "FractionCSP3                0.071429\n",
       "HeavyAtomCount             21.000000\n",
       "NHOHCount                   1.000000\n",
       "NOCount                     5.000000\n",
       "NumAliphaticCarbocycles     0.000000\n",
       "NumAliphaticHeterocycles    0.000000\n",
       "NumAliphaticRings           0.000000\n",
       "NumAromaticCarbocycles      2.000000\n",
       "NumAromaticHeterocycles     0.000000\n",
       "NumAromaticRings            2.000000\n",
       "NumHeteroatoms              7.000000\n",
       "NumSaturatedCarbocycles     0.000000\n",
       "NumSaturatedHeterocycles    0.000000\n",
       "NumSaturatedRings           0.000000\n",
       "RingCount                   2.000000"
      ]
     },
     "execution_count": 14,
     "metadata": {},
     "output_type": "execute_result"
    },
    {
     "data": {
      "image/png": "[encoded data removed]",
      "text/plain": [
       "<Figure size 1152x1440 with 6 Axes>"
      ]
     },
     "metadata": {
      "needs_background": "light"
     },
     "output_type": "display_data"
    }
   ],
   "source": [
    "import matplotlib.pyplot as plt\n",
    "from moldrug import utils\n",
    "import pandas as pd\n",
    "sascorer = utils.import_sascorer()\n",
    "\n",
    "\n",
    "fig, ax = plt.subplots(nrows = 6, figsize = (16,20))\n",
    "\n",
    "ax[0].plot(range(len(out.SawIndividuals)),[Individual.qed for Individual in out.SawIndividuals], 'o')\n",
    "ax[0].set(title = 'qed')\n",
    "\n",
    "ax[1].plot(range(len(out.SawIndividuals)),[Individual.sa_score for Individual in out.SawIndividuals], 'o')\n",
    "ax[1].set(title = 'sa_score')\n",
    "\n",
    "ax[2].plot(range(len(out.SawIndividuals)),[Individual.vina_score for Individual in out.SawIndividuals], 'o')\n",
    "ax[2].set(title = 'vina_score')\n",
    "\n",
    "ax[3].plot(range(len(out.SawIndividuals)),[Individual.cost for Individual in out.SawIndividuals], 'o')\n",
    "ax[3].set(title = 'cost')\n",
    "\n",
    "ax[4].plot(range(len(out.avg_cost)),out.avg_cost, 'o')\n",
    "ax[4].set(title = 'avg_cost')\n",
    "\n",
    "ax[5].plot(range(len(out.bestcost)),out.bestcost, 'o')\n",
    "ax[5].set(title = 'bestcost')\n",
    "\n",
    "\n",
    "print(f\"Initial vina score: {out.InitIndividual.vina_score}. Final vina score: {out.pop[0].vina_score}\")\n",
    "print(f\"sascorer of the best Individual: {sascorer.calculateScore(out.pop[0].mol)}\")\n",
    "print(f\"QED of the best Individual: {fitness.QED.weights_mean(out.pop[0].mol)}\")\n",
    "\n",
    "pd.DataFrame(utils.lipinski_profile(out.pop[0].mol), index=['value']).T"
   ]
  }
 ],
 "metadata": {
  "kernelspec": {
   "display_name": "Python 3.9.13 ('moldrug')",
   "language": "python",
   "name": "python3"
  },
  "language_info": {
   "codemirror_mode": {
    "name": "ipython",
    "version": 3
   },
   "file_extension": ".py",
   "mimetype": "text/x-python",
   "name": "python",
   "nbconvert_exporter": "python",
   "pygments_lexer": "ipython3",
   "version": "3.9.13"
  },
  "orig_nbformat": 4,
  "vscode": {
   "interpreter": {
    "hash": "580997a69bc0f3991857025e1d93e87ed090e2c1fa4aff0ca8e9824f56baf8cb"
   }
  }
 },
 "nbformat": 4,
 "nbformat_minor": 2
}
