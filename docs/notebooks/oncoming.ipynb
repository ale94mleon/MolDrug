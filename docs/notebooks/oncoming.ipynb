{
 "cells": [
  {
   "cell_type": "markdown",
   "metadata": {},
   "source": [
    "# Oncoming\n",
    "\n",
    "Here we describe some new features of the developing version of MolDrug\n",
    "Let's install the developing version of MolDrug. I am assuming that you already have installed RDKit and Vina dependencies. For more details in how to install MolDrug visit [how to install MolDrug](https://moldrug.readthedocs.io/en/latest/source/installation.html)"
   ]
  },
  {
   "cell_type": "code",
   "execution_count": null,
   "metadata": {},
   "outputs": [],
   "source": [
    "#! pip install git+https://github.com/ale94mleon/MolDrug.git@main"
   ]
  },
  {
   "cell_type": "code",
   "execution_count": 14,
   "metadata": {},
   "outputs": [],
   "source": [
    "import tempfile, os, requests, gzip, shutil, yaml\n",
    "from multiprocessing import cpu_count\n",
    "from moldrug.data import ligands, boxes, receptor_pdbqt, receptor_pdb, constraintref\n",
    "tmp_path = tempfile.TemporaryDirectory()"
   ]
  },
  {
   "cell_type": "code",
   "execution_count": 15,
   "metadata": {},
   "outputs": [],
   "source": [
    "# Setting the working directory (you could chang it)\n",
    "wd = tmp_path.name"
   ]
  },
  {
   "cell_type": "code",
   "execution_count": 16,
   "metadata": {},
   "outputs": [
    {
     "name": "stdout",
     "output_type": "stream",
     "text": [
      "COC(=O)C=1C=CC(=CC1)S(=O)(=O)N\n",
      "{'A': {'boxcenter': [12.11, 1.84, 23.56], 'boxsize': [22.5, 22.5, 22.5]}}\n",
      "/tmp/tmp39hmc68k ['x0161.pdb', 'ref.sdf', 'crem.db.gz', 'x0161.pdbqt', 'crem.db']\n"
     ]
    }
   ],
   "source": [
    "# Getting the data\n",
    "lig = ligands.r_x0161\n",
    "box = boxes.r_x0161\n",
    "with open(os.path.join(wd, 'x0161.pdbqt'), 'w') as f:\n",
    "    f.write(receptor_pdbqt.r_x0161)\n",
    "with open(os.path.join(wd, 'x0161.pdb'), 'w') as f:\n",
    "    f.write(receptor_pdb.r_x0161)\n",
    "with open(os.path.join(wd, 'ref.sdf'), 'w') as f:\n",
    "    f.write(constraintref.r_x0161)\n",
    "# Getting the CReM data base\n",
    "url = \"http://www.qsar4u.com/files/cremdb/replacements02_sc2.db.gz\"\n",
    "r = requests.get(url, allow_redirects=True)\n",
    "crem_dbgz_path = os.path.join(wd,'crem.db.gz')\n",
    "crem_db_path = os.path.join(wd,'crem.db')\n",
    "open(crem_dbgz_path, 'wb').write(r.content)\n",
    "with gzip.open(crem_dbgz_path, 'rb') as f_in:\n",
    "    with open(crem_db_path, 'wb') as f_out:\n",
    "        shutil.copyfileobj(f_in, f_out)\n",
    "\n",
    "print(lig)\n",
    "print(box)\n",
    "print(wd, os.listdir(wd))"
   ]
  },
  {
   "cell_type": "markdown",
   "metadata": {},
   "source": [
    "## Setting the configuration"
   ]
  },
  {
   "cell_type": "code",
   "execution_count": 17,
   "metadata": {},
   "outputs": [
    {
     "data": {
      "text/plain": [
       "['x0161.pdb', 'ref.sdf', 'crem.db.gz', 'x0161.pdbqt', 'config.yml', 'crem.db']"
      ]
     },
     "execution_count": 17,
     "metadata": {},
     "output_type": "execute_result"
    }
   ],
   "source": [
    "config ={\n",
    "    \"01_grow\": {\n",
    "        \"type\": \"GA\",\n",
    "        \"njobs\": 6,\n",
    "        \"seed_mol\": lig,\n",
    "        \"AddHs\": True,\n",
    "        \"costfunc\": \"Cost\",\n",
    "        \"costfunc_kwargs\": {\n",
    "            \"vina_executable\": \"vina\",\n",
    "            \"receptor_pdbqt_path\": os.path.join(wd, 'x0161.pdbqt'),\n",
    "            \"boxcenter\": box['A']['boxcenter'],\n",
    "            \"boxsize\": box['A']['boxsize'],\n",
    "            \"exhaustiveness\": 4,\n",
    "            \"ncores\": int(cpu_count() / 6),\n",
    "            \"num_modes\": 1,\n",
    "            \"constraint\": True,\n",
    "            \"constraint_type\": \"score_only\", # local_only\n",
    "            \"constraint_ref\": os.path.join(wd, 'ref.sdf'),\n",
    "            \"constraint_receptor_pdb_path\": os.path.join(wd, 'x0161.pdb'),\n",
    "            \"constraint_num_conf\": 100,\n",
    "            \"constraint_minimum_conf_rms\": 0.01\n",
    "        },\n",
    "        \"crem_db_path\": crem_db_path,\n",
    "        \"maxiter\": 5,\n",
    "        \"popsize\": 25,\n",
    "        \"beta\": 0.001,\n",
    "        \"pc\": 1,\n",
    "        \"get_similar\": False,\n",
    "        \"mutate_crem_kwargs\": {\n",
    "            \"radius\": 3,\n",
    "            \"min_size\": 0,\n",
    "            \"max_size\": 0,\n",
    "            \"min_inc\": -5,\n",
    "            \"max_inc\": 6,\n",
    "            \"ncores\": 12\n",
    "        },\n",
    "        \"save_pop_every_gen\": 10,\n",
    "        \"deffnm\": \"01_grow\"\n",
    "    },\n",
    "    \"02_allow_grow\": {\n",
    "        \"mutate_crem_kwargs\": {\n",
    "            \"radius\": 3,\n",
    "            \"min_size\": 0,\n",
    "            \"max_size\": 2,\n",
    "            \"min_inc\": -5,\n",
    "            \"max_inc\": 3,\n",
    "            \"ncores\": 12\n",
    "        },\n",
    "        \"maxiter\": 5,\n",
    "        \"deffnm\": \"02_allow_grow\"\n",
    "    },\n",
    "    \"03_pure_mutate\": {\n",
    "        \"mutate_crem_kwargs\": {\n",
    "            \"radius\": 3,\n",
    "            \"min_size\": 1,\n",
    "            \"max_size\": 8,\n",
    "            \"min_inc\": -5,\n",
    "            \"max_inc\": 3,\n",
    "            \"ncores\": 12\n",
    "        },\n",
    "        \"maxiter\": 2,\n",
    "        \"deffnm\": \"03_pure_mutate\"\n",
    "    },\n",
    "    \"04_local\": {\n",
    "        \"mutate_crem_kwargs\": {\n",
    "            \"radius\": 3,\n",
    "            \"min_size\": 0,\n",
    "            \"max_size\": 1,\n",
    "            \"min_inc\": -1,\n",
    "            \"max_inc\": 1,\n",
    "            \"ncores\": 12\n",
    "        },\n",
    "        \"maxiter\": 2,\n",
    "        \"deffnm\": \"04_local\"\n",
    "    }\n",
    "}\n",
    "# Save the config as a yaml file\n",
    "with open(os.path.join(wd, 'config.yml'), 'w') as f:\n",
    "    yaml.dump(config, f)\n",
    "os.listdir(wd)"
   ]
  },
  {
   "cell_type": "markdown",
   "metadata": {},
   "source": [
    "## Move to the directory and run moldrug"
   ]
  },
  {
   "cell_type": "code",
   "execution_count": 19,
   "metadata": {},
   "outputs": [
    {
     "name": "stdout",
     "output_type": "stream",
     "text": [
      "You are using moldrug: 2.0.0.\n",
      "\n",
      "The main job is being executed.\n",
      "\n",
      "\n",
      "Creating the first population with 25 members:\n",
      "100%|███████████████████████████████████████████| 25/25 [00:16<00:00,  1.50it/s]\n",
      "Initial Population: Best individual: Individual(idx = 0, smiles = COC(=O)c1ccc(S(N)(=O)=O)cc1, cost = 1.0)\n",
      "File 01_grow_pop.sdf was createad!\n",
      "Evaluating generation 1 / 5:\n",
      "100%|███████████████████████████████████████████| 24/24 [00:22<00:00,  1.04it/s]\n",
      "Generation 1: Best Individual: Individual(idx = 0, smiles = COC(=O)c1ccc(S(N)(=O)=O)cc1, cost = 1.0).\n",
      "\n",
      "Evaluating generation 2 / 5:\n",
      "100%|███████████████████████████████████████████| 25/25 [00:25<00:00,  1.04s/it]\n",
      "Generation 2: Best Individual: Individual(idx = 0, smiles = COC(=O)c1ccc(S(N)(=O)=O)cc1, cost = 1.0).\n",
      "\n",
      "Evaluating generation 3 / 5:\n",
      "100%|███████████████████████████████████████████| 25/25 [00:30<00:00,  1.23s/it]\n",
      "Generation 3: Best Individual: Individual(idx = 0, smiles = COC(=O)c1ccc(S(N)(=O)=O)cc1, cost = 1.0).\n",
      "\n",
      "Evaluating generation 4 / 5:\n",
      "100%|███████████████████████████████████████████| 24/24 [00:25<00:00,  1.07s/it]\n",
      "Generation 4: Best Individual: Individual(idx = 0, smiles = COC(=O)c1ccc(S(N)(=O)=O)cc1, cost = 1.0).\n",
      "\n",
      "Evaluating generation 5 / 5:\n",
      "100%|███████████████████████████████████████████| 25/25 [00:34<00:00,  1.38s/it]\n",
      "File 01_grow_pop.sdf was createad!\n",
      "Generation 5: Best Individual: Individual(idx = 0, smiles = COC(=O)c1ccc(S(N)(=O)=O)cc1, cost = 1.0).\n",
      "\n",
      "\n",
      "=+=+=+=+=+=+=+=+=+=+=+=+=+=+=+=+=+=+=+=+=+=+=+=+=+=+=+=+=+=+=+=+=+=+=+=+=+=+=+=+=+=+=+=+=+=+=+=+=+=+\n",
      "\n",
      "The simulation finished successfully after 5 generations with a population of 25 individuals. A total number of 148 Individuals were seen during the simulation.\n",
      "Initial Individual: Individual(idx = 0, smiles = COC(=O)c1ccc(S(N)(=O)=O)cc1, cost = 1.0)\n",
      "Final Individual: Individual(idx = 0, smiles = COC(=O)c1ccc(S(N)(=O)=O)cc1, cost = 1.0)\n",
      "The cost function droped in 0.0 units.\n",
      "\n",
      "=+=+=+=+=+=+=+=+=+=+=+=+=+=+=+=+=+=+=+=+=+=+=+=+=+=+=+=+=+=+=+=+=+=+=+=+=+=+=+=+=+=+=+=+=+=+=+=+=+=+\n",
      "\n",
      "Total time (5 generations): 192.90 (s).\n",
      "Finished at Thu Aug 25 01:06:37 2022.\n",
      "\n",
      "File 01_grow_pop.sdf was createad!\n",
      "The main job finished!.\n",
      "The follow job 02_allow_grow started.\n",
      "File 02_allow_grow_pop.sdf was createad!\n",
      "Evaluating generation 6 / 10:\n",
      "100%|███████████████████████████████████████████| 25/25 [00:24<00:00,  1.01it/s]\n",
      "Generation 6: Best Individual: Individual(idx = 0, smiles = COC(=O)c1ccc(S(N)(=O)=O)cc1, cost = 1.0).\n",
      "\n",
      "Evaluating generation 7 / 10:\n",
      "100%|███████████████████████████████████████████| 25/25 [00:25<00:00,  1.00s/it]\n",
      "Generation 7: Best Individual: Individual(idx = 0, smiles = COC(=O)c1ccc(S(N)(=O)=O)cc1, cost = 1.0).\n",
      "\n",
      "Evaluating generation 8 / 10:\n",
      "100%|███████████████████████████████████████████| 22/22 [00:21<00:00,  1.02it/s]\n",
      "Generation 8: Best Individual: Individual(idx = 0, smiles = COC(=O)c1ccc(S(N)(=O)=O)cc1, cost = 1.0).\n",
      "\n",
      "Evaluating generation 9 / 10:\n",
      "100%|███████████████████████████████████████████| 24/24 [00:21<00:00,  1.14it/s]\n",
      "Generation 9: Best Individual: Individual(idx = 0, smiles = COC(=O)c1ccc(S(N)(=O)=O)cc1, cost = 1.0).\n",
      "\n",
      "Evaluating generation 10 / 10:\n",
      "100%|███████████████████████████████████████████| 23/23 [00:19<00:00,  1.20it/s]\n",
      "File 02_allow_grow_pop.sdf was createad!\n",
      "Generation 10: Best Individual: Individual(idx = 0, smiles = COC(=O)c1ccc(S(N)(=O)=O)cc1, cost = 1.0).\n",
      "\n",
      "\n",
      "=+=+=+=+=+=+=+=+=+=+=+=+=+=+=+=+=+=+=+=+=+=+=+=+=+=+=+=+=+=+=+=+=+=+=+=+=+=+=+=+=+=+=+=+=+=+=+=+=+=+\n",
      "\n",
      "The simulation finished successfully after 10 generations with a population of 25 individuals. A total number of 267 Individuals were seen during the simulation.\n",
      "Initial Individual: Individual(idx = 0, smiles = COC(=O)c1ccc(S(N)(=O)=O)cc1, cost = 1.0)\n",
      "Final Individual: Individual(idx = 0, smiles = COC(=O)c1ccc(S(N)(=O)=O)cc1, cost = 1.0)\n",
      "The cost function droped in 0.0 units.\n",
      "\n",
      "=+=+=+=+=+=+=+=+=+=+=+=+=+=+=+=+=+=+=+=+=+=+=+=+=+=+=+=+=+=+=+=+=+=+=+=+=+=+=+=+=+=+=+=+=+=+=+=+=+=+\n",
      "\n",
      "Total time (10 generations): 142.78 (s).\n",
      "Finished at Thu Aug 25 01:09:00 2022.\n",
      "\n",
      "File 02_allow_grow_pop.sdf was createad!\n",
      "The job 02_allow_grow finished!.\n",
      "The follow job 03_pure_mutate started.\n",
      "File 03_pure_mutate_pop.sdf was createad!\n",
      "Evaluating generation 11 / 12:\n",
      "100%|███████████████████████████████████████████| 25/25 [00:18<00:00,  1.36it/s]\n",
      "Generation 11: Best Individual: Individual(idx = 0, smiles = COC(=O)c1ccc(S(N)(=O)=O)cc1, cost = 1.0).\n",
      "\n",
      "Evaluating generation 12 / 12:\n",
      "100%|███████████████████████████████████████████| 25/25 [00:19<00:00,  1.31it/s]\n",
      "File 03_pure_mutate_pop.sdf was createad!\n",
      "Generation 12: Best Individual: Individual(idx = 0, smiles = COC(=O)c1ccc(S(N)(=O)=O)cc1, cost = 1.0).\n",
      "\n",
      "\n",
      "=+=+=+=+=+=+=+=+=+=+=+=+=+=+=+=+=+=+=+=+=+=+=+=+=+=+=+=+=+=+=+=+=+=+=+=+=+=+=+=+=+=+=+=+=+=+=+=+=+=+\n",
      "\n",
      "The simulation finished successfully after 12 generations with a population of 25 individuals. A total number of 317 Individuals were seen during the simulation.\n",
      "Initial Individual: Individual(idx = 0, smiles = COC(=O)c1ccc(S(N)(=O)=O)cc1, cost = 1.0)\n",
      "Final Individual: Individual(idx = 0, smiles = COC(=O)c1ccc(S(N)(=O)=O)cc1, cost = 1.0)\n",
      "The cost function droped in 0.0 units.\n",
      "\n",
      "=+=+=+=+=+=+=+=+=+=+=+=+=+=+=+=+=+=+=+=+=+=+=+=+=+=+=+=+=+=+=+=+=+=+=+=+=+=+=+=+=+=+=+=+=+=+=+=+=+=+\n",
      "\n",
      "Total time (12 generations): 98.97 (s).\n",
      "Finished at Thu Aug 25 01:10:39 2022.\n",
      "\n",
      "File 03_pure_mutate_pop.sdf was createad!\n",
      "The job 03_pure_mutate finished!.\n",
      "The follow job 04_local started.\n",
      "File 04_local_pop.sdf was createad!\n",
      "Evaluating generation 13 / 14:\n",
      "100%|███████████████████████████████████████████| 23/23 [00:16<00:00,  1.39it/s]\n",
      "Generation 13: Best Individual: Individual(idx = 0, smiles = COC(=O)c1ccc(S(N)(=O)=O)cc1, cost = 1.0).\n",
      "\n",
      "Evaluating generation 14 / 14:\n",
      "100%|███████████████████████████████████████████| 21/21 [00:17<00:00,  1.19it/s]\n",
      "File 04_local_pop.sdf was createad!\n",
      "Generation 14: Best Individual: Individual(idx = 0, smiles = COC(=O)c1ccc(S(N)(=O)=O)cc1, cost = 1.0).\n",
      "\n",
      "\n",
      "=+=+=+=+=+=+=+=+=+=+=+=+=+=+=+=+=+=+=+=+=+=+=+=+=+=+=+=+=+=+=+=+=+=+=+=+=+=+=+=+=+=+=+=+=+=+=+=+=+=+\n",
      "\n",
      "The simulation finished successfully after 14 generations with a population of 25 individuals. A total number of 360 Individuals were seen during the simulation.\n",
      "Initial Individual: Individual(idx = 0, smiles = COC(=O)c1ccc(S(N)(=O)=O)cc1, cost = 1.0)\n",
      "Final Individual: Individual(idx = 0, smiles = COC(=O)c1ccc(S(N)(=O)=O)cc1, cost = 1.0)\n",
      "The cost function droped in 0.0 units.\n",
      "\n",
      "=+=+=+=+=+=+=+=+=+=+=+=+=+=+=+=+=+=+=+=+=+=+=+=+=+=+=+=+=+=+=+=+=+=+=+=+=+=+=+=+=+=+=+=+=+=+=+=+=+=+\n",
      "\n",
      "Total time (14 generations): 44.90 (s).\n",
      "Finished at Thu Aug 25 01:11:24 2022.\n",
      "\n",
      "File 04_local_pop.sdf was createad!\n",
      "The job 04_local finished!.\n"
     ]
    }
   ],
   "source": [
    "cwd = os.getcwd()\n",
    "os.chdir(wd)\n",
    "! moldrug config.yml\n",
    "os.chdir(cwd)\n",
    "os.listdir(wd)\n",
    "os.chdir(cwd)"
   ]
  },
  {
   "cell_type": "code",
   "execution_count": 21,
   "metadata": {},
   "outputs": [
    {
     "data": {
      "text/plain": [
       "['x0161.pdb',\n",
       " '01_grow_pop.sdf',\n",
       " '04_local_result.pbz2',\n",
       " 'ref.sdf',\n",
       " '02_allow_grow_pop.pbz2',\n",
       " '03_pure_mutate_result.pbz2',\n",
       " 'crem.db.gz',\n",
       " '03_pure_mutate_pop.sdf',\n",
       " '04_local_pop.pbz2',\n",
       " '01_grow_result.pbz2',\n",
       " '02_allow_grow_pop.sdf',\n",
       " '03_pure_mutate_pop.pbz2',\n",
       " '02_allow_grow_result.pbz2',\n",
       " '04_local_pop.sdf',\n",
       " 'x0161.pdbqt',\n",
       " 'config.yml',\n",
       " 'crem.db',\n",
       " '01_grow_pop.pbz2']"
      ]
     },
     "execution_count": 21,
     "metadata": {},
     "output_type": "execute_result"
    }
   ],
   "source": [
    "os.listdir(wd)"
   ]
  },
  {
   "cell_type": "code",
   "execution_count": 20,
   "metadata": {},
   "outputs": [
    {
     "data": {
      "application/vnd.jupyter.widget-view+json": {
       "model_id": "31e36df7f6b145c692ed1a3a61996078",
       "version_major": 2,
       "version_minor": 0
      },
      "text/plain": []
     },
     "metadata": {},
     "output_type": "display_data"
    }
   ],
   "source": [
    "import nglview as nv\n",
    "import parmed as pmd\n",
    "from ipywidgets import IntSlider, VBox"
   ]
  },
  {
   "cell_type": "code",
   "execution_count": 30,
   "metadata": {},
   "outputs": [
    {
     "data": {
      "text/plain": [
       "[<Structure 23 atoms; 1 residues; 23 bonds; NOT parametrized>,\n",
       " <Structure 28 atoms; 1 residues; 28 bonds; NOT parametrized>,\n",
       " <Structure 34 atoms; 1 residues; 34 bonds; NOT parametrized>,\n",
       " <Structure 23 atoms; 1 residues; 23 bonds; NOT parametrized>,\n",
       " <Structure 24 atoms; 1 residues; 24 bonds; NOT parametrized>,\n",
       " <Structure 27 atoms; 1 residues; 27 bonds; NOT parametrized>,\n",
       " <Structure 32 atoms; 1 residues; 32 bonds; NOT parametrized>,\n",
       " <Structure 30 atoms; 1 residues; 30 bonds; NOT parametrized>,\n",
       " <Structure 37 atoms; 1 residues; 37 bonds; NOT parametrized>,\n",
       " <Structure 30 atoms; 1 residues; 30 bonds; NOT parametrized>,\n",
       " <Structure 31 atoms; 1 residues; 31 bonds; NOT parametrized>,\n",
       " <Structure 25 atoms; 1 residues; 25 bonds; NOT parametrized>,\n",
       " <Structure 34 atoms; 1 residues; 34 bonds; NOT parametrized>,\n",
       " <Structure 26 atoms; 1 residues; 26 bonds; NOT parametrized>,\n",
       " <Structure 26 atoms; 1 residues; 26 bonds; NOT parametrized>,\n",
       " <Structure 23 atoms; 1 residues; 23 bonds; NOT parametrized>,\n",
       " <Structure 27 atoms; 1 residues; 27 bonds; NOT parametrized>,\n",
       " <Structure 31 atoms; 1 residues; 31 bonds; NOT parametrized>,\n",
       " <Structure 36 atoms; 1 residues; 36 bonds; NOT parametrized>,\n",
       " <Structure 32 atoms; 1 residues; 32 bonds; NOT parametrized>,\n",
       " <Structure 36 atoms; 1 residues; 36 bonds; NOT parametrized>,\n",
       " <Structure 35 atoms; 1 residues; 35 bonds; NOT parametrized>,\n",
       " <Structure 33 atoms; 1 residues; 33 bonds; NOT parametrized>,\n",
       " <Structure 28 atoms; 1 residues; 28 bonds; NOT parametrized>,\n",
       " <Structure 26 atoms; 1 residues; 26 bonds; NOT parametrized>]"
      ]
     },
     "execution_count": 30,
     "metadata": {},
     "output_type": "execute_result"
    }
   ],
   "source": [
    "parms = pmd.rdkit.from_sdf(os.path.join(wd, '04_local_pop.sdf')) # require parmed, rdkit\n",
    "parms"
   ]
  },
  {
   "cell_type": "code",
   "execution_count": 31,
   "metadata": {},
   "outputs": [
    {
     "data": {
      "application/vnd.jupyter.widget-view+json": {
       "model_id": "f8b493fefe904418a180897b88a5e81e",
       "version_major": 2,
       "version_minor": 0
      },
      "text/plain": [
       "VBox(children=(NGLWidget(), IntSlider(value=0, max=24)))"
      ]
     },
     "metadata": {},
     "output_type": "display_data"
    }
   ],
   "source": [
    "view = nv.NGLWidget()\n",
    "\n",
    "slider = IntSlider(max=len(parms)-1)\n",
    "\n",
    "def show_one_ligand(change):\n",
    "    val = change['new']\n",
    "    view.show_only([val])\n",
    "    \n",
    "slider.observe(show_one_ligand, 'value')\n",
    "\n",
    "VBox([view, slider])"
   ]
  },
  {
   "cell_type": "code",
   "execution_count": 32,
   "metadata": {},
   "outputs": [],
   "source": [
    "for p in parms:\n",
    "    view.add_structure(nv.ParmEdTrajectory(p))\n",
    "view.show_only([0])"
   ]
  },
  {
   "cell_type": "code",
   "execution_count": null,
   "metadata": {},
   "outputs": [],
   "source": [
    "\n",
    "# [(view[i].clear(), view[i].add_licorice()) for i in range(4)]"
   ]
  }
 ],
 "metadata": {
  "kernelspec": {
   "display_name": "Python 3.9.13 ('moldrug')",
   "language": "python",
   "name": "python3"
  },
  "language_info": {
   "codemirror_mode": {
    "name": "ipython",
    "version": 3
   },
   "file_extension": ".py",
   "mimetype": "text/x-python",
   "name": "python",
   "nbconvert_exporter": "python",
   "pygments_lexer": "ipython3",
   "version": "3.9.13"
  },
  "orig_nbformat": 4,
  "vscode": {
   "interpreter": {
    "hash": "580997a69bc0f3991857025e1d93e87ed090e2c1fa4aff0ca8e9824f56baf8cb"
   }
  }
 },
 "nbformat": 4,
 "nbformat_minor": 2
}
