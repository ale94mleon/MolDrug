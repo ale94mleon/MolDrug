{
 "cells": [
  {
   "cell_type": "code",
   "execution_count": 1,
   "metadata": {},
   "outputs": [
    {
     "name": "stdout",
     "output_type": "stream",
     "text": [
      "Original shape of X: (837, 2248)\n",
      "New shape of X: (837, 2248)\n",
      "Pearson Correlation: 0.577\n",
      "Original shape of X: (1614, 2248)\n",
      "New shape of X: (1614, 2248)\n",
      "Pearson Correlation: 0.750\n",
      "Original shape of X: (6380, 2248)\n",
      "New shape of X: (6371, 2248)\n",
      "Pearson Correlation: 0.840\n"
     ]
    }
   ],
   "source": [
    "! python train_models.py"
   ]
  },
  {
   "cell_type": "code",
   "execution_count": 1,
   "metadata": {},
   "outputs": [
    {
     "name": "stdout",
     "output_type": "stream",
     "text": [
      "cost: 1.0 vina_score: -5.102 egfr: 4.60468737579499 clearance: 71.94426999999993 hppb: 1.498663344428202 clearance_copy: 71.94426999999993 hppb_copy: 1.498663344428202\n"
     ]
    }
   ],
   "source": [
    "from moldrug import utils\n",
    "from fitness_plus_models import Cost\n",
    "from rdkit import Chem\n",
    "import tempfile, os\n",
    "from moldrug.data import ligands, boxes, receptor_pdbqt\n",
    "tmp_path = tempfile.TemporaryDirectory()\n",
    "ligand_mol = Chem.MolFromSmiles(ligands.r_x0161)\n",
    "I = utils.Individual(ligand_mol)\n",
    "receptor_path = os.path.join(tmp_path.name,'receptor.pdbqt')\n",
    "with open(receptor_path, 'w') as r: r.write(receptor_pdbqt.r_x0161)\n",
    "box = boxes.r_x0161['A']\n",
    "\n",
    "# Using the default desirability\n",
    "NewI = Cost(\n",
    "    Individual = I,wd = tmp_path.name,\n",
    "    receptor_pdbqt_path = receptor_path,boxcenter = box['boxcenter'],\n",
    "    boxsize = box['boxsize'],exhaustiveness = 4,ncores = 4,\n",
    "    models = {\n",
    "        'egfr': 'egfr.jlib',\n",
    "        'hppb':  'hppb.jlib',\n",
    "        'hppb_copy':  'hppb.jlib',\n",
    "        'clearance': 'clearance.jlib',\n",
    "        'clearance_copy': 'clearance.jlib',\n",
    "\n",
    "    }, \n",
    "    desirability = {\n",
    "        'egfr': {\n",
    "            'w': 1,\n",
    "            'LargerTheBest': {\n",
    "                'LowerLimit': 4,\n",
    "                'Target':10,\n",
    "                'r': 1\n",
    "            }\n",
    "        },\n",
    "        'hppb': {\n",
    "            'w': 1,\n",
    "            'LargerTheBest': {\n",
    "                'LowerLimit': 25,\n",
    "                'Target':75,\n",
    "                'r': 1\n",
    "            }\n",
    "        },\n",
    "        'hppb_copy': {\n",
    "            'w': 1,\n",
    "            'LargerTheBest': {\n",
    "                'LowerLimit': 25,\n",
    "                'Target':75,\n",
    "                'r': 1\n",
    "            }\n",
    "        },\n",
    "        'clearance': {\n",
    "            'w': 1,\n",
    "            'SmallerTheBest': {\n",
    "                'Target': 20,\n",
    "                'UpperLimit': 125,\n",
    "                'r': 1\n",
    "            }\n",
    "        },\n",
    "        'clearance_copy': {\n",
    "            'w': 1,\n",
    "            'SmallerTheBest': {\n",
    "                'Target': 20,\n",
    "                'UpperLimit': 125,\n",
    "                'r': 1\n",
    "            }\n",
    "        },\n",
    "    }\n",
    "    \n",
    "    )\n",
    "print(\n",
    "    f\"cost: {NewI.cost}\",\n",
    "    f\"vina_score: {NewI.vina_score}\",\n",
    "    f\"egfr: {NewI.egfr}\",\n",
    "    f\"clearance: {NewI.clearance}\",\n",
    "    f\"hppb: {NewI.hppb}\",\n",
    "    f\"clearance_copy: {NewI.clearance_copy}\",\n",
    "    f\"hppb_copy: {NewI.hppb_copy}\",)\n"
   ]
  }
 ],
 "metadata": {
  "kernelspec": {
   "display_name": "Python 3.9.13 ('moldrug')",
   "language": "python",
   "name": "python3"
  },
  "language_info": {
   "codemirror_mode": {
    "name": "ipython",
    "version": 3
   },
   "file_extension": ".py",
   "mimetype": "text/x-python",
   "name": "python",
   "nbconvert_exporter": "python",
   "pygments_lexer": "ipython3",
   "version": "3.9.13"
  },
  "orig_nbformat": 4,
  "vscode": {
   "interpreter": {
    "hash": "580997a69bc0f3991857025e1d93e87ed090e2c1fa4aff0ca8e9824f56baf8cb"
   }
  }
 },
 "nbformat": 4,
 "nbformat_minor": 2
}
