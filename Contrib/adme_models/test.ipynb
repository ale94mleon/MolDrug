{
 "cells": [
  {
   "cell_type": "code",
   "execution_count": 3,
   "metadata": {},
   "outputs": [
    {
     "name": "stdout",
     "output_type": "stream",
     "text": [
      "837\n",
      "(837, 2248)\n",
      "Pearson Correlation: 0.570\n",
      "1614\n",
      "(1614, 2248)\n",
      "Pearson Correlation: 0.751\n"
     ]
    }
   ],
   "source": [
    "! python train_models.py"
   ]
  },
  {
   "cell_type": "code",
   "execution_count": 4,
   "metadata": {},
   "outputs": [
    {
     "name": "stdout",
     "output_type": "stream",
     "text": [
      "1.0 -5.148 75.55969999999996 1.4610343713898697 75.55969999999996 1.4610343713898706\n"
     ]
    }
   ],
   "source": [
    "from moldrug import utils\n",
    "from fitness_plus_admes import Cost\n",
    "from rdkit import Chem\n",
    "import tempfile, os\n",
    "from moldrug.data import ligands, boxes, receptor_pdbqt\n",
    "tmp_path = tempfile.TemporaryDirectory()\n",
    "ligand_mol = Chem.MolFromSmiles(ligands.r_x0161)\n",
    "I = utils.Individual(ligand_mol)\n",
    "receptor_path = os.path.join(tmp_path.name,'receptor.pdbqt')\n",
    "with open(receptor_path, 'w') as r: r.write(receptor_pdbqt.r_x0161)\n",
    "box = boxes.r_x0161['A']\n",
    "\n",
    "# Using the default desirability\n",
    "NewI = Cost(\n",
    "    Individual = I,wd = tmp_path.name,\n",
    "    receptor_pdbqt_path = receptor_path,boxcenter = box['boxcenter'],\n",
    "    boxsize = box['boxsize'],exhaustiveness = 4,ncores = 4,\n",
    "    adme_models = {\n",
    "        'hppb':  'hppb.jlib',\n",
    "        'hppb_copy':  'hppb.jlib',\n",
    "        'clearance': 'clearance.jlib',\n",
    "        'clearance_copy': 'clearance.jlib',\n",
    "    }, \n",
    "    desirability = {\n",
    "        'hppb': {\n",
    "            'w': 1,\n",
    "            'LargerTheBest': {\n",
    "                'LowerLimit': 25,\n",
    "                'Target':75,\n",
    "                'r': 1\n",
    "            }\n",
    "        },\n",
    "        'hppb_copy': {\n",
    "            'w': 1,\n",
    "            'LargerTheBest': {\n",
    "                'LowerLimit': 25,\n",
    "                'Target':75,\n",
    "                'r': 1\n",
    "            }\n",
    "        },\n",
    "        'clearance': {\n",
    "            'w': 1,\n",
    "            'SmallerTheBest': {\n",
    "                'Target': 20,\n",
    "                'UpperLimit': 125,\n",
    "                'r': 1\n",
    "            }\n",
    "        },\n",
    "        'clearance_copy': {\n",
    "            'w': 1,\n",
    "            'SmallerTheBest': {\n",
    "                'Target': 20,\n",
    "                'UpperLimit': 125,\n",
    "                'r': 1\n",
    "            }\n",
    "        },\n",
    "    }\n",
    "    \n",
    "    )\n",
    "print(NewI.cost, NewI.vina_score, NewI.clearance, NewI.hppb, NewI.clearance_copy, NewI.hppb_copy)\n"
   ]
  }
 ],
 "metadata": {
  "kernelspec": {
   "display_name": "Python 3.9.13 ('moldrug')",
   "language": "python",
   "name": "python3"
  },
  "language_info": {
   "codemirror_mode": {
    "name": "ipython",
    "version": 3
   },
   "file_extension": ".py",
   "mimetype": "text/x-python",
   "name": "python",
   "nbconvert_exporter": "python",
   "pygments_lexer": "ipython3",
   "version": "3.9.13"
  },
  "orig_nbformat": 4,
  "vscode": {
   "interpreter": {
    "hash": "580997a69bc0f3991857025e1d93e87ed090e2c1fa4aff0ca8e9824f56baf8cb"
   }
  }
 },
 "nbformat": 4,
 "nbformat_minor": 2
}
